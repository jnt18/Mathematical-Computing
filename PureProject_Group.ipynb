{
 "cells": [
  {
   "cell_type": "markdown",
   "id": "356da646-47e5-4ad8-b407-f75ca7179e17",
   "metadata": {},
   "source": [
    "# Introduction to Sudoku and it's relevance to mathematics and computational complexity:\n",
    "\n",
    "Sudoku puzzles, while popularly recognized as a recreational activity, embody profound mathematical and computational concepts. A solved Sudoku, essentially a special case of Latin squares, represents an n **2 x n **2 grid populated with n distinct numbers. These numbers are arranged so that each appears exactly once in every row and column, with the additional constraint that each number must also appear exactly once in each of the n subgrids. This structure not only captivates puzzle enthusiasts but also offers a rich canvas for mathematical exploration.\n",
    "\n",
    "From a computational perspective, Sudoku presents a fascinating case study as an NP-Complete problem. This classification is pivotal in computational theory, characterized by two foundational properties:\n",
    "\n",
    "1. Verifiability: The term NP denotes \"Non-deterministic Polynomial time,\" highlighting that for any proposed solution to a problem, it's possible to verify its correctness within polynomial time. This attribute is crucial, ensuring that the verification process remains feasible even as problem sizes increase.\n",
    "\n",
    "2. Transformation: A hallmark of NP-Completeness is the ability of every problem classified under NP to be transformed or reduced to any NP-Complete problem in polynomial time. Thus, solving an NP-Complete problem like Sudoku in polynomial time would imply a breakthrough in solving all NP problems, potentially revolutionizing fields such as bioinformatics, where it could impact the understanding and treatment of diseases through protein folding analysis.\n",
    "\n",
    "The genesis of Sudoku as a specialized Latin square traces back further than often acknowledged, predating Leonhard Euler, a figure frequently associated with the concept. Remarkably, the inception of such puzzles can be traced to Choi Seok-jeong, a Korean mathematician who introduced these principles at least 67 years prior to Euler's contributions. The modern incarnation of Sudoku, however, emerged from Japan, where the puzzle company Nikoli introduced the distinctive rule concerning the uniqueness of numbers within subgrids. The term \"Sudoku\" itself is derived from the Japanese phrase \"suuji wa dokushin ni kagiru,\" translating to \"the numbers must remain single,\"  capturing the essence of the puzzle.\n",
    "\n",
    "Beyond their mathematical intrigue, Sudoku puzzles offer pragmatic insights into challenges encountered in graph theory, such as optimization problems akin to scheduling or frequency assignment. The analogy of filling a Sudoku grid mirrors the complexity of allocating resources like meeting times or broadcast frequencies without overlap, underscoring Sudoku's relevance in modeling and solving real-world problems through graph coloring techniques.\n",
    "\n",
    "This exploration into Sudoku, from its historical roots to its implications in mathematical and computational theory, highlights the enduring fascination and utility of these puzzles. Through the lens of Sudoku, we gain a deeper appreciation for the intricate dance between numbers, logic, and the quest for order amidst complexity."
   ]
  },
  {
   "cell_type": "markdown",
   "id": "6929c8fe-f1f3-46a7-ae0f-9930f7631cd4",
   "metadata": {},
   "source": [
    "References:\n",
    "\n",
    "Guyeux, Christophe, Nathalie M-L Côté, Jacques M Bahi, and Wojciech Bienia. \"Is protein folding problem really a NP-complete one? First investigations.\" IEEE Explore, 2014. https://pubmed.ncbi.nlm.nih.gov/24467756/.\n",
    "\n",
    "Choi, Seok-jeong. \"Early Work on Latin Square Puzzles.\" Journal of Korean Mathematical Society 1650.\n",
    "\n",
    "Euler, L. \"An Observation on a New Type of Magic Square.\" Commentarii academiae scientiarum imperialis Petropolitanae 1776.\n",
    "\n",
    "Goldreich, Oded. P, NP, and NP-Completeness: The Basics of Computational Complexity. Cambridge University Press, 2010."
   ]
  },
  {
   "cell_type": "code",
   "execution_count": null,
   "id": "898f0b71-a5d0-4651-a2ec-c72f2c03ad1b",
   "metadata": {},
   "outputs": [],
   "source": []
  },
  {
   "cell_type": "code",
   "execution_count": 1,
   "id": "c5e5fe8f-c1f6-4a04-a6b7-d0954f77334f",
   "metadata": {
    "execution": {
     "iopub.execute_input": "2024-03-08T13:49:30.374446Z",
     "iopub.status.busy": "2024-03-08T13:49:30.373804Z",
     "iopub.status.idle": "2024-03-08T13:49:31.807028Z",
     "shell.execute_reply": "2024-03-08T13:49:31.806088Z",
     "shell.execute_reply.started": "2024-03-08T13:49:30.374389Z"
    }
   },
   "outputs": [],
   "source": [
    "import gzip\n",
    "import pickle\n",
    "import numpy as np\n",
    "import networkx as nx\n",
    "import matplotlib.pyplot as plt\n",
    "import seaborn as sb\n",
    "from timeit import default_timer as timer"
   ]
  },
  {
   "cell_type": "code",
   "execution_count": 2,
   "id": "408609a0-2223-48f5-99d3-0b2f7da19df5",
   "metadata": {
    "execution": {
     "iopub.execute_input": "2024-03-08T13:49:31.808910Z",
     "iopub.status.busy": "2024-03-08T13:49:31.808587Z",
     "iopub.status.idle": "2024-03-08T13:49:31.852966Z",
     "shell.execute_reply": "2024-03-08T13:49:31.852097Z",
     "shell.execute_reply.started": "2024-03-08T13:49:31.808887Z"
    }
   },
   "outputs": [],
   "source": [
    "\n",
    "with gzip.open(\"unique-3x3.tar.gz\", \"rb\") as f:\n",
    "    unique_3x3 = pickle.load(f)\n",
    "    \n",
    "unique_arr = np.array(unique_3x3)\n",
    "sample_board = unique_arr[0]\n",
    "# unique_arr\n",
    "\n",
    "with gzip.open(\"non-unique-3x3.tar.gz\", \"rb\") as f:\n",
    "    non_unique_3x3 = pickle.load(f)\n",
    "\n",
    "non_unique_arr = np.array(non_unique_3x3)\n",
    "sample_non_unique_board = non_unique_arr[0]\n",
    "# non_unique_arr"
   ]
  },
  {
   "cell_type": "markdown",
   "id": "39fd2c4d-8945-4f4d-97a8-a5a185cc79c7",
   "metadata": {
    "tags": []
   },
   "source": [
    "# Part 1\n",
    "\n",
    "### Load samples"
   ]
  },
  {
   "cell_type": "markdown",
   "id": "8cda7b61-524b-4276-9879-ca7c1a8ed323",
   "metadata": {},
   "source": [
    "Loading two sets of Sudoku puzzle samples, one with unique solutions and another without unique solutions"
   ]
  },
  {
   "cell_type": "code",
   "execution_count": 3,
   "id": "876cc602-e2cb-4d0c-b590-ba567a8f8a43",
   "metadata": {
    "execution": {
     "iopub.execute_input": "2024-03-08T13:49:31.853957Z",
     "iopub.status.busy": "2024-03-08T13:49:31.853657Z",
     "iopub.status.idle": "2024-03-08T13:49:31.859364Z",
     "shell.execute_reply": "2024-03-08T13:49:31.858500Z",
     "shell.execute_reply.started": "2024-03-08T13:49:31.853927Z"
    },
    "tags": []
   },
   "outputs": [],
   "source": [
    "with gzip.open(\"unique-3x3.tar.gz\", \"rb\") as f:\n",
    "    unique_3x3 = pickle.load(f)"
   ]
  },
  {
   "cell_type": "code",
   "execution_count": 4,
   "id": "d04c70bd-2b91-4cd0-83ab-52bb45caa56a",
   "metadata": {
    "execution": {
     "iopub.execute_input": "2024-03-08T13:49:31.861289Z",
     "iopub.status.busy": "2024-03-08T13:49:31.860973Z",
     "iopub.status.idle": "2024-03-08T13:49:31.874025Z",
     "shell.execute_reply": "2024-03-08T13:49:31.872992Z",
     "shell.execute_reply.started": "2024-03-08T13:49:31.861259Z"
    },
    "tags": []
   },
   "outputs": [],
   "source": [
    "unique_arr = np.array(unique_3x3)\n",
    "sample_board = unique_arr[0]\n",
    "# unique_arr"
   ]
  },
  {
   "cell_type": "code",
   "execution_count": 5,
   "id": "55b74ec1-4d36-45a1-900a-bcceec4919ab",
   "metadata": {
    "execution": {
     "iopub.execute_input": "2024-03-08T13:49:31.875066Z",
     "iopub.status.busy": "2024-03-08T13:49:31.874819Z",
     "iopub.status.idle": "2024-03-08T13:49:31.891496Z",
     "shell.execute_reply": "2024-03-08T13:49:31.890265Z",
     "shell.execute_reply.started": "2024-03-08T13:49:31.875022Z"
    }
   },
   "outputs": [],
   "source": [
    "with gzip.open(\"non-unique-3x3.tar.gz\", \"rb\") as f:\n",
    "    non_unique_3x3 = pickle.load(f)"
   ]
  },
  {
   "cell_type": "code",
   "execution_count": 6,
   "id": "b4fe93f3-9b1d-4944-876e-5f6047bbfda0",
   "metadata": {
    "execution": {
     "iopub.execute_input": "2024-03-08T13:49:31.892654Z",
     "iopub.status.busy": "2024-03-08T13:49:31.892433Z",
     "iopub.status.idle": "2024-03-08T13:49:31.906310Z",
     "shell.execute_reply": "2024-03-08T13:49:31.904999Z",
     "shell.execute_reply.started": "2024-03-08T13:49:31.892632Z"
    },
    "tags": []
   },
   "outputs": [],
   "source": [
    "non_unique_arr = np.array(non_unique_3x3)\n",
    "sample_non_unique_board = non_unique_arr[0]\n",
    "# non_unique_arr"
   ]
  },
  {
   "cell_type": "markdown",
   "id": "12b62452-cd97-4ff5-b4b6-9a3ac510e5af",
   "metadata": {
    "tags": []
   },
   "source": [
    "### Implement backtrack with partial solutions"
   ]
  },
  {
   "cell_type": "markdown",
   "id": "82718a38-b972-4877-bbb6-7ffd8956dcec",
   "metadata": {},
   "source": [
    "Two functions, is_consistent_colouring and backtrack_k_colouring_partial, are implemented to perform the graph colouring.\n",
    "\n",
    "The is_consistent_colouring function checks if a given coloring of the vertices (cells in the Sudoku puzzle) is valid by ensuring no adjacent vertices share the same color - number in the context of Sudoku."
   ]
  },
  {
   "cell_type": "code",
   "execution_count": 7,
   "id": "21a50091-c1a3-4e6d-a920-040ece61adcb",
   "metadata": {
    "execution": {
     "iopub.execute_input": "2024-03-08T13:49:31.907473Z",
     "iopub.status.busy": "2024-03-08T13:49:31.907209Z",
     "iopub.status.idle": "2024-03-08T13:49:31.924221Z",
     "shell.execute_reply": "2024-03-08T13:49:31.923158Z",
     "shell.execute_reply.started": "2024-03-08T13:49:31.907438Z"
    },
    "tags": []
   },
   "outputs": [],
   "source": [
    "def is_consistent_colouring(G, colours, v, verbose=False):\n",
    "    # Check that no neighbour of v shares that colour\n",
    "    for u in G.neighbors(v):\n",
    "        if colours[u] == colours[v]:\n",
    "            if verbose:\n",
    "                print(f\"{colours} is not consistent because of the edge {set([u, v])}, will not extend it\")\n",
    "            return False\n",
    "\n",
    "    if verbose:\n",
    "        print(f\"{colours} seems consistent, will try to extend it\")\n",
    "    return True"
   ]
  },
  {
   "cell_type": "markdown",
   "id": "5b974adc-19fc-477f-9ad9-77446d998412",
   "metadata": {},
   "source": [
    "The backtrack_k_colouring_partial function is a recursive backtracking algorithm that tries to color a graph, or the Sudoku board, with k colors. It respects the constraints of the coloring - the Sudoku rules."
   ]
  },
  {
   "cell_type": "code",
   "execution_count": 8,
   "id": "9973b7c1-f3c1-4473-85a5-a4a6c5dd55f3",
   "metadata": {
    "execution": {
     "iopub.execute_input": "2024-03-08T13:49:31.925087Z",
     "iopub.status.busy": "2024-03-08T13:49:31.924843Z",
     "iopub.status.idle": "2024-03-08T13:49:31.941269Z",
     "shell.execute_reply": "2024-03-08T13:49:31.940362Z",
     "shell.execute_reply.started": "2024-03-08T13:49:31.925066Z"
    }
   },
   "outputs": [],
   "source": [
    "def backtrack_k_colouring_partial(G, initial_values, k, verbose=False):\n",
    "    # Line 1: Initialise the data we need.\n",
    "    # Use initial_values to hold the initial partial state of the graph.\n",
    "    colours = []\n",
    "    colours.extend(initial_values)\n",
    "    \n",
    "    n = len(G.nodes())\n",
    "    \n",
    "    def next_cell():\n",
    "        for i in range(len(colours)):\n",
    "            if colours[i] == 0:\n",
    "                return i\n",
    "        return None\n",
    "\n",
    "    # Define the recursive backtrack function\n",
    "    def dive():\n",
    "        # Find the next vertex (cell) to color\n",
    "        v = next_cell()\n",
    "        \n",
    "        # All cells are coloured so there is a solution\n",
    "        if v is None:\n",
    "            # Check that it is a full solution\n",
    "            for u, v in G.edges():\n",
    "                if colours[u] == colours[v]:\n",
    "                    # This is not a valid colouring\n",
    "                    return None\n",
    "                \n",
    "            if verbose:\n",
    "                print(f\"{colours} is a full solution, returning it up the chain\")\n",
    "            \n",
    "            return colours\n",
    "\n",
    "        # Go through each way of extending partial solution\n",
    "        for col in range(1, k + 1):\n",
    "            # Temporarily extend partial solution\n",
    "            colours[v] = col\n",
    "            \n",
    "            # Check temporary solution\n",
    "            if is_consistent_colouring(G, colours, v, verbose):\n",
    "                res = dive()\n",
    "                \n",
    "                # If a solution is returned, it means its a correct one\n",
    "                if res is not None:\n",
    "                    return res\n",
    "\n",
    "            # Get rid of temporary solution\n",
    "            colours[v] = 0\n",
    "\n",
    "        # No solution found from this partial solution, return None\n",
    "        if verbose:\n",
    "            print(f\"{colours} seemed consistent but couldn't be extended\")\n",
    "            \n",
    "        return None\n",
    "\n",
    "    # Line 10: Trigger recursion\n",
    "    return dive()\n"
   ]
  },
  {
   "cell_type": "markdown",
   "id": "0d6a8669-695d-4929-9bf6-38bffd2ba5b0",
   "metadata": {},
   "source": [
    "### Implement function that puts a sudoku board on a graph\n",
    "##### Nodes are considered adjacent if they are on the same row, column or box. This is to ensure that each row, column and box have one of each \"colour\" or number\n",
    "The array_to_graph function converts a Sudoku board into a graph where each cell is a vertex, and edges are added between vertices that cannot share the same number according to Sudoku rules (same row, column, or box).\n"
   ]
  },
  {
   "cell_type": "code",
   "execution_count": 9,
   "id": "c9e5c911-522b-4f1c-9932-60058dc07e84",
   "metadata": {
    "execution": {
     "iopub.execute_input": "2024-03-08T13:49:31.942297Z",
     "iopub.status.busy": "2024-03-08T13:49:31.942031Z",
     "iopub.status.idle": "2024-03-08T13:49:31.957452Z",
     "shell.execute_reply": "2024-03-08T13:49:31.956335Z",
     "shell.execute_reply.started": "2024-03-08T13:49:31.942275Z"
    }
   },
   "outputs": [],
   "source": [
    "def array_to_graph(sudoku_board, n):\n",
    "    # Initialize an empty graph\n",
    "    G = nx.Graph()\n",
    "    \n",
    "    # Add nodes for each cell in the Sudoku board\n",
    "    for i in range(n**4):\n",
    "        G.add_node(i)\n",
    "    \n",
    "    # Helper function to get the box index\n",
    "    def box_index(row, col):\n",
    "        return (row // n) * n + (col // n)\n",
    "    \n",
    "    # Add edges based on Sudoku constraints\n",
    "    for i in range(n**4):\n",
    "        row_i, col_i = divmod(i, n**2)\n",
    "        box_i = box_index(row_i, col_i)\n",
    "        \n",
    "        for j in range(i + 1, n**4):\n",
    "            row_j, col_j = divmod(j, n**2)\n",
    "            box_j = box_index(row_j, col_j)\n",
    "            \n",
    "            # Check if cells are in the same row, column, or box\n",
    "            if row_i == row_j or col_i == col_j or box_i == box_j:\n",
    "                G.add_edge(i, j)\n",
    "    \n",
    "    return G"
   ]
  },
  {
   "cell_type": "markdown",
   "id": "1da6a9a9-2f35-4cfb-bf0e-3d55e454a03a",
   "metadata": {},
   "source": [
    "### Test the solution"
   ]
  },
  {
   "cell_type": "code",
   "execution_count": 10,
   "id": "8a0e14c0-aed3-47db-8d60-9fc4a1e0c628",
   "metadata": {
    "execution": {
     "iopub.execute_input": "2024-03-08T13:49:31.960783Z",
     "iopub.status.busy": "2024-03-08T13:49:31.960539Z",
     "iopub.status.idle": "2024-03-08T13:49:31.972678Z",
     "shell.execute_reply": "2024-03-08T13:49:31.971797Z",
     "shell.execute_reply.started": "2024-03-08T13:49:31.960762Z"
    }
   },
   "outputs": [],
   "source": [
    "def test_solution(G, board, n):\n",
    "    for i in range(len(board)):\n",
    "        if not is_consistent_colouring(G, board, i):\n",
    "            return False\n",
    "    \n",
    "    return True"
   ]
  },
  {
   "cell_type": "code",
   "execution_count": 11,
   "id": "c6fb11aa-c84c-4631-9a82-3f3f3cd3b874",
   "metadata": {
    "execution": {
     "iopub.execute_input": "2024-03-08T13:49:31.973730Z",
     "iopub.status.busy": "2024-03-08T13:49:31.973491Z",
     "iopub.status.idle": "2024-03-08T13:49:31.988117Z",
     "shell.execute_reply": "2024-03-08T13:49:31.987126Z",
     "shell.execute_reply.started": "2024-03-08T13:49:31.973709Z"
    },
    "tags": []
   },
   "outputs": [],
   "source": [
    "def solve_board(board, n):\n",
    "    G = array_to_graph(board, n)\n",
    "    \n",
    "    back_res = backtrack_k_colouring_partial(G, board, n**2)\n",
    "\n",
    "    if not test_solution(G, back_res, n):\n",
    "        raise Exception(\"Incorrect solution\")\n",
    "\n",
    "    nd_res = []\n",
    "    for i in range(0, len(back_res), n**2):\n",
    "        nd_res.append(back_res[i:i+(n**2)])\n",
    "\n",
    "    return nd_res"
   ]
  },
  {
   "cell_type": "markdown",
   "id": "9148f97a-95d6-4eb7-869a-f8d99630c801",
   "metadata": {
    "tags": []
   },
   "source": [
    "### Finalise solution"
   ]
  },
  {
   "cell_type": "markdown",
   "id": "fba75b74-78b2-4b36-968c-a7a2d0cfc37b",
   "metadata": {
    "tags": []
   },
   "source": [
    "#### Unique set"
   ]
  },
  {
   "cell_type": "code",
   "execution_count": 12,
   "id": "a5ff57d8-834e-4dc6-b72b-755c67a70de6",
   "metadata": {
    "execution": {
     "iopub.execute_input": "2024-03-08T13:49:31.989073Z",
     "iopub.status.busy": "2024-03-08T13:49:31.988851Z",
     "iopub.status.idle": "2024-03-08T13:49:32.586919Z",
     "shell.execute_reply": "2024-03-08T13:49:32.585892Z",
     "shell.execute_reply.started": "2024-03-08T13:49:31.989054Z"
    },
    "tags": []
   },
   "outputs": [
    {
     "data": {
      "text/plain": [
       "[[[5, 3, 4, 2, 8, 7, 1, 6, 9],\n",
       "  [8, 1, 7, 5, 6, 9, 2, 3, 4],\n",
       "  [2, 6, 9, 1, 4, 3, 5, 8, 7],\n",
       "  [4, 2, 1, 7, 9, 6, 8, 5, 3],\n",
       "  [3, 8, 6, 4, 1, 5, 7, 9, 2],\n",
       "  [7, 9, 5, 3, 2, 8, 6, 4, 1],\n",
       "  [9, 5, 2, 8, 3, 1, 4, 7, 6],\n",
       "  [1, 7, 3, 6, 5, 4, 9, 2, 8],\n",
       "  [6, 4, 8, 9, 7, 2, 3, 1, 5]],\n",
       " [[1, 8, 9, 2, 5, 3, 4, 6, 7],\n",
       "  [4, 7, 2, 1, 6, 8, 9, 5, 3],\n",
       "  [3, 5, 6, 4, 9, 7, 8, 1, 2],\n",
       "  [8, 3, 4, 5, 2, 1, 7, 9, 6],\n",
       "  [9, 2, 1, 7, 4, 6, 3, 8, 5],\n",
       "  [5, 6, 7, 3, 8, 9, 2, 4, 1],\n",
       "  [6, 4, 3, 8, 1, 2, 5, 7, 9],\n",
       "  [7, 9, 5, 6, 3, 4, 1, 2, 8],\n",
       "  [2, 1, 8, 9, 7, 5, 6, 3, 4]],\n",
       " [[6, 1, 2, 4, 5, 7, 9, 3, 8],\n",
       "  [8, 5, 3, 6, 1, 9, 7, 4, 2],\n",
       "  [4, 7, 9, 3, 2, 8, 6, 5, 1],\n",
       "  [2, 3, 1, 7, 6, 5, 8, 9, 4],\n",
       "  [5, 9, 4, 1, 8, 2, 3, 7, 6],\n",
       "  [7, 8, 6, 9, 4, 3, 1, 2, 5],\n",
       "  [9, 4, 8, 5, 3, 6, 2, 1, 7],\n",
       "  [1, 2, 7, 8, 9, 4, 5, 6, 3],\n",
       "  [3, 6, 5, 2, 7, 1, 4, 8, 9]],\n",
       " [[1, 2, 3, 6, 8, 4, 5, 9, 7],\n",
       "  [7, 9, 5, 1, 2, 3, 4, 6, 8],\n",
       "  [6, 4, 8, 7, 5, 9, 3, 2, 1],\n",
       "  [4, 8, 1, 3, 9, 6, 7, 5, 2],\n",
       "  [9, 5, 6, 2, 7, 1, 8, 4, 3],\n",
       "  [3, 7, 2, 8, 4, 5, 6, 1, 9],\n",
       "  [8, 6, 9, 4, 1, 7, 2, 3, 5],\n",
       "  [2, 1, 4, 5, 3, 8, 9, 7, 6],\n",
       "  [5, 3, 7, 9, 6, 2, 1, 8, 4]],\n",
       " [[5, 4, 9, 1, 3, 6, 8, 2, 7],\n",
       "  [2, 6, 7, 5, 8, 9, 3, 4, 1],\n",
       "  [3, 8, 1, 4, 2, 7, 5, 9, 6],\n",
       "  [7, 1, 4, 8, 9, 2, 6, 5, 3],\n",
       "  [9, 3, 5, 6, 4, 1, 7, 8, 2],\n",
       "  [8, 2, 6, 3, 7, 5, 9, 1, 4],\n",
       "  [6, 9, 3, 2, 5, 4, 1, 7, 8],\n",
       "  [1, 5, 2, 7, 6, 8, 4, 3, 9],\n",
       "  [4, 7, 8, 9, 1, 3, 2, 6, 5]],\n",
       " [[3, 6, 5, 7, 2, 1, 4, 8, 9],\n",
       "  [1, 9, 7, 4, 8, 3, 2, 6, 5],\n",
       "  [4, 2, 8, 5, 9, 6, 1, 7, 3],\n",
       "  [8, 4, 9, 2, 1, 7, 3, 5, 6],\n",
       "  [2, 3, 1, 6, 5, 9, 8, 4, 7],\n",
       "  [7, 5, 6, 3, 4, 8, 9, 1, 2],\n",
       "  [6, 7, 2, 1, 3, 4, 5, 9, 8],\n",
       "  [9, 1, 3, 8, 6, 5, 7, 2, 4],\n",
       "  [5, 8, 4, 9, 7, 2, 6, 3, 1]],\n",
       " [[7, 2, 4, 1, 6, 5, 8, 3, 9],\n",
       "  [5, 3, 6, 4, 9, 8, 1, 7, 2],\n",
       "  [1, 8, 9, 2, 3, 7, 6, 4, 5],\n",
       "  [4, 1, 8, 6, 2, 9, 3, 5, 7],\n",
       "  [9, 7, 3, 8, 5, 1, 2, 6, 4],\n",
       "  [6, 5, 2, 3, 7, 4, 9, 1, 8],\n",
       "  [3, 6, 5, 7, 8, 2, 4, 9, 1],\n",
       "  [2, 4, 7, 9, 1, 3, 5, 8, 6],\n",
       "  [8, 9, 1, 5, 4, 6, 7, 2, 3]],\n",
       " [[3, 8, 6, 2, 7, 9, 1, 4, 5],\n",
       "  [2, 1, 9, 5, 4, 6, 7, 3, 8],\n",
       "  [5, 4, 7, 8, 1, 3, 9, 2, 6],\n",
       "  [4, 2, 1, 7, 9, 5, 6, 8, 3],\n",
       "  [6, 9, 5, 3, 8, 4, 2, 1, 7],\n",
       "  [7, 3, 8, 6, 2, 1, 5, 9, 4],\n",
       "  [1, 6, 2, 4, 3, 7, 8, 5, 9],\n",
       "  [8, 5, 4, 9, 6, 2, 3, 7, 1],\n",
       "  [9, 7, 3, 1, 5, 8, 4, 6, 2]],\n",
       " [[1, 6, 4, 2, 9, 3, 5, 7, 8],\n",
       "  [9, 7, 8, 4, 1, 5, 2, 3, 6],\n",
       "  [5, 2, 3, 8, 6, 7, 1, 4, 9],\n",
       "  [7, 1, 6, 5, 3, 9, 4, 8, 2],\n",
       "  [4, 8, 5, 1, 2, 6, 3, 9, 7],\n",
       "  [2, 3, 9, 7, 8, 4, 6, 5, 1],\n",
       "  [8, 4, 1, 3, 7, 2, 9, 6, 5],\n",
       "  [6, 5, 2, 9, 4, 8, 7, 1, 3],\n",
       "  [3, 9, 7, 6, 5, 1, 8, 2, 4]],\n",
       " [[1, 6, 2, 5, 8, 7, 4, 3, 9],\n",
       "  [7, 5, 4, 6, 3, 9, 2, 1, 8],\n",
       "  [3, 8, 9, 1, 2, 4, 5, 6, 7],\n",
       "  [6, 4, 1, 3, 9, 8, 7, 2, 5],\n",
       "  [9, 2, 8, 7, 5, 6, 1, 4, 3],\n",
       "  [5, 3, 7, 4, 1, 2, 9, 8, 6],\n",
       "  [2, 7, 6, 9, 4, 3, 8, 5, 1],\n",
       "  [4, 9, 5, 8, 6, 1, 3, 7, 2],\n",
       "  [8, 1, 3, 2, 7, 5, 6, 9, 4]]]"
      ]
     },
     "execution_count": 12,
     "metadata": {},
     "output_type": "execute_result"
    }
   ],
   "source": [
    "solutions = []\n",
    "for board in unique_arr:\n",
    "    s = solve_board(board, 3)\n",
    "    solutions.append(s)\n",
    "\n",
    "solutions"
   ]
  },
  {
   "cell_type": "markdown",
   "id": "c25b9e81-2877-44c8-a6f6-6f958548a667",
   "metadata": {},
   "source": [
    "#### Non-unique set"
   ]
  },
  {
   "cell_type": "code",
   "execution_count": 13,
   "id": "5faac32c-0285-432a-9e77-ee04541f9685",
   "metadata": {
    "execution": {
     "iopub.execute_input": "2024-03-08T13:49:32.588167Z",
     "iopub.status.busy": "2024-03-08T13:49:32.587927Z",
     "iopub.status.idle": "2024-03-08T13:49:32.817257Z",
     "shell.execute_reply": "2024-03-08T13:49:32.816264Z",
     "shell.execute_reply.started": "2024-03-08T13:49:32.588143Z"
    },
    "tags": []
   },
   "outputs": [
    {
     "data": {
      "text/plain": [
       "[[[1, 3, 5, 7, 6, 8, 2, 4, 9],\n",
       "  [4, 7, 8, 2, 3, 9, 5, 1, 6],\n",
       "  [2, 9, 6, 5, 1, 4, 3, 7, 8],\n",
       "  [5, 4, 1, 3, 9, 7, 8, 6, 2],\n",
       "  [6, 2, 7, 4, 8, 5, 1, 9, 3],\n",
       "  [3, 8, 9, 1, 2, 6, 4, 5, 7],\n",
       "  [7, 6, 2, 8, 5, 1, 9, 3, 4],\n",
       "  [8, 5, 4, 9, 7, 3, 6, 2, 1],\n",
       "  [9, 1, 3, 6, 4, 2, 7, 8, 5]],\n",
       " [[1, 4, 3, 6, 2, 8, 5, 7, 9],\n",
       "  [7, 8, 9, 1, 5, 3, 4, 2, 6],\n",
       "  [2, 5, 6, 4, 9, 7, 1, 3, 8],\n",
       "  [4, 3, 7, 9, 8, 1, 2, 6, 5],\n",
       "  [9, 1, 2, 5, 7, 6, 3, 8, 4],\n",
       "  [8, 6, 5, 3, 4, 2, 7, 9, 1],\n",
       "  [5, 2, 4, 7, 6, 9, 8, 1, 3],\n",
       "  [6, 7, 1, 8, 3, 5, 9, 4, 2],\n",
       "  [3, 9, 8, 2, 1, 4, 6, 5, 7]],\n",
       " [[1, 2, 3, 7, 9, 4, 6, 8, 5],\n",
       "  [5, 4, 7, 1, 8, 6, 3, 2, 9],\n",
       "  [6, 8, 9, 3, 2, 5, 1, 4, 7],\n",
       "  [7, 6, 1, 2, 4, 3, 5, 9, 8],\n",
       "  [4, 5, 8, 9, 1, 7, 2, 6, 3],\n",
       "  [3, 9, 2, 5, 6, 8, 4, 7, 1],\n",
       "  [2, 7, 5, 6, 3, 9, 8, 1, 4],\n",
       "  [9, 1, 4, 8, 5, 2, 7, 3, 6],\n",
       "  [8, 3, 6, 4, 7, 1, 9, 5, 2]],\n",
       " [[1, 3, 4, 7, 8, 6, 5, 2, 9],\n",
       "  [2, 6, 9, 4, 1, 5, 8, 3, 7],\n",
       "  [5, 8, 7, 2, 3, 9, 4, 6, 1],\n",
       "  [6, 7, 8, 5, 4, 1, 2, 9, 3],\n",
       "  [3, 1, 2, 9, 6, 8, 7, 5, 4],\n",
       "  [4, 9, 5, 3, 7, 2, 6, 1, 8],\n",
       "  [7, 5, 1, 8, 2, 3, 9, 4, 6],\n",
       "  [8, 2, 6, 1, 9, 4, 3, 7, 5],\n",
       "  [9, 4, 3, 6, 5, 7, 1, 8, 2]],\n",
       " [[3, 2, 1, 4, 6, 5, 7, 8, 9],\n",
       "  [7, 9, 8, 1, 2, 3, 4, 5, 6],\n",
       "  [4, 5, 6, 9, 7, 8, 2, 1, 3],\n",
       "  [2, 8, 5, 6, 3, 9, 1, 4, 7],\n",
       "  [9, 4, 3, 7, 1, 2, 5, 6, 8],\n",
       "  [6, 1, 7, 5, 8, 4, 9, 3, 2],\n",
       "  [1, 3, 2, 8, 5, 7, 6, 9, 4],\n",
       "  [8, 6, 9, 2, 4, 1, 3, 7, 5],\n",
       "  [5, 7, 4, 3, 9, 6, 8, 2, 1]],\n",
       " [[5, 7, 4, 1, 6, 8, 2, 9, 3],\n",
       "  [1, 6, 3, 7, 2, 9, 4, 8, 5],\n",
       "  [2, 9, 8, 3, 5, 4, 6, 7, 1],\n",
       "  [4, 2, 9, 8, 3, 7, 1, 5, 6],\n",
       "  [6, 8, 1, 2, 9, 5, 3, 4, 7],\n",
       "  [3, 5, 7, 4, 1, 6, 8, 2, 9],\n",
       "  [9, 4, 5, 6, 8, 3, 7, 1, 2],\n",
       "  [7, 3, 2, 5, 4, 1, 9, 6, 8],\n",
       "  [8, 1, 6, 9, 7, 2, 5, 3, 4]],\n",
       " [[4, 3, 6, 1, 5, 2, 8, 7, 9],\n",
       "  [5, 1, 8, 3, 9, 7, 6, 4, 2],\n",
       "  [7, 9, 2, 4, 8, 6, 5, 3, 1],\n",
       "  [8, 4, 9, 7, 2, 3, 1, 6, 5],\n",
       "  [2, 6, 7, 5, 1, 4, 9, 8, 3],\n",
       "  [3, 5, 1, 9, 6, 8, 4, 2, 7],\n",
       "  [1, 2, 4, 6, 7, 5, 3, 9, 8],\n",
       "  [6, 7, 5, 8, 3, 9, 2, 1, 4],\n",
       "  [9, 8, 3, 2, 4, 1, 7, 5, 6]],\n",
       " [[1, 8, 9, 5, 4, 3, 2, 7, 6],\n",
       "  [3, 6, 2, 1, 7, 9, 5, 8, 4],\n",
       "  [4, 7, 5, 2, 6, 8, 1, 3, 9],\n",
       "  [5, 4, 1, 6, 9, 7, 3, 2, 8],\n",
       "  [2, 9, 8, 3, 5, 1, 4, 6, 7],\n",
       "  [6, 3, 7, 8, 2, 4, 9, 1, 5],\n",
       "  [7, 1, 6, 9, 3, 5, 8, 4, 2],\n",
       "  [9, 2, 3, 4, 8, 6, 7, 5, 1],\n",
       "  [8, 5, 4, 7, 1, 2, 6, 9, 3]],\n",
       " [[1, 7, 5, 3, 8, 9, 4, 6, 2],\n",
       "  [3, 6, 8, 4, 2, 7, 9, 5, 1],\n",
       "  [2, 4, 9, 6, 5, 1, 3, 8, 7],\n",
       "  [6, 3, 7, 1, 9, 8, 2, 4, 5],\n",
       "  [4, 8, 1, 5, 3, 2, 7, 9, 6],\n",
       "  [5, 9, 2, 7, 4, 6, 8, 1, 3],\n",
       "  [9, 5, 3, 2, 1, 4, 6, 7, 8],\n",
       "  [8, 1, 6, 9, 7, 3, 5, 2, 4],\n",
       "  [7, 2, 4, 8, 6, 5, 1, 3, 9]],\n",
       " [[1, 4, 8, 3, 2, 9, 5, 6, 7],\n",
       "  [7, 5, 9, 1, 6, 4, 3, 2, 8],\n",
       "  [2, 3, 6, 7, 5, 8, 1, 4, 9],\n",
       "  [4, 2, 5, 8, 1, 7, 6, 9, 3],\n",
       "  [6, 1, 7, 5, 9, 3, 2, 8, 4],\n",
       "  [8, 9, 3, 2, 4, 6, 7, 5, 1],\n",
       "  [3, 7, 2, 4, 8, 5, 9, 1, 6],\n",
       "  [5, 6, 4, 9, 3, 1, 8, 7, 2],\n",
       "  [9, 8, 1, 6, 7, 2, 4, 3, 5]]]"
      ]
     },
     "execution_count": 13,
     "metadata": {},
     "output_type": "execute_result"
    }
   ],
   "source": [
    "solutions = []\n",
    "for board in non_unique_arr:\n",
    "    s = solve_board(board, 3)\n",
    "    solutions.append(s)\n",
    "\n",
    "solutions"
   ]
  },
  {
   "cell_type": "markdown",
   "id": "5feb9375-911d-4deb-9021-d429d821989a",
   "metadata": {},
   "source": [
    "This report offers implementation that leverages graph coloring algorithms to resolve Sudoku puzzles in Python. The code utilizes graph theory to match the Sudoku constraints, then it applies a backtracking method to explore solution spaces, thereby offering multiple solutions.\n",
    " \n",
    "### Implementation Description\n",
    " \n",
    "We begin by importing necessary libraries and loading Sudoku puzzles from the given files, which include puzzles with unique solutions and those with multiple solutions. The core part of the code is a graph coloring algorithm, which encompasses a function that verifies the consistency of vertex coloring. This implies that no two adjacent vertices share the same color, which is analogous to Sudoku's rule that no two numbers in the same row, column, or 3x3 subgrid can be identical. Afterwards, a backtracking algorithm is implemented to systematically search for a valid coloring of the entire graph.\n",
    " \n",
    "The graph representation of the Sudoku board is beneficial in our case because it allows for integration to the algorithm's design. We transform the board into a graph where each cell represents a node; whereas the edges represent the Sudoku rule that connected cells cannot have identical numbers. We finalize a solution by converting the graph coloring back into a standard Sudoku board format.\n",
    " \n",
    "\n",
    "### Justification of Correctness:\n",
    " \n",
    "1. Consistency:\n",
    " The is_consistent_colouring function in the code is designed to ensure that no adjacent nodes in the graph, which correspond to cells on the Sudoku board, share the same color, or number. Accordingly, this ensures that no two cells in the same row, column, or box of the Sudoku board contain the same number. Since the function is called before the algorithm produces a coloring decision, it allows to prevent the use of colors that are incorrect.\n",
    "\n",
    "2. Partial Coloring:\n",
    "The code employs a backtracking algorithm backtrack_k_colouring_partial which starts with a partial coloring of the graph and functions through initializing a coloring array with the initial partial values and then extending these values one by one. This approach can be beneficial in our case since it allows to build the solution step by step, respecting a large set of constraints.\n",
    " \n",
    "3. Graph Representation:\n",
    "The array_to_graph function helps to change the Sudoku board into a graph - as a way of organizing data. Such algorithm allows to use methods from graph theory, especially those about coloring parts of the graph.\n",
    " \n",
    "4. Testing Mechanism:\n",
    "The test_solution function is included in the code to systematically check the coloring solution against the Sudoku rules which are in turn enclosed within the graph's structure. Since the function aims to verify that the final coloring produces a valid solution, it can be considered as a quality assurance measure.\n",
    "\n",
    "\n",
    "### Results and Discussion\n",
    " \n",
    "After running a Sudoku solver, we receive the results of twofold nature - those with a unique solution and those with multiple possible solutions. For Sudoku puzzles with a unique solution, the solver produces a Sudoku board where each row, column, and 3x3 subgrid contains all numbers from 1 to 9 without repetition. This is an expected outcome for puzzles with a single solution, which demonstrates that the algorithm is able to follow the Sudoku rules to find the unique solution. In the case of Sudoku puzzles that do not have a unique solution, the algorithm demonstrates its robustness by providing multiple valid solutions. Each solution adheres to the rules of Sudoku, yet they differ in the way the numbers are arranged highlighting the non-unique nature of the puzzle. This ability to find multiple solutions is expected for puzzles designed this way as these puzzles are intentionally crafted to allow for more than one solution. The fact that our algorithm can deal with these kinds of puzzles likely demonstrates its flexibility and ability to effectively explore all possible solutions. Thus, the success in both scenarios confirms that the solver functions correctly within the bounds of Sudoku rules and demonstrates the efficiency of the backtracking algorithm coupled with graph theory in solving combinatorial problems. \n",
    "\n"
   ]
  },
  {
   "cell_type": "markdown",
   "id": "91959563-aadd-4d12-a313-b1fe014ac782",
   "metadata": {},
   "source": [
    "## Part 2\n",
    "\n",
    "In this part we will implemement a solution where instead of trying an option and checking if the resulting board is valid, we only try the options that would result in a valid board. This should result in a lot less iterations. "
   ]
  },
  {
   "cell_type": "markdown",
   "id": "d970c126-f029-46ae-baf3-247861afca88",
   "metadata": {},
   "source": [
    "Instead of using networkx.neighbours we will define a dictionary at the beginning of each function that stores the neighbours of each node"
   ]
  },
  {
   "cell_type": "code",
   "execution_count": 3,
   "id": "78d372f3-71dc-40fd-a336-c5d13c818961",
   "metadata": {
    "execution": {
     "iopub.execute_input": "2024-03-08T13:49:32.818299Z",
     "iopub.status.busy": "2024-03-08T13:49:32.818071Z",
     "iopub.status.idle": "2024-03-08T13:49:32.825023Z",
     "shell.execute_reply": "2024-03-08T13:49:32.823390Z",
     "shell.execute_reply.started": "2024-03-08T13:49:32.818276Z"
    }
   },
   "outputs": [],
   "source": [
    "def neighbours_funct(node, n):\n",
    "    k = n**2\n",
    "    row_index = node // k\n",
    "    column_index = node % k\n",
    "    box_row = row_index // n\n",
    "    box_column = column_index // n\n",
    "\n",
    "    row_nodes = set(np.arange(k * row_index, k * (row_index + 1))) # Calculate nodes in the same row\n",
    "    column_nodes = set(np.arange(column_index, k**2, k)) # Calculate nodes in the same column\n",
    "    box_nodes = set() # Calculate nodes in the same box\n",
    "    for i in range(n):\n",
    "        for j in range(n):\n",
    "            box_node = (box_row * n + i) * k + box_column * n + j\n",
    "            box_nodes.add(box_node)\n",
    "\n",
    "    neighbours = row_nodes.union(column_nodes, box_nodes) # Combine all nodes and remove the node itself\n",
    "    neighbours.remove(node)\n",
    "\n",
    "    return list(neighbours)"
   ]
  },
  {
   "cell_type": "markdown",
   "id": "596ce9e5-3d6a-434f-b297-6905176a4d02",
   "metadata": {},
   "source": [
    "### Solution 1\n",
    "This is the suggested implementation where we store a set of candidate colours for each vertex, and remove candidate colours from neighbours colouring a vertex. The advantage of this implementation is that it makes changing the order in which we pick the candidates straightforward."
   ]
  },
  {
   "cell_type": "code",
   "execution_count": 4,
   "id": "d28d528d-2831-4a47-85a8-12d70fb66bd9",
   "metadata": {
    "execution": {
     "iopub.execute_input": "2024-03-08T13:49:32.826226Z",
     "iopub.status.busy": "2024-03-08T13:49:32.825973Z",
     "iopub.status.idle": "2024-03-08T13:49:32.846911Z",
     "shell.execute_reply": "2024-03-08T13:49:32.846077Z",
     "shell.execute_reply.started": "2024-03-08T13:49:32.826193Z"
    }
   },
   "outputs": [],
   "source": [
    "def Q2Solution1(initial_values, n, nextcell = 'ascending', verbose=False, print_iterations = False):\n",
    "    G = nx.sudoku_graph(n)\n",
    "    neighbours = [neighbours_funct(i, n) for i in range(n**4)] # Make a list where the entry at index i is the list of neighbours of cell i \n",
    "    \n",
    "    colours = list(initial_values)\n",
    "    k = n**2\n",
    "    iterations = [0] # As list so that it can be passed down dive()\n",
    "    candidates = {v: set(range(1, k+1)) for v in range(n**4)} # Initialise all cells to have all colours as candidates, which are stored as a set so that we can easily discard elements\n",
    "    for cell in range(n**4): # Instead of going through each empty cell and finding which colours are still available to it, we find the cells that are already filled\n",
    "        if colours[cell] != 0: \n",
    "            for neighbour in neighbours[cell]: # And discard the filled cells colour from the candidate set of each of its neighbours\n",
    "                candidates[neighbour].discard(colours[cell])\n",
    "        \n",
    "\n",
    "    def next_cell(colours, candidates): # This function tells us which cell to choose next\n",
    "        uncolored = [i for i in range(len(colours)) if colours[i] == 0] # Make a list of cells that have not been filled\n",
    "        if not uncolored:\n",
    "            return None # If every cell has been filled we should have a solution \n",
    "        \n",
    "        if nextcell == 'ascending':\n",
    "            for i in range(len(colours)): \n",
    "                if colours[i] == 0: # Find the first cell in acending order that's not filled \n",
    "                    return i # Return that cell\n",
    "   \n",
    "        lengths = {i: len(candidates[i]) for i in uncolored} # Only for cells that are not filled, store their number of candiates\n",
    "        if nextcell == 'most options':\n",
    "            v = max(lengths, key=lengths.get) #Find the cell with the most number of candidates\n",
    "            \n",
    "        elif nextcell == 'least options':  \n",
    "            v = min(lengths, key=lengths.get) # Find the cell with the least number of candidates\n",
    "        return v\n",
    "\n",
    "\n",
    "    # Define the recursive backtrack function\n",
    "    def dive(colours, candidates, iterations):\n",
    "        # Find the next vertex (cell) to color\n",
    "        v = next_cell(colours, candidates)\n",
    "        # All cells are coloured so there is a solution\n",
    "        if v is None: \n",
    "            for u, v in G.edges(): # Not necessary, just to make sure\n",
    "                if colours[u] == colours[v]: # This is not a valid colouring\n",
    "                    print('No Solution found')\n",
    "                    return None \n",
    "            if verbose:         \n",
    "                print(f\"This is a full solution\")\n",
    "            if print_iterations == False:\n",
    "                return colours\n",
    "            return [colours, iterations[0]]\n",
    "            \n",
    "        # Go through each way of extending partial solution\n",
    "        for col in sorted(candidates[v]): # We only try the candidates colours of v. Sorting it for easier comparison with solution 2\n",
    "            iterations[0] += 1\n",
    "            colours_copy = list(colours.copy()) \n",
    "            colours_copy[v] = col # Set the colour of v to col only in candidates. Note \n",
    "            candidates_copy = {key: set(val) for key, val in candidates.items()} # Deep copy as otherwise it still gets changed\n",
    "            for neighbour in neighbours[v]: \n",
    "                candidates_copy[neighbour].discard(col) # For all neighbours of v discard v as a candiate (only in the copy)\n",
    "            \n",
    "            res = dive(colours_copy, candidates_copy, iterations)  #Pass the copies as arguments to dive so that when we backtrack, the originals are still there\n",
    "            if res[0] is not None: # Res is the output of drive which is result if all colours are filled\n",
    "                return res \n",
    "            # If res is None we pick the next colour, where candidates and colours are what they were before and we make new copies\n",
    "        # No solution found from this partial solution, return None\n",
    "        if verbose:\n",
    "            print(f\"{colours} seemed consistent but couldn't be extended\")  \n",
    "            \n",
    "        return [None, iterations] #if the output of dive is none, backtrack\n",
    "\n",
    "    # Line 10: Trigger recursion\n",
    "    return dive(colours, candidates, iterations)\n"
   ]
  },
  {
   "cell_type": "markdown",
   "id": "117f2b9d-942b-4788-98a8-98c9b6e86bf4",
   "metadata": {},
   "source": [
    "Now we will record the number of iterations (that is the number of total colour choices we make) for the approach where we go through the rows to choose the next cell (ascending) and the approach where we choose the cell that has the least number of candidate colours for solution 1. We are not recording the approach where we choose the cell that has the most number of candidate colours because that takes too long for even a single board. Note that Q2Solution1 checks at the end if the solution is valid and if it is not return None. As there are no errors in the next cell, the function found solutions for every board. "
   ]
  },
  {
   "cell_type": "code",
   "execution_count": 5,
   "id": "bd58c830-2598-4999-a6f8-2682516af09c",
   "metadata": {
    "execution": {
     "iopub.execute_input": "2024-03-08T13:49:32.847997Z",
     "iopub.status.busy": "2024-03-08T13:49:32.847754Z",
     "iopub.status.idle": "2024-03-08T13:49:52.400531Z",
     "shell.execute_reply": "2024-03-08T13:49:52.399308Z",
     "shell.execute_reply.started": "2024-03-08T13:49:32.847973Z"
    }
   },
   "outputs": [],
   "source": [
    "iterations_ascending1 = []\n",
    "time_ascending1 = []\n",
    "for board in unique_arr:\n",
    "    start = timer()\n",
    "    for i in range(1): \n",
    "        Q2Solution1(board, 3, nextcell = 'ascending')[1]\n",
    "    end = timer()\n",
    "    iterations_ascending1.append(Q2Solution1(board, 3, nextcell = 'ascending', print_iterations=True)[1]) \n",
    "    time_ascending1.append(end - start)\n",
    "\n",
    "for board in non_unique_arr:\n",
    "    start = timer()\n",
    "    for i in range(1):\n",
    "        Q2Solution1(board, 3, nextcell = 'ascending')[1]\n",
    "    end = timer()\n",
    "    iterations_ascending1.append(Q2Solution1(board, 3, nextcell = 'ascending', print_iterations=True)[1]) \n",
    "    time_ascending1.append(end - start)\n",
    "\n",
    "iterations_lo1 = []\n",
    "time_lo1 = []\n",
    "for board in unique_arr:\n",
    "    start = timer()\n",
    "    for i in range(100):\n",
    "        Q2Solution1(board, 3, nextcell = 'least options')[1] # we are doing more iterations here because there seems to be a lot of variation \n",
    "    end = timer()\n",
    "    iterations_lo1.append(Q2Solution1(board, 3, nextcell = 'least options', print_iterations=True)[1]) \n",
    "    time_lo1.append((end - start)/100)\n",
    "for board in non_unique_arr:\n",
    "    start = timer()\n",
    "    for i in range(100):\n",
    "        Q2Solution1(board, 3, nextcell = 'least options')[1]\n",
    "    end = timer()\n",
    "    iterations_lo1.append(Q2Solution1(board, 3, nextcell = 'least options', print_iterations=True)[1]) \n",
    "    time_lo1.append((end - start)/100)"
   ]
  },
  {
   "cell_type": "markdown",
   "id": "906b9f7d-a703-4b01-8cab-6a3b729d7de8",
   "metadata": {},
   "source": [
    "### Solution 2\n",
    "\n",
    "A disadvantage of the previous solution is that we have to make a copy at every single call to dive and strore as many copies as we call dive as we might always have to backtrack to the very start. To avoid this, we could calculate a cells candidate set once we have chosen it and then forget about it. However this makes choosing the cells in the order of smallest number of candidates very difficult. \n",
    "\n",
    "The solution we came up with is find the initial distribution of restrictions, that how many colours can each node not choose in the starting position. This distribution gets passed as an argument to dive and to next_cell. Everytime we choose a colour, we find the cells whose candidates get restricted by this choice and add 1 to their number of restrictions. We add these 'affected neighbours' to a list and when we backtrack we subtract 1 from the number of restrictions of the cells in that list. \n",
    "\n",
    "We do still have to make sure to only count cells as affected not if they are neighbours of the chosen cell, but only if none of its neighbours have the chosen colour. This is because if the number 8 is in a cell's coloumn, then placing an 8 in its row does not restrict its options further. "
   ]
  },
  {
   "cell_type": "code",
   "execution_count": 6,
   "id": "8fff79a7-4b3e-4585-9bcc-22ed6b7e314e",
   "metadata": {
    "execution": {
     "iopub.execute_input": "2024-03-08T13:49:52.402593Z",
     "iopub.status.busy": "2024-03-08T13:49:52.402335Z",
     "iopub.status.idle": "2024-03-08T13:49:52.417541Z",
     "shell.execute_reply": "2024-03-08T13:49:52.416754Z",
     "shell.execute_reply.started": "2024-03-08T13:49:52.402570Z"
    }
   },
   "outputs": [],
   "source": [
    "def initial_restrictions(neighbours, colours, n ): \n",
    "    number_of_restrictions = np.repeat(0, n**4) # Initialise every cell to have 0 restrictions\n",
    "    for i in range(len(colours)): \n",
    "        candidates = set(range(1, n**2+1)) # We have to make sure to account for each colour only once, so we initialise a candidate set where every colour is a candidate\n",
    "        for neighbour in neighbours[i]: \n",
    "                if colours[neighbour] in candidates: # If a nodes neighbour has a colour that is in our candidate set, we discard that colour from the set of candidates. \n",
    "                    candidates.discard(colours[neighbour]) # This means the next time a neighbour has that colour we won't count it because its not in the candidates anymore\n",
    "                    number_of_restrictions[i] += 1 # So we can increase the number of restrictions of i by 1\n",
    "        if colours[i] == 0: #Extra measure to ensure that when we later find the cell with the most restrictions it's not one that is already filled in\n",
    "            number_of_restrictions[0]\n",
    "    return number_of_restrictions\n",
    "\n",
    "def Q2Solution2(initial_values, n, verbose=False, nextcell = 'ascending', print_iterations = False):\n",
    "    G = nx.sudoku_graph(n)\n",
    "    neighbours = [neighbours_funct(i, n) for i in range(n**4)] # Make a list where the entry at index i is the list of neighbours of cell i \n",
    "    colours = []\n",
    "    colours.extend(initial_values)\n",
    "    k = n**2\n",
    "    iterations = [0] # As list so that it can be passed down dive()\n",
    "    number_of_restrictions = initial_restrictions(neighbours, colours, n ) # initialise the initial distribution of number of restrictions\n",
    "    \n",
    "    def next_cell(number_of_restrictions):\n",
    "        uncoloured = [element for i, element in enumerate(number_of_restrictions) if colours[i] == 0] #we first find the elements in number of restrictions that are not filled in\n",
    "        if len(uncoloured) == 0:\n",
    "            return None\n",
    "        if nextcell == 'ascending':\n",
    "            for i in range(len(colours)): \n",
    "                if colours[i] == 0: # Find the first cell in acending order that's not filled \n",
    "                    return i # Return that cell\n",
    "        elif nextcell == 'least options': \n",
    "            max_element = (max(uncoloured)) # Find the highest number of restrictions \n",
    "            zero_max_elements = [i for i in range(len(number_of_restrictions)) if number_of_restrictions[i] == max_element and colours[i] == 0] \n",
    "            return zero_max_elements[0] # Find the list of elements whose colour is equal to 0 and who have the maximum number of restructions, return the first cell in that list\n",
    "        elif nextcell == 'most options':\n",
    "            min_element = (min(uncoloured)) # Find the lowest number of restrictions \n",
    "            zero_min_elements = [i for i in range(len(number_of_restrictions)) if number_of_restrictions[i] == min_element and colours[i] == 0]\n",
    "            return zero_min_elements[0] # Find the list of elements whose colour is equal to 0 and who have the maximum number of restructions, return the first cell in that list\n",
    "\n",
    "    # Define the recursive backtrack function\n",
    "    def dive(number_of_restrictions, iterations):\n",
    "        # Find the next vertex (cell) to color\n",
    "        v = next_cell(number_of_restrictions)\n",
    "        \n",
    "        # All cells are coloured so there is a solution\n",
    "        if v is None:  \n",
    "            for u, v in G.edges(): # This is again not strictly necessary but good to have an extra safety check\n",
    "                if colours[u] == colours[v]: # This is not a valid colouring\n",
    "                    print('No Solution found')\n",
    "                    return None  \n",
    "            if print_iterations == False:\n",
    "                return colours\n",
    "            return [colours, iterations[0]]                     \n",
    "\n",
    "        # Go through each way of extending partial solution\n",
    "        restricted = [] # After choosing the cell we first find the colours that it cannot choose \n",
    "        list_of_neighbours = neighbours[v] # Save the neighbours in list because we can use them later\n",
    "        for r in list_of_neighbours:\n",
    "            if colours[r] != 0 and colours[r] not in restricted: # For each neighbour append its colour to a list if the colour is not 0 and the colour is not already there\n",
    "                restricted.append(colours[r]) \n",
    "        \n",
    "        for col in range(1, k + 1):\n",
    "            if col not in restricted: # Find the candidate colours which is the colours not in restricted\n",
    "                affected_neighbours = [] # Saving the neighbours whose number of restrictions increases because of this choice so we know them when we backtrack\n",
    "                for r in list_of_neighbours: \n",
    "                    neighbour_colours = []  # For each neighbour r make a list of its neighbours colours\n",
    "                    for nr in neighbours[r]:\n",
    "                        neighbour_colours.append(colours[nr])\n",
    "                    if col not in neighbour_colours: # If the colour we are choosing for v is not already in that list\n",
    "                        number_of_restrictions[r] += 1 # Increase the number of restrictions of r by 1\n",
    "                        affected_neighbours.append(r) # Append r to the list of affected neighbours\n",
    "                iterations[0] += 1\n",
    "                colours[v] = col\n",
    "\n",
    "                res = dive(number_of_restrictions, iterations)\n",
    "                # If a solution is returned, it means its a correct one\n",
    "                if res[0] is not None:\n",
    "                    return res\n",
    "\n",
    "                colours[v] = 0 # Get rid of temporary solution\n",
    "                for r in affected_neighbours: # When we backtrack decrease the number of restrictions for the cells that were affected by the original choice of colour\n",
    "                    number_of_restrictions[r] -= 1\n",
    "\n",
    "        # No solution found from this partial solution, return None\n",
    "        if verbose:\n",
    "            print(f\"{colours} seemed consistent but couldn't be extended\")  \n",
    "                    \n",
    "        return [None, iterations, number_of_restrictions]\n",
    "\n",
    "    # Line 10: Trigger recursion\n",
    "    return dive(number_of_restrictions, iterations) # If the output of dive is none, backtrack"
   ]
  },
  {
   "cell_type": "markdown",
   "id": "fa7b6c74-4e14-4c55-b936-7b7786d17467",
   "metadata": {},
   "source": [
    "Now we will record the number of iterations (that is the number of total colour choices we make) for the approach where we go through the rows to choose the next cell (ascending) and the approach where we choose the cell that has the least number of candidate colours for solution 2. We are not recording the approach where we choose the cell that has the most number of candidate colours because that takes too long for even a single board. Note that Q2Solution2 checks at the end if the solution is valid and if it is not return None. As there are no errors in the next cell, the function found solutions for every board. "
   ]
  },
  {
   "cell_type": "code",
   "execution_count": 7,
   "id": "c6028cc8-70fb-42bd-b658-e73ee60f2122",
   "metadata": {
    "execution": {
     "iopub.execute_input": "2024-03-08T13:49:52.418567Z",
     "iopub.status.busy": "2024-03-08T13:49:52.418296Z",
     "iopub.status.idle": "2024-03-08T13:50:16.030664Z",
     "shell.execute_reply": "2024-03-08T13:50:16.029172Z",
     "shell.execute_reply.started": "2024-03-08T13:49:52.418546Z"
    }
   },
   "outputs": [],
   "source": [
    "iterations_ascending2 = []\n",
    "time_ascending2 = []\n",
    "for board in unique_arr:\n",
    "    start = timer()\n",
    "    for i in range(1):\n",
    "        Q2Solution2(board, 3, nextcell = 'ascending')[1]\n",
    "    end = timer()\n",
    "    iterations_ascending2.append(Q2Solution2(board, 3, nextcell = 'ascending', print_iterations=True)[1]) \n",
    "    time_ascending2.append(end - start)\n",
    "\n",
    "for board in non_unique_arr:\n",
    "    start = timer()\n",
    "    for i in range(1):\n",
    "        Q2Solution2(board, 3, nextcell = 'ascending')[1]\n",
    "    end = timer()\n",
    "    iterations_ascending2.append(Q2Solution2(board, 3, nextcell = 'ascending', print_iterations=True)[1]) \n",
    "    time_ascending2.append(end - start)\n",
    "\n",
    "iterations_lo2 = []\n",
    "time_lo2 = []\n",
    "for board in unique_arr:\n",
    "    start = timer()\n",
    "    for i in range(100): # we are doing more iterations here because there seems to be a lot of variation \n",
    "        Q2Solution2(board, 3, nextcell = 'least options')[1]\n",
    "    end = timer()\n",
    "    iterations_lo2.append(Q2Solution2(board, 3, nextcell = 'least options', print_iterations=True)[1]) \n",
    "    time_lo2.append((end - start)/100)\n",
    "for board in non_unique_arr:\n",
    "    start = timer()\n",
    "    for i in range(100):\n",
    "        Q2Solution2(board, 3, nextcell = 'least options')[1]\n",
    "    end = timer()\n",
    "    iterations_lo2.append(Q2Solution2(board, 3, nextcell = 'least options', print_iterations=True)[1]) \n",
    "    time_lo2.append((end - start)/100)"
   ]
  },
  {
   "cell_type": "code",
   "execution_count": 8,
   "id": "aade6007-e5c1-4648-a2ea-0f12095301d4",
   "metadata": {
    "execution": {
     "iopub.execute_input": "2024-03-08T13:50:16.032375Z",
     "iopub.status.busy": "2024-03-08T13:50:16.032107Z",
     "iopub.status.idle": "2024-03-08T13:50:16.906019Z",
     "shell.execute_reply": "2024-03-08T13:50:16.904994Z",
     "shell.execute_reply.started": "2024-03-08T13:50:16.032347Z"
    }
   },
   "outputs": [
    {
     "data": {
      "image/png": "[encoded data removed]",
      "text/plain": [
       "<Figure size 1080x432 with 3 Axes>"
      ]
     },
     "metadata": {
      "needs_background": "light"
     },
     "output_type": "display_data"
    }
   ],
   "source": [
    "x = np.arange(1, len(iterations_ascending1)+1) # Example Boards\n",
    "\n",
    "fig, axs = plt.subplots(1, 3, figsize=(15, 6)) # 2 subplots\n",
    "# Subplot 1\n",
    "axs[0].plot(x, iterations_ascending1 , color='blue', linestyle='-',  marker = \"s\", label='Ascending Solution 1')\n",
    "axs[0].plot(x, iterations_ascending2, color='red', linestyle='--', marker = \"^\", label='Ascending Solution 2')\n",
    "axs[0].plot(x, iterations_lo1 , color='blue', linestyle='-', marker = \"s\", label='Least Options Solution 1')\n",
    "axs[0].plot(x, iterations_lo2, color='red', linestyle='--', marker = \"^\", label='Least Options Solution 2')\n",
    "axs[0].set_xlabel('Example Boards')\n",
    "axs[0].set_xticks(np.arange(0, 21,2))\n",
    "axs[0].set_ylabel('Number of Iterations')\n",
    "axs[0].set_title('Comparign Iterations between Ascending and Least Options')\n",
    "axs[0].legend()\n",
    "\n",
    "#Subplot 2\n",
    "\n",
    "axs[1].plot(x, time_ascending1 , color='blue', linestyle='-',  marker = \"s\", label='Ascending Solution 1')\n",
    "axs[1].plot(x, time_ascending2, color='red', linestyle='--', marker = \"^\", label='Ascending Solution 2')\n",
    "axs[1].set_xlabel('Example Boards')\n",
    "axs[1].set_xticks(np.arange(0, 21,2))\n",
    "axs[1].set_ylabel('Time')\n",
    "axs[1].set_title('Time for Ascending for Solution 1 and Solution 2')\n",
    "axs[1].legend()\n",
    "\n",
    "#Subplot 3\n",
    "\n",
    "axs[2].plot(x, time_lo1 , color='blue', linestyle='-', marker = \"s\", label='Least Options Solution 1')\n",
    "axs[2].plot(x, time_lo2, color='red', linestyle='--', marker = \"^\", label='Least Options Solution 2')\n",
    "axs[2].set_xlabel('Example Boards')\n",
    "axs[2].set_xticks(np.arange(0, 21,2))\n",
    "axs[2].set_ylabel('Time')\n",
    "axs[2].set_title('Time for Least Options for Solution 1 and Solution 2')\n",
    "axs[2].legend()\n",
    "\n",
    "plt.tight_layout()\n",
    "plt.show()"
   ]
  },
  {
   "cell_type": "markdown",
   "id": "6bc4563a-3493-482a-a745-12c56a3f048c",
   "metadata": {},
   "source": [
    "The first thing we can see is that the approach where we choose the next cell to be the one that has the fewest options needs way fewer iterations and takes way less time than the approch where we go through the cells in ascending order. This makes sense because you will reach 'forcing positions' where a cell only has one candidate faster, so you can realise that you made a mistake and backtrack in fewer iterations.\n",
    "\n",
    "We can see that Solutions 1 and 2 solve the puzzles in the same number of iterations and that Solution 2 is generally slower than solution 1. "
   ]
  },
  {
   "cell_type": "markdown",
   "id": "7f240caa-0a49-4a92-b942-33903c7b6833",
   "metadata": {},
   "source": [
    "# Part 3: Algebra of Sudokus\n",
    "\n",
    "In this section, we will explore different operations we can perform on completed Sudokus. Using these operations, we can define  morphs of Sudokus, and then an equivalence relation on the set of all Sudokus: two Sudokus $X$ and $Y$ are equivalent if there's a morph $f$ such that $Xf = Y$. We will present two different approaches of knowing if two sudokus are equivalent.\n",
    "\n",
    "## Operations on Sudokus\n",
    "There are operations we can do on completed Sudokus which will leave them as valid Sudokus. The four we will concentrate on are: \n",
    "\n",
    "1. Permuting rows in the same band.\n",
    "2. Permuting columns in the same stack.\n",
    "3. Tranposing.\n",
    "4. Permuting the labels.\n",
    "\n",
    "The first operation we will look at are row permutations in the same band. This is a function which takes two arguments: the Sudoku to be permuted, and a permutation. The permutation is given as a list of lists of length two, where `[i, j]` corresponds to swapping rows `i` and `j`. There is a check in the function to make sure that the two rows given in a list are in the same band, and if not, returns an error.\n"
   ]
  },
  {
   "cell_type": "code",
   "execution_count": 20,
   "id": "5121fee0-fa4c-4880-883a-ab5cb94e8530",
   "metadata": {
    "execution": {
     "iopub.execute_input": "2024-03-08T13:50:16.907576Z",
     "iopub.status.busy": "2024-03-08T13:50:16.907165Z",
     "iopub.status.idle": "2024-03-08T13:50:16.913983Z",
     "shell.execute_reply": "2024-03-08T13:50:16.912970Z",
     "shell.execute_reply.started": "2024-03-08T13:50:16.907537Z"
    }
   },
   "outputs": [],
   "source": [
    "import numpy as np\n",
    "\n",
    "def rowPerm(sudoku, rows):\n",
    "    \n",
    "    nSqrd = int(np.sqrt(len(sudoku)))\n",
    "    \n",
    "    # Turning sudoku into nSqrd x nSqrd array \n",
    "    sudoku = np.array(sudoku)\n",
    "    sudoku = sudoku.reshape((nSqrd,nSqrd))\n",
    "    \n",
    "    for [row1,row2] in rows:\n",
    "        # Checking that row1 and row2 are in the same band\n",
    "        if abs(row1 - row2) > (np.sqrt(nSqrd-1)):\n",
    "            print(\"Error: Rows provided are not in the same band.\")\n",
    "            return None\n",
    "         \n",
    "        # Switches row1 and row2\n",
    "        sudoku[[row1,row2], :] = sudoku[[row2,row1], :]\n",
    "    \n",
    "    # Reshapes the array and returns the permuted sudoku as a list\n",
    "    sudoku = sudoku.reshape((1,nSqrd**2))\n",
    "    return sudoku.flatten().tolist()"
   ]
  },
  {
   "cell_type": "markdown",
   "id": "20d10555-d5ec-44a5-bc12-69f538f112f3",
   "metadata": {},
   "source": [
    "Column permutations in the same stack work very similarily to row permutations in the same band, except now the elements in the list swap columns not rows."
   ]
  },
  {
   "cell_type": "code",
   "execution_count": 21,
   "id": "83ef1ad4-29c8-4a55-bbae-c86308c07447",
   "metadata": {
    "execution": {
     "iopub.execute_input": "2024-03-08T13:50:16.915160Z",
     "iopub.status.busy": "2024-03-08T13:50:16.914902Z",
     "iopub.status.idle": "2024-03-08T13:50:16.930939Z",
     "shell.execute_reply": "2024-03-08T13:50:16.929946Z",
     "shell.execute_reply.started": "2024-03-08T13:50:16.915138Z"
    },
    "tags": []
   },
   "outputs": [],
   "source": [
    "def columnPerm(sudoku, columns):\n",
    "    \n",
    "    nSqrd = int(np.sqrt(len(sudoku)))\n",
    "    \n",
    "    # Turning sudoku into nSqrd x nSqrd array\n",
    "    sudoku = np.array(sudoku)\n",
    "    sudoku = sudoku.reshape((nSqrd,nSqrd))\n",
    "    \n",
    "    for [col1,col2] in columns:\n",
    "        # Checking that col1 and col2 are in the same stack\n",
    "        if abs(col1 - col2) > (np.sqrt(nSqrd)-1):\n",
    "            print(\"Error: Columns provided are not in the same stack.\")\n",
    "            return None\n",
    "    \n",
    "        # Switches col1 and col2\n",
    "        sudoku[:, [col1,col2]] = sudoku[:, [col2,col1]]\n",
    "    \n",
    "    # Reshapes the array and returns the permuted sudoku\n",
    "    sudoku = sudoku.reshape((1,nSqrd**2))\n",
    "    return sudoku.flatten().tolist()"
   ]
  },
  {
   "cell_type": "markdown",
   "id": "5e6fbacd-b18d-4da7-b961-ed79a1b02dee",
   "metadata": {},
   "source": [
    "Transposition is the third operation we present. This switches the $i,j$th entry in the Sudoku with the $j,i$th."
   ]
  },
  {
   "cell_type": "code",
   "execution_count": 22,
   "id": "cb65fe8c-37bd-4481-9eb6-06de1501e43e",
   "metadata": {
    "execution": {
     "iopub.execute_input": "2024-03-08T13:50:16.932124Z",
     "iopub.status.busy": "2024-03-08T13:50:16.931883Z",
     "iopub.status.idle": "2024-03-08T13:50:16.947366Z",
     "shell.execute_reply": "2024-03-08T13:50:16.946481Z",
     "shell.execute_reply.started": "2024-03-08T13:50:16.932101Z"
    }
   },
   "outputs": [],
   "source": [
    "def transpose(sudoku):\n",
    "\n",
    "    nSqrd = int(np.sqrt(len(sudoku)))\n",
    "    \n",
    "    # Turning sudoku into nSqrd x nSqrd array\n",
    "    sudoku = np.array(sudoku)\n",
    "    sudoku = sudoku.reshape((nSqrd, nSqrd))\n",
    "    \n",
    "    # Transposing\n",
    "    sudoku = np.transpose(sudoku)\n",
    "    \n",
    "    # Reshapes the array and returns the transposed sudoku\n",
    "    sudoku = sudoku.reshape((1,nSqrd**2))\n",
    "    return sudoku.flatten().tolist()\n",
    "\n",
    "def fastTranspose(sudoku): #Works around 5e-6 seconds faster for each normal (n=3) sudoku, but slower for n>10\n",
    "    nSqrd = int(np.sqrt(len(sudoku)))\n",
    "\n",
    "    # Transpose the 1D array\n",
    "    transposedSudoku = [sudoku[j*nSqrd + i] for i in range(nSqrd) for j in range(nSqrd)]\n",
    "\n",
    "    return transposedSudoku\n"
   ]
  },
  {
   "cell_type": "markdown",
   "id": "02a67abc-937b-4292-a00c-5ec827b0a347",
   "metadata": {},
   "source": [
    "Finally, the last operation we will show is permuting the values of the Sudoku. For an $n$-Sudoku, this is a permutation of the set $\\{1,\\ldots,n\\}$."
   ]
  },
  {
   "cell_type": "code",
   "execution_count": 23,
   "id": "6c6cc5a7-9b0e-4722-b8e1-dfb65d521bb7",
   "metadata": {
    "execution": {
     "iopub.execute_input": "2024-03-08T13:50:16.948330Z",
     "iopub.status.busy": "2024-03-08T13:50:16.948114Z",
     "iopub.status.idle": "2024-03-08T13:50:16.966269Z",
     "shell.execute_reply": "2024-03-08T13:50:16.965290Z",
     "shell.execute_reply.started": "2024-03-08T13:50:16.948309Z"
    }
   },
   "outputs": [],
   "source": [
    "def valuePerm(sudoku, f):\n",
    "    \n",
    "    #f is a permutation of the form [a_1, a_2, ..., a_(n^2)] such that\n",
    "    #the digit i gets relabeled as a_(i-1), for example:\n",
    "    #   1 -> a_1,    2 -> a_2,    n^2 -> a_(n^2)\n",
    "\n",
    "    nSqrd = int(np.sqrt(len(sudoku)))\n",
    "    \n",
    "    # Turning sudoku into nSqrd x nSqrd array \n",
    "    sudoku = np.array(sudoku)\n",
    "    sudoku = sudoku.reshape((nSqrd,nSqrd))\n",
    "    \n",
    "    #Defines a function to apply the permutation f to a single digit x\n",
    "    def applyPerm(x): \n",
    "        return f[x-1]\n",
    "    \n",
    "    #Vectorise the above function so it can be applied to the sudoku\n",
    "    vectApplyPerm = np.vectorize(applyPerm)\n",
    "    \n",
    "    #Apply permutation to entire grid\n",
    "    return(vectApplyPerm(sudoku).reshape(nSqrd*nSqrd) )\n",
    "\n",
    "def fastValuePerm(sudoku, f):#faster for n<10\n",
    "    \n",
    "    #f is a permutation of the form [a_1, a_2, ..., a_(n^2)] such that\n",
    "    #the digit i gets relabeled as a_(i-1), for example:\n",
    "    #   1 -> a_1,    2 -> a_2,    n^2 -> a_(n^2)\n",
    "\n",
    "    #Applies permutation to the digits\n",
    "    permutedSudoku = [f[x-1] for x in sudoku]\n",
    "\n",
    "    return permutedSudoku"
   ]
  },
  {
   "cell_type": "markdown",
   "id": "adb94568-571d-4640-ad5c-02c4735a9061",
   "metadata": {},
   "source": [
    "Next, we will define a morph. We say that two Sudokus $X$ and $Y$ are morphs if there is a sequence of row permutations, column permutations, tranpositions, and value permutations such that applying $X$ to these operations will give result in $Y$. It can be shown that any morph can be represented by first applying row permutations, then column permutations, then tranpositions, and finally value permutations. This creates a natural equivalence relation on the set of $n$-Sudokus: $X \\sim Y$ if $Y$ is a morph of $X$.\n",
    "\n",
    "## Determining if two Sudokus are equivalent\n",
    "\n",
    "A natural question to ask is if there's a way to know if two Sudokus are equivalent. We will present two ways which are very different from one another. One way uses canonisation while the other uses a more group theoretic approach. These are both valid options to determine if two Sudokus are equivalent but their complexities vary wildly.\n",
    "\n",
    "### Canonisation\n",
    "\n",
    "The motivation for canonisation is to find a process of operations under which two Sudokus in the same equivalence class are _reduced_ to the same _elementary_ Sudoku. We will refer to these elementary sudokus as the _leader_ of its respective equivalence class under the operations above.\n",
    "\n",
    "When studying Latin Squares (LS), we say two LS are _isotopic_ if one can be converted to the other under the following operations:\n",
    "1. permuting the rows\n",
    "2. permuting the columns\n",
    "3. permuting the symbols\n",
    "\n",
    "A canonisation algorithm follows intuitively by trying to achieve a _minimal_ form, for example permute the rows and columns such that the first row is $[1,2,\\dots,n^{2}]$ and the first column is $[1,2,\\dots,n^{2}]^{T}$. Then every pair of isotopic LS will become the same minimal LS under this algorithm and the shared minimal LS is the leader of the equivalence class.\n",
    "\n",
    "It is clear that a canonisation algorithm for Sudokus must work similarly, in that we must force the Sudoku to have a very specific form via the morphing operations. One such method is as follows:\n",
    "1. Fix a digit $i$.\n",
    "2. Apply row and column permutations within bands such that the placement of i has rotational symmetry.\n",
    "3. Choose one block and relabel such that i stays in the same position and the remaining digits are in ascending order.\n",
    "\n",
    "An example of this algorithm in use can be seen below (dashes are only in place to see the pattern of i more clearly):\n",
    "\n",
    "```\n",
    "Original Sudoku, S                 S under 1 -> 3 with i = 3          S under 1 -> 3 with i = 7\n",
    "\n",
    "3 1 6 | 5 7 8 | 4 9 2              - - - | - - - | 3 - -              - - - | - - - | 7 - -\n",
    "5 2 9 | 1 3 4 | 7 6 8              - - - | 3 - - | - - -              - - - | 7 - - | - - -\n",
    "4 8 7 | 6 2 9 | 5 3 1              3 - - | - - - | - - -              7 - - | - - - | - - -\n",
    "---------------------              ---------------------              ---------------------\n",
    "2 6 3 | 4 1 5 | 9 8 7              - - - | 1 2 4 | - 3 -              - - - | 1 2 3 | - 7 -\n",
    "9 7 4 | 8 6 3 | 1 2 5              - - - | 5 3 6 | - - -              - - - | 4 7 5 | - - -\n",
    "8 5 1 | 7 9 2 | 6 4 3              - 3 - | 7 8 9 | - - -              - 7 - | 6 8 9 | - - -\n",
    "---------------------              ---------------------              ---------------------\n",
    "1 3 8 | 9 4 7 | 2 5 6              - - - | - - - | - - 3              - - - | - - - | - - 7\n",
    "6 9 2 | 3 5 1 | 8 7 4              - - - | - - 3 | - - -              - - - | - - 7 | - - -\n",
    "7 4 5 | 2 8 6 | 3 1 9              - - 3 | - - - | - - -              - - 7 | - - - | - - -\n",
    "```\n",
    "\n",
    "We now refer to this algorithm as the transformation $f_{i}$. Since $f_{i}$ forces every Sudoku into a very restrictive form using relabelling and row/column permutations, if $S$ and $T$ are morphs of each other then one of the following will hold:\n",
    "1. $Sf_{i} = Tf_{i}$ for some $i \\in {1,2,\\dots,n^{2}}$\n",
    "2. $S^{T}f_{i} = Tf_{i}$ for some $i \\in {1,2,\\dots,n^{2}}$\n",
    "\n",
    "In fact, the rotational symmetry of the pattern of $i$ ensures that the algorithm works for sudokus morphed via rotations of 90, 180 and 270 degrees.\n",
    "\n",
    "First we begin with some helper functions which: find the correct permutation to relabel the values given a start and target array and return the nxn block of a sudoku starting from any square:\n"
   ]
  },
  {
   "cell_type": "code",
   "execution_count": 24,
   "id": "07cbb020-e4dd-4389-afdd-68213ac5b83d",
   "metadata": {
    "execution": {
     "iopub.execute_input": "2024-03-08T13:50:16.967242Z",
     "iopub.status.busy": "2024-03-08T13:50:16.967012Z",
     "iopub.status.idle": "2024-03-08T13:50:16.983262Z",
     "shell.execute_reply": "2024-03-08T13:50:16.982371Z",
     "shell.execute_reply.started": "2024-03-08T13:50:16.967221Z"
    }
   },
   "outputs": [],
   "source": [
    "def findPerm(originalList, targetList):\n",
    "    n = len(originalList)\n",
    "    perm = [0]*n\n",
    "    for i in range(n):\n",
    "        perm[i] = targetList[originalList.index(i+1)]\n",
    "    return perm\n",
    "\n",
    "def getBlock(sudoku, row, col, n):\n",
    "    nSqrd = int(np.sqrt(len(sudoku)))\n",
    "                \n",
    "    #Create 2D version of sudoku\n",
    "    sudoku2D = np.array(sudoku).reshape(nSqrd, nSqrd)\n",
    "    \n",
    "    #Get nxn block with top left corner at (row, col)\n",
    "    block = []\n",
    "    for i in range(n):\n",
    "        block.append(sudoku2D[row + i][col:col+n])\n",
    "    block1D = [elt for row in block for elt in row]\n",
    "    return block1D"
   ]
  },
  {
   "cell_type": "markdown",
   "id": "276400f7-1908-4fe1-bec0-c8ad28a01bc0",
   "metadata": {},
   "source": [
    "Now we implement our canonisation algorithm for a single sudoku grid:\n"
   ]
  },
  {
   "cell_type": "code",
   "execution_count": 25,
   "id": "3aa0e71e-68ef-43a9-b5cb-f029fcd8a121",
   "metadata": {
    "execution": {
     "iopub.execute_input": "2024-03-08T13:50:16.984271Z",
     "iopub.status.busy": "2024-03-08T13:50:16.984053Z",
     "iopub.status.idle": "2024-03-08T13:50:16.999607Z",
     "shell.execute_reply": "2024-03-08T13:50:16.998586Z",
     "shell.execute_reply.started": "2024-03-08T13:50:16.984250Z"
    },
    "tags": []
   },
   "outputs": [],
   "source": [
    "def canonise3x3(sudoku, digit):#Canonise sudoku grid\n",
    "    nSqrd = int(np.sqrt(len(sudoku)))\n",
    "    \n",
    "    #Perform row and column swaps within bands to rearrange digit into specified pattern\n",
    "    for i in range(3):\n",
    "        for j in range(3):\n",
    "            block = getBlock(sudoku, 3*i, 3*j, 3) #1D representation of the block (i,j) where 0<=i,j<=2\n",
    "            ptLoc = block.index(digit) #index of desired digit within block\n",
    "            x, y = ptLoc // 3, ptLoc % 3 #convert 1D index to 2D index - (x, y) is (row, col) within the block\n",
    "            sudoku = rowPerm(sudoku, [[3*i + x, 3*i + 2-j]])#Swap rows such that value forms a pattern of rotational symmetry\n",
    "            sudoku = columnPerm(sudoku, [[3*j + y, 3*j + i]])\n",
    "    \n",
    "    #Get list in sorted order, except digit remains in place\n",
    "    newMiddleCell = [i+1 for i in range(0, 9) if i+1 != digit]\n",
    "    newMiddleCell.insert(4, digit)\n",
    "    #newMiddleCell = [1,2,3,4,5,6,7,8,9]\n",
    "    \n",
    "    #Get current middle block of the sudoku\n",
    "    middleCell = getBlock(sudoku, 3, 3, 3)\n",
    "    \n",
    "    #Get permutation that takes current middle block to desired middle block\n",
    "    perm = findPerm(middleCell, newMiddleCell)\n",
    "    \n",
    "    #Apply permutation to the sudoku\n",
    "    sudoku = fastValuePerm(sudoku, perm)\n",
    "    return(sudoku)"
   ]
  },
  {
   "cell_type": "markdown",
   "id": "eb5675a5-fe9c-4460-be25-c9dccc3f56b5",
   "metadata": {},
   "source": [
    "Then we just need to check each possible canonisation of a sudoku with different parameters:"
   ]
  },
  {
   "cell_type": "code",
   "execution_count": 26,
   "id": "5bc89e91-9979-4a34-a8dc-11e487a9578c",
   "metadata": {
    "execution": {
     "iopub.execute_input": "2024-03-08T13:50:17.000683Z",
     "iopub.status.busy": "2024-03-08T13:50:17.000402Z",
     "iopub.status.idle": "2024-03-08T13:50:17.016939Z",
     "shell.execute_reply": "2024-03-08T13:50:17.015759Z",
     "shell.execute_reply.started": "2024-03-08T13:50:17.000661Z"
    },
    "tags": []
   },
   "outputs": [],
   "source": [
    "def arrToInt(array):\n",
    "    #Returns array of integers as the one integer lexically\n",
    "    return int(''.join(map(str, array)))\n",
    "\n",
    "def canonFirstRow(sudoku, i):\n",
    "    #Returns first row of canonised Sudoku as an integer\n",
    "    return arrToInt(canonise3x3(sudoku, i+1)[0:9])\n",
    "\n",
    "def isMorph3x3(sudoku1, sudoku2):\n",
    "    #Iterate canonisation through every possible i\n",
    "    n = len(sudoku1)\n",
    "    if n != len(sudoku2): raise ValueError(\"Both sudokus must have same length\")\n",
    "    if (np.sqrt(np.sqrt(n))//1)**4 != n: raise ValueError(\"Sudoku length must be a power of four\")\n",
    "    nSqrd = int(np.sqrt(n))\n",
    "    if max(sudoku1) > nSqrd or max(sudoku2) > nSqrd: raise ValueError(\"Sudoku values cannot exceed n^2\")\n",
    "    if min(sudoku1) < 1 or min(sudoku2) < 1: raise ValueError(\"Sudoku values must be >= 1\")        \n",
    "            \n",
    "    firstRowS1, firstRowS1T, firstRowS2 = [],[],[]\n",
    "    for i in range(9):\n",
    "        #Get the first row of sudoku1, sudoku1^T and sudoku2 after canonisation\n",
    "        firstRowS1.append(canonFirstRow(sudoku1, i))\n",
    "        firstRowS1T.append(canonFirstRow(transpose(sudoku1), i))\n",
    "        firstRowS2.append(canonFirstRow(sudoku2, i))\n",
    "    for i in range(9):\n",
    "        for j in range(9):\n",
    "            if firstRowS1[i] == firstRowS2[j] or firstRowS1T[i] == firstRowS2[j]:\n",
    "                return True\n",
    "    return False"
   ]
  },
  {
   "cell_type": "markdown",
   "id": "1adc00db-9d4a-4870-a063-03bc4edbd880",
   "metadata": {},
   "source": [
    "It is important to note that if a sudoku is an automorphism (i.e. it can be morphed into itself via non-trivial transformations) then this algorithm may not work and would require a function that can detect if a sudoku is an automorphism. However, a process that doesn't rely on non-automorphic sudokus is the following."
   ]
  },
  {
   "cell_type": "markdown",
   "id": "b01fbe35-cdfe-491c-9986-61b29f0b438d",
   "metadata": {},
   "source": [
    "### A group theoretic approach\n",
    "\n",
    "We know that a $n$-Sudoku morph can be represented by a row permutation, a column permutation, a transposition, and then a permutation of the values. Using this knowledge, we can represent a morph of a $n$-Sudoku as a group.\n",
    "\n",
    "If we label the bands of a $n$-Sudoku as $A_1,\\ldots,A_n$, then a row permutation is a permutation of the rows in each $A_i$ ($1 \\leq i \\leq n$). Each band has $n$ rows, so every permutation of the rows in a band is an element of the symmetric group of order $n!$, $S_n$. As a permutation of rows in a band does not interfere with any rows in a different band, we can write a row permutation as a sequence of $n$ elements from $S_n$. The set of all sequences of  elements from $S_n$ of length $n$ is the group $(S_n)^n$, the direct product of $n$ copies of $S_n$. A similar argument can be made with column permutations. \n",
    "\n",
    "Given a Sudoku $S$, we have two decisions; we can tranpose the Sudoku, or we can leave it as is. If we transpose $S$ twice, we are left with $S$ again. This behaviour can be represented by the cyclic group of order $2$, $C_2$.\n",
    "\n",
    "Finally, a permutation of values of a $n$-Sudoku can be represented by a permutation in $S_(n^2)$. Putting this all together, we can represent a morph of an $n$-Sudoku by a sequence $(\\pi, \\tau, z, \\sigma)$ where $\\pi, \\tau \\in (S_n)^n$, $z \\in C_2$, and $\\sigma \\in  S_{n^2}$. The set of all of these sequences is the direct product $$(S_n)^n \\times (S_n)^n \\times C_2 \\times S_{n^2}.$$ This group has order $(n!)^n \\times (n!)^n \\times 2 \\times (n^2)! = 2(n!)^{2n}(n^2)!$. From now on, we will refer to the group $(S_n)^n \\times (S_n)^n \\times C_2 \\times S_{n^2}$ as $G$.\n",
    "\n",
    "Let $X$ be the set of all Sudokus. Then $G$ acts on $X$ in the natural way. Determining if two Sudokus are morphs of each other is equivalent to asking if two Sudokus lie in the same orbit. We could calculate this orbit directly using $G$, but we'll run into difficulty as $G$ is so big. Therefore, given two $n$-Sudokus $S,T$, our strategy will be only considering when $n=3$, calculating the orbit of $S$ under $(S_n)^n \\times (S_n)^n \\times C_2$. Notice we're not considering value permutations as these take a very long time to compute."
   ]
  },
  {
   "cell_type": "code",
   "execution_count": 27,
   "id": "f7a61574-680d-4d54-83c5-5e473a1bd8f4",
   "metadata": {
    "execution": {
     "iopub.execute_input": "2024-03-08T13:50:17.017751Z",
     "iopub.status.busy": "2024-03-08T13:50:17.017542Z",
     "iopub.status.idle": "2024-03-08T13:50:17.035825Z",
     "shell.execute_reply": "2024-03-08T13:50:17.035058Z",
     "shell.execute_reply.started": "2024-03-08T13:50:17.017730Z"
    },
    "tags": []
   },
   "outputs": [],
   "source": [
    "# These are all possible permutations of each block/stack\n",
    "S3b1 = [[[0,0]], [[0,1]], [[0,2]], [[1,2]], [[0,1],[0,2]], [[0,2],[0,1]]]\n",
    "S3b2 = [[[3,3]], [[3,4]], [[3,5]], [[4,5]], [[3,4],[3,5]], [[3,5],[3,4]]]\n",
    "S3b3 = [[[6,6]], [[6,7]], [[6,8]], [[7,8]], [[6,7],[6,8]], [[6,8],[6,7]]]\n",
    "\n",
    "# This gives a list of all possible row/column permutations\n",
    "permutations = []\n",
    "for i in S3b1:\n",
    "    for j in S3b2:\n",
    "        for k in S3b3:\n",
    "            permutations.append(i+j+k)\n",
    "\n",
    "# This function will return all Sudokus in the \"restricted\" orbit (not considering value permutations)\n",
    "def restrictedOrbit(sudoku):\n",
    "    \n",
    "    # There are 216 possible row permutations\n",
    "    fullGrid = [sudoku]*216\n",
    "    \n",
    "    # This will be the list of all Sudokus under all row permutations\n",
    "    rowPermuted = [] \n",
    "    \n",
    "    # Performs the row permutations and adds is to rowPermuted\n",
    "    for i in range(216):\n",
    "        tempSudoku = rowPerm(fullGrid[i], permutations[i])\n",
    "        rowPermuted.append(tempSudoku)\n",
    "    \n",
    "    # columnPermuted[i] will be rowPermuted after being columnPermuted by permutations[i]\n",
    "    columnPermuted = [[] for _ in range(216)]\n",
    "\n",
    "    # Similar to rowPermuted\n",
    "    for s in range(0,216):\n",
    "        for t in range(0,216):\n",
    "            tempSudoku = columnPerm(rowPermuted[t], permutations[s])\n",
    "            columnPermuted[s].append(tempSudoku)\n",
    "    \n",
    "    # This will be the list of Sudokus found so far, transposed\n",
    "    transposed = [[] for _ in range(216)]\n",
    "    \n",
    "    # Performs the transposition\n",
    "    for i in range(0,216):\n",
    "        for j in range(0,216):\n",
    "            tempSudoku = transpose(columnPermuted[i][j])\n",
    "            transposed[i].append(tempSudoku)\n",
    "    \n",
    "    # Combines the lists of transposed and nottransposed Sudokus\n",
    "    restrictedMorphs = columnPermuted + transposed\n",
    "    \n",
    "    return restrictedMorphs"
   ]
  },
  {
   "cell_type": "markdown",
   "id": "12aa8102-6fa6-401b-b9f3-bf3e915d89ad",
   "metadata": {},
   "source": [
    "The reason the list `restricedMorphs` is in this strange format is because the data of what row permutation, column permutation, and whether a transposition was performed, is preserved. Note that this list might have repeated Sudokus.\n",
    "\n",
    "We can now define a function which determines if two $3$-Sudokus are in the same restricted orbit, and if so, gives the morph between them in the format `[True, rowPerm, columnPerm, transposition]`."
   ]
  },
  {
   "cell_type": "code",
   "execution_count": 28,
   "id": "c380013e-350b-4ac8-9288-868bae595b67",
   "metadata": {
    "execution": {
     "iopub.execute_input": "2024-03-08T13:50:17.042334Z",
     "iopub.status.busy": "2024-03-08T13:50:17.042105Z",
     "iopub.status.idle": "2024-03-08T13:50:17.056008Z",
     "shell.execute_reply": "2024-03-08T13:50:17.055086Z",
     "shell.execute_reply.started": "2024-03-08T13:50:17.042313Z"
    },
    "tags": []
   },
   "outputs": [],
   "source": [
    "# This will return a True along with the morph (so we can calc. the morph which sends s1 to s2)\n",
    "# if the Sudokus are morphs, and False otherwise\n",
    "def restrictedEquiv(sudoku1, sudoku2):\n",
    "    orbit = restrictedOrbit(sudoku1)\n",
    "    \n",
    "    for i in orbit:\n",
    "        for j in i:\n",
    "            if j == sudoku2:\n",
    "                # if orbit.index(i) is above 216, then the Sudoku is in the half of orbit added when we were\n",
    "                # considering tranpositions in restritedOrbit\n",
    "                if orbit.index(i) > 216: \n",
    "                    return [True, permutations[i.index(j)], permutations[(orbit.index(i))-216], 1]\n",
    "                else:\n",
    "                    return [True, permutations[i.index(j)], permutations[orbit.index(i)], 0]\n",
    "    return False"
   ]
  },
  {
   "cell_type": "markdown",
   "id": "9758fe59-4226-4260-860c-e11c2d5237e5",
   "metadata": {},
   "source": [
    "Using this restricted orbit, we can get a bound on the stabiliser of a Sudoku. To do this we need to trim down the list `restrictedOrbit` since it might have repeats."
   ]
  },
  {
   "cell_type": "code",
   "execution_count": 29,
   "id": "4758a343-9a8a-471b-a3e9-377fe6d1c71d",
   "metadata": {
    "execution": {
     "iopub.execute_input": "2024-03-08T13:50:17.056811Z",
     "iopub.status.busy": "2024-03-08T13:50:17.056591Z",
     "iopub.status.idle": "2024-03-08T13:50:17.072745Z",
     "shell.execute_reply": "2024-03-08T13:50:17.071795Z",
     "shell.execute_reply.started": "2024-03-08T13:50:17.056790Z"
    },
    "tags": []
   },
   "outputs": [],
   "source": [
    "# Returns a list of distinct elements in the orbit\n",
    "def distinctResOrbit(sudoku):\n",
    "    orbit = restrictedOrbit(sudoku)\n",
    "    \n",
    "    distinctOrbit = []\n",
    "    \n",
    "    for i in orbit:\n",
    "        for j in i:\n",
    "            if j not in distinctOrbit:\n",
    "                distinctOrbit.append(j)\n",
    "    \n",
    "    return distinctOrbit"
   ]
  },
  {
   "cell_type": "markdown",
   "id": "748a1ad6-1a93-41a8-aa20-3f6e0c3db75d",
   "metadata": {
    "execution": {
     "iopub.execute_input": "2024-03-06T19:10:13.894150Z",
     "iopub.status.busy": "2024-03-06T19:10:13.893744Z",
     "iopub.status.idle": "2024-03-06T19:10:13.904184Z",
     "shell.execute_reply": "2024-03-06T19:10:13.902609Z",
     "shell.execute_reply.started": "2024-03-06T19:10:13.894110Z"
    },
    "tags": []
   },
   "source": [
    "Using this new orbit, we can get a bound on the stabiliser of a Sudoku. Let $S$ be a Sudoku. We'll denote the orbit of $S$ by $\\textrm{Orb}(S)$ and the stabiliser by $\\textrm{Stab}(S)$. By the Orbit-Stabiliser theorem, we know that $$|\\textrm{Stab}(S)| = \\frac{|G|}{|\\textrm{Orb}(S)|}.$$ Hence, as we're *underestimating* the orbit of $S$ by not considering value permutations, we know that $$|\\textrm{Stab}(S)| \\leq \\frac{|G|}{|\\textrm{Orb}(S)|}.$$ If we take $G$ to be the group $(S_3)^3 \\times (S_3)^3 \\times C_2$ (which we will now denote as $H$) however, ignoring value permutations, then this is an equality."
   ]
  },
  {
   "cell_type": "code",
   "execution_count": 30,
   "id": "19363c89-96fb-4613-a4e6-6bda1ff250b4",
   "metadata": {
    "execution": {
     "iopub.execute_input": "2024-03-08T13:50:17.073783Z",
     "iopub.status.busy": "2024-03-08T13:50:17.073568Z",
     "iopub.status.idle": "2024-03-08T13:50:17.089300Z",
     "shell.execute_reply": "2024-03-08T13:50:17.088301Z",
     "shell.execute_reply.started": "2024-03-08T13:50:17.073762Z"
    },
    "tags": []
   },
   "outputs": [],
   "source": [
    "# This returns a bound on the size of the stabiliser of a Sudoku\n",
    "def boundOnStab(sudoku):\n",
    "    distinctOrbit = distinctResOrbit(sudoku)\n",
    "    orbSize = len(distinctOrbit)\n",
    "    \n",
    "    # big num. is the order of G when n=3\n",
    "    return (33861058560)/orbSize"
   ]
  },
  {
   "cell_type": "markdown",
   "id": "6b20ec3a-c80e-40cf-b5d2-a1c245e27eb4",
   "metadata": {},
   "source": [
    "It's worth noting that the code above isn't efficient. The canonisation method is far faster, but doesn't give any information on orbits, stabilisers, and if two Sudokus are equivalent (without a value permutation) what is the morph taking one to the other."
   ]
  },
  {
   "cell_type": "markdown",
   "id": "15d5e471-0c09-4a0c-bb79-30cef3eba911",
   "metadata": {
    "tags": []
   },
   "source": [
    "### Testing and examples\n",
    "\n",
    "Here is a $3$-Sudoku. "
   ]
  },
  {
   "cell_type": "code",
   "execution_count": 31,
   "id": "72bb7cfe-28de-4317-a736-41a980d4e14b",
   "metadata": {
    "execution": {
     "iopub.execute_input": "2024-03-08T13:50:17.090293Z",
     "iopub.status.busy": "2024-03-08T13:50:17.090071Z",
     "iopub.status.idle": "2024-03-08T13:50:17.105889Z",
     "shell.execute_reply": "2024-03-08T13:50:17.105018Z",
     "shell.execute_reply.started": "2024-03-08T13:50:17.090272Z"
    },
    "tags": []
   },
   "outputs": [],
   "source": [
    "testSudoku = [4,3,5,2,6,9,7,8,1,6,8,2,5,7,1,4,9,3,1,9,7,8,3,4,5,6,2,8,2,6,1,9,5,3,4,7,3,7,4,6,8,2,9,1,5,9,5,1,7,4,3,6,2,8,5,1,9,3,2,6,8,7,4,2,4,8,9,5,7,1,3,6,7,6,3,4,1,8,2,5,9]"
   ]
  },
  {
   "cell_type": "markdown",
   "id": "f775a216-1370-44ce-8e9b-11e6ba69b6ea",
   "metadata": {},
   "source": [
    "We will do a morph on this Sudoku to give evidence that our functions work and how their output will look like."
   ]
  },
  {
   "cell_type": "code",
   "execution_count": 32,
   "id": "7fc2f6fc-e76e-48cf-814f-572b64d0332b",
   "metadata": {
    "execution": {
     "iopub.execute_input": "2024-03-08T13:50:17.106867Z",
     "iopub.status.busy": "2024-03-08T13:50:17.106650Z",
     "iopub.status.idle": "2024-03-08T13:50:25.150267Z",
     "shell.execute_reply": "2024-03-08T13:50:25.149186Z",
     "shell.execute_reply.started": "2024-03-08T13:50:17.106846Z"
    },
    "tags": []
   },
   "outputs": [
    {
     "name": "stdout",
     "output_type": "stream",
     "text": [
      "[True, [[0, 2], [4, 5], [6, 7]], [[1, 2], [3, 3], [6, 6]], 0]\n",
      "[True, [[0, 2], [4, 5], [6, 7]], [[1, 2], [3, 3], [6, 6]], 1]\n",
      "False\n"
     ]
    }
   ],
   "source": [
    "testSudokuPermuted = columnPerm(rowPerm(testSudoku, [[4,5],[0,2],[6,7]]), [[1,2]])\n",
    "\n",
    "# This should return True, along with the morph between them\n",
    "print(restrictedEquiv(testSudoku, testSudokuPermuted))\n",
    "\n",
    "# This should return the same as above but with a 1 in the last position in the list indicating a transpose\n",
    "print(restrictedEquiv(testSudoku, transpose(testSudokuPermuted)))\n",
    "\n",
    "fakeSudoku = [x for x in range(9)]*9\n",
    "\n",
    "# This should return False as fakeSudoku isn't even a Sudoku\n",
    "print(restrictedEquiv(testSudoku, fakeSudoku))"
   ]
  },
  {
   "cell_type": "markdown",
   "id": "4baee251-11c5-4f63-a59f-6a54f2fb9705",
   "metadata": {},
   "source": [
    "### Closing remarks on the group theoretic approach\n",
    "\n",
    "I was excited to use group theory to solve this part of the project since is uses algebra, a part of mathematics I'm passionate about. I'm glad I was able to inclu"
   ]
  },
  {
   "cell_type": "markdown",
   "id": "8116565e-bb6d-40f0-973e-b626c1ef42b7",
   "metadata": {},
   "source": [
    "It is important to note that if a sudoku is an automorphism (i.e. it can be morphed into itself via non-trivial transformations) then this algorithm may not work and would require a function that can detect if a sudoku is an automorphism. However, a process that doesn't rely on non-automorphic sudokus is the following."
   ]
  },
  {
   "cell_type": "markdown",
   "id": "240f6355-27ed-4553-99be-7bc38b5784f5",
   "metadata": {},
   "source": [
    "### A group theoretic approach\n",
    "\n",
    "We know that a $n$-Sudoku morph can be represented by a row permutation, a column permutation, a transposition, and then a permutation of the values. Using this knowledge, we can represent a morph of a $n$-Sudoku as a group.\n",
    "\n",
    "If we label the bands of a $n$-Sudoku as $A_1,\\ldots,A_n$, then a row permutation is a permutation of the rows in each $A_i$ ($1 \\leq i \\leq n$). Each band has $n$ rows, so every permutation of the rows in a band is an element of the symmetric group of order $n!$, $S_n$. As a permutation of rows in a band does not interfere with any rows in a different band, we can write a row permutation as a sequence of $n$ elements from $S_n$. The set of all sequences of  elements from $S_n$ of length $n$ is the group $(S_n)^n$, the direct product of $n$ copies of $S_n$. A similar argument can be made with column permutations. \n",
    "\n",
    "Given a Sudoku $S$, we have two decisions; we can tranpose the Sudoku, or we can leave it as is. If we transpose $S$ twice, we are left with $S$ again. This behaviour can be represented by the cyclic group of order $2$, $C_2$.\n",
    "\n",
    "Finally, a permutation of values of a $n$-Sudoku can be represented by a permutation in $S_(n^2)$. Putting this all together, we can represent a morph of an $n$-Sudoku by a sequence $(\\pi, \\tau, z, \\sigma)$ where $\\pi, \\tau \\in (S_n)^n$, $z \\in C_2$, and $\\sigma \\in  S_{n^2}$. The set of all of these sequences is the direct product $$(S_n)^n \\times (S_n)^n \\times C_2 \\times S_{n^2}.$$ This group has order $(n!)^n \\times (n!)^n \\times 2 \\times (n^2)! = 2(n!)^{2n}(n^2)!$. From now on, we will refer to the group $(S_n)^n \\times (S_n)^n \\times C_2 \\times S_{n^2}$ as $G$.\n",
    "\n",
    "Let $X$ be the set of all Sudokus. Then $G$ acts on $X$ in the natural way. Determining if two Sudokus are morphs of each other is equivalent to asking if two Sudokus lie in the same orbit. We could calculate this orbit directly using $G$, but we'll run into difficulty as $G$ is so big. Therefore, given two $n$-Sudokus $S,T$, our strategy will be only considering when $n=3$, calculating the orbit of $S$ under $(S_n)^n \\times (S_n)^n \\times C_2$. Notice we're not considering value permutations as these take a very long time to compute."
   ]
  },
  {
   "cell_type": "code",
   "execution_count": 33,
   "id": "913433de-1db9-4032-a7e4-9be1b4001c6e",
   "metadata": {
    "execution": {
     "iopub.execute_input": "2024-03-08T13:50:25.151494Z",
     "iopub.status.busy": "2024-03-08T13:50:25.151264Z",
     "iopub.status.idle": "2024-03-08T13:50:25.160309Z",
     "shell.execute_reply": "2024-03-08T13:50:25.159563Z",
     "shell.execute_reply.started": "2024-03-08T13:50:25.151472Z"
    },
    "tags": []
   },
   "outputs": [],
   "source": [
    "# These are all possible permutations of each block/stack\n",
    "S3b1 = [[[0,0]], [[0,1]], [[0,2]], [[1,2]], [[0,1],[0,2]], [[0,2],[0,1]]]\n",
    "S3b2 = [[[3,3]], [[3,4]], [[3,5]], [[4,5]], [[3,4],[3,5]], [[3,5],[3,4]]]\n",
    "S3b3 = [[[6,6]], [[6,7]], [[6,8]], [[7,8]], [[6,7],[6,8]], [[6,8],[6,7]]]\n",
    "\n",
    "# This gives a list of all possible row/column permutations\n",
    "permutations = []\n",
    "for i in S3b1:\n",
    "    for j in S3b2:\n",
    "        for k in S3b3:\n",
    "            permutations.append(i+j+k)\n",
    "\n",
    "# This function will return all Sudokus in the \"restricted\" orbit (not considering value permutations)\n",
    "def restrictedOrbit(sudoku):\n",
    "    \n",
    "    # There are 216 possible row permutations\n",
    "    fullGrid = [sudoku]*216\n",
    "    \n",
    "    # This will be the list of all Sudokus under all row permutations\n",
    "    rowPermuted = [] \n",
    "    \n",
    "    # Performs the row permutations and adds is to rowPermuted\n",
    "    for i in range(216):\n",
    "        tempSudoku = rowPerm(fullGrid[i], permutations[i])\n",
    "        rowPermuted.append(tempSudoku)\n",
    "    \n",
    "    # columnPermuted[i] will be rowPermuted after being columnPermuted by permutations[i]\n",
    "    columnPermuted = [[] for _ in range(216)]\n",
    "\n",
    "    # Similar to rowPermuted\n",
    "    for s in range(0,216):\n",
    "        for t in range(0,216):\n",
    "            tempSudoku = columnPerm(rowPermuted[t], permutations[s])\n",
    "            columnPermuted[s].append(tempSudoku)\n",
    "    \n",
    "    # This will be the list of Sudokus found so far, transposed\n",
    "    transposed = [[] for _ in range(216)]\n",
    "    \n",
    "    # Performs the transposition\n",
    "    for i in range(0,216):\n",
    "        for j in range(0,216):\n",
    "            tempSudoku = transpose(columnPermuted[i][j])\n",
    "            transposed[i].append(tempSudoku)\n",
    "    \n",
    "    # Combines the lists of transposed and nottransposed Sudokus\n",
    "    restrictedMorphs = columnPermuted + transposed\n",
    "    \n",
    "    return restrictedMorphs"
   ]
  },
  {
   "cell_type": "markdown",
   "id": "8ca4feec-0372-4fb6-ba69-64df7c8c000f",
   "metadata": {},
   "source": [
    "The reason the list `restricedMorphs` is in this strange format is because the data of what row permutation, column permutation, and whether a transposition was performed, is preserved. Note that this list might have repeated Sudokus.\n",
    "\n",
    "We can now define a function which determines if two $3$-Sudokus are in the same restricted orbit, and if so, gives the morph between them in the format `[True, rowPerm, columnPerm, transposition]`."
   ]
  },
  {
   "cell_type": "code",
   "execution_count": 34,
   "id": "f1de859e-7325-454f-ae29-6d0108bb62e9",
   "metadata": {
    "execution": {
     "iopub.execute_input": "2024-03-08T13:50:25.161209Z",
     "iopub.status.busy": "2024-03-08T13:50:25.160986Z",
     "iopub.status.idle": "2024-03-08T13:50:25.180117Z",
     "shell.execute_reply": "2024-03-08T13:50:25.178769Z",
     "shell.execute_reply.started": "2024-03-08T13:50:25.161189Z"
    },
    "tags": []
   },
   "outputs": [],
   "source": [
    "# This will return a True along with the morph (so we can calc. the morph which sends s1 to s2)\n",
    "# if the Sudokus are morphs, and False otherwise\n",
    "def restrictedEquiv(sudoku1, sudoku2):\n",
    "    orbit = restrictedOrbit(sudoku1)\n",
    "    \n",
    "    for i in orbit:\n",
    "        for j in i:\n",
    "            if j == sudoku2:\n",
    "                # if orbit.index(i) is above 216, then the Sudoku is in the half of orbit added when we were\n",
    "                # considering tranpositions in restritedOrbit\n",
    "                if orbit.index(i) > 216: \n",
    "                    return [True, permutations[i.index(j)], permutations[(orbit.index(i))-216], 1]\n",
    "                else:\n",
    "                    return [True, permutations[i.index(j)], permutations[orbit.index(i)], 0]\n",
    "    return False"
   ]
  },
  {
   "cell_type": "markdown",
   "id": "083f023e-53f6-4566-a6b3-2fb8585c149a",
   "metadata": {},
   "source": [
    "Using this restricted orbit, we can get a bound on the stabiliser of a Sudoku. To do this we need to trim down the list `restrictedOrbit` since it might have repeats."
   ]
  },
  {
   "cell_type": "code",
   "execution_count": 35,
   "id": "c3d87038-fd13-4030-b26d-e6dcb52e18b7",
   "metadata": {
    "execution": {
     "iopub.execute_input": "2024-03-08T13:50:25.180925Z",
     "iopub.status.busy": "2024-03-08T13:50:25.180678Z",
     "iopub.status.idle": "2024-03-08T13:50:25.197164Z",
     "shell.execute_reply": "2024-03-08T13:50:25.196301Z",
     "shell.execute_reply.started": "2024-03-08T13:50:25.180893Z"
    },
    "tags": []
   },
   "outputs": [],
   "source": [
    "# Returns a list of distinct elements in the orbit\n",
    "def distinctResOrbit(sudoku):\n",
    "    orbit = restrictedOrbit(sudoku)\n",
    "    \n",
    "    distinctOrbit = []\n",
    "    \n",
    "    for i in orbit:\n",
    "        for j in i:\n",
    "            if j not in distinctOrbit:\n",
    "                distinctOrbit.append(j)\n",
    "    \n",
    "    return distinctOrbit"
   ]
  },
  {
   "cell_type": "markdown",
   "id": "4f397960-2309-48d3-a11f-6ac6a9c528c2",
   "metadata": {
    "execution": {
     "iopub.execute_input": "2024-03-06T19:10:13.894150Z",
     "iopub.status.busy": "2024-03-06T19:10:13.893744Z",
     "iopub.status.idle": "2024-03-06T19:10:13.904184Z",
     "shell.execute_reply": "2024-03-06T19:10:13.902609Z",
     "shell.execute_reply.started": "2024-03-06T19:10:13.894110Z"
    },
    "tags": []
   },
   "source": [
    "Using this new orbit, we can get a bound on the stabiliser of a Sudoku. Let $S$ be a Sudoku. We'll denote the orbit of $S$ by $\\textrm{Orb}(S)$ and the stabiliser by $\\textrm{Stab}(S)$. By the Orbit-Stabiliser theorem, we know that $$|\\textrm{Stab}(S)| = \\frac{|G|}{|\\textrm{Orb}(S)|}.$$ Hence, as we're *underestimating* the orbit of $S$ by not considering value permutations, we know that $$|\\textrm{Stab}(S)| \\leq \\frac{|G|}{|\\textrm{Orb}(S)|}.$$ If we take $G$ to be the group $(S_3)^3 \\times (S_3)^3 \\times C_2$ (which we will now denote as $H$) however, ignoring value permutations, then this is an equality."
   ]
  },
  {
   "cell_type": "code",
   "execution_count": 36,
   "id": "5a64296e-4c4e-4fbc-b008-6124a905d448",
   "metadata": {
    "execution": {
     "iopub.execute_input": "2024-03-08T13:50:25.198109Z",
     "iopub.status.busy": "2024-03-08T13:50:25.197885Z",
     "iopub.status.idle": "2024-03-08T13:50:25.213641Z",
     "shell.execute_reply": "2024-03-08T13:50:25.212494Z",
     "shell.execute_reply.started": "2024-03-08T13:50:25.198087Z"
    },
    "tags": []
   },
   "outputs": [],
   "source": [
    "# This returns a bound on the size of the stabiliser of a Sudoku\n",
    "def boundOnStab(sudoku):\n",
    "    distinctOrbit = distinctResOrbit(sudoku)\n",
    "    orbSize = len(distinctOrbit)\n",
    "    \n",
    "    # big num. is the order of G when n=3\n",
    "    return (33861058560)/orbSize"
   ]
  },
  {
   "cell_type": "markdown",
   "id": "bac05f31-431e-45ad-a8dc-9ef033c7d5e9",
   "metadata": {},
   "source": [
    "It's worth noting that the code above isn't efficient. The canonisation method is far faster, but doesn't give any information on orbits, stabilisers, and if two Sudokus are equivalent (without a value permutation) what is the morph taking one to the other."
   ]
  },
  {
   "cell_type": "markdown",
   "id": "51a6466c-497b-4245-9baa-d4ea1bbfce92",
   "metadata": {
    "tags": []
   },
   "source": [
    "### Testing and examples\n",
    "\n",
    "Here is a $3$-Sudoku. "
   ]
  },
  {
   "cell_type": "code",
   "execution_count": 37,
   "id": "25ed7762-86be-48f8-9a4f-4aacba119acb",
   "metadata": {
    "execution": {
     "iopub.execute_input": "2024-03-08T13:50:25.215036Z",
     "iopub.status.busy": "2024-03-08T13:50:25.214740Z",
     "iopub.status.idle": "2024-03-08T13:50:25.229994Z",
     "shell.execute_reply": "2024-03-08T13:50:25.228925Z",
     "shell.execute_reply.started": "2024-03-08T13:50:25.215007Z"
    },
    "tags": []
   },
   "outputs": [],
   "source": [
    "testSudoku = [4,3,5,2,6,9,7,8,1,6,8,2,5,7,1,4,9,3,1,9,7,8,3,4,5,6,2,8,2,6,1,9,5,3,4,7,3,7,4,6,8,2,9,1,5,9,5,1,7,4,3,6,2,8,5,1,9,3,2,6,8,7,4,2,4,8,9,5,7,1,3,6,7,6,3,4,1,8,2,5,9]"
   ]
  },
  {
   "cell_type": "markdown",
   "id": "8a5a14fc-f1a9-4dc0-ae9f-143d7c9b5cc8",
   "metadata": {},
   "source": [
    "We will do a morph on this Sudoku to give evidence that our functions work and how their output will look like."
   ]
  },
  {
   "cell_type": "code",
   "execution_count": 38,
   "id": "a7543557-e1e1-4e55-890a-51b4312e3a57",
   "metadata": {
    "execution": {
     "iopub.execute_input": "2024-03-08T13:50:25.231678Z",
     "iopub.status.busy": "2024-03-08T13:50:25.231316Z",
     "iopub.status.idle": "2024-03-08T13:50:33.005118Z",
     "shell.execute_reply": "2024-03-08T13:50:33.004055Z",
     "shell.execute_reply.started": "2024-03-08T13:50:25.231642Z"
    },
    "tags": []
   },
   "outputs": [
    {
     "name": "stdout",
     "output_type": "stream",
     "text": [
      "[True, [[0, 2], [4, 5], [6, 7]], [[1, 2], [3, 3], [6, 6]], 0]\n",
      "[True, [[0, 2], [4, 5], [6, 7]], [[1, 2], [3, 3], [6, 6]], 1]\n",
      "False\n"
     ]
    }
   ],
   "source": [
    "testSudokuPermuted = columnPerm(rowPerm(testSudoku, [[4,5],[0,2],[6,7]]), [[1,2]])\n",
    "\n",
    "# This should return True, along with the morph between them\n",
    "print(restrictedEquiv(testSudoku, testSudokuPermuted))\n",
    "\n",
    "# This should return the same as above but with a 1 in the last position in the list indicating a transpose\n",
    "print(restrictedEquiv(testSudoku, transpose(testSudokuPermuted)))\n",
    "\n",
    "fakeSudoku = [x for x in range(9)]*9\n",
    "\n",
    "# This should return False as fakeSudoku isn't even a Sudoku\n",
    "print(restrictedEquiv(testSudoku, fakeSudoku))"
   ]
  },
  {
   "cell_type": "markdown",
   "id": "6578a177-b321-4864-a981-4e47af692277",
   "metadata": {},
   "source": [
    "### Some final comments on the group theoretic approach\n",
    "\n",
    "I was enthusiastic with writing this part of the project since it was algebra-like. Unfortunately, the group theoretic approach might not be the best way to tackle the problem as the computations you end up having to do become enormous. It would've been nice to incorporate some more results into the analysis, like Burnside's Lemma to calculate the number of orbits. I am happy with my code of determining of two Sudokus are in the same orbit and what morph maps one to another, but I am less confident with my code on determining bounds."
   ]
  },
  {
   "cell_type": "markdown",
   "id": "3ecce745-2bbf-42ee-bb32-7a7fe605d14c",
   "metadata": {},
   "source": [
    "## Why a $n$-Sudoku puzzle can't have a unique solution if it contains fewer than $n^2-1$ entries\n",
    "\n",
    "If a $n$-Sudoku puzzle has less than $n^2-1$ entries, then there are at least $2$ numbers in the set $\\{1,\\ldots,n^2\\}$ which haven't been put in the puzzle at all, say $x$ and $y$. This means, if we solve the puzzle, we can value permute the Sudoku with the permutation which maps $x$ to $y$, $y$ to $x$, and leaves the others numbers unchanged. This value permutation gives a different solution to the puzzle."
   ]
  },
  {
   "cell_type": "markdown",
   "id": "83e2c4e8-a213-461f-a18d-92df4f61e145",
   "metadata": {},
   "source": [
    "# Part 4: Application of Manual Sudoku Techniques\n",
    "\n",
    "(BY NIHARIKA CHAVAN) \n",
    "\n",
    "In the previous parts, we have explored methods to solve partially completed $n \\times n$ sudoku grids by using basic backtracking methods to restrict candidate cell values. However, especially for large $n$, this can be computationally expensive and time consuming.\n",
    "\n",
    "To reduce computation efforts, we can use algorithms that restrict the candidate cell values before backtracking. If the Sudoku puzzle is not solved after this restriction, then we can employ backtracking methods. This way, even if backtracking is used, the algorithm is sifting through a reduced number of candidate cell values for each unsolved cell and is computationally efficient than backtracking alone.\n",
    "\n",
    "In this part, we shall employ the following two techniques:\n",
    "\n",
    "1. If there is only one candidate value for a cell, then assign the cell that value \n",
    "    \n",
    "2. If there is only one cell within a row, column, or box that has a value $z$ as a candidate, then assign the cell the value $z$.\n",
    "\n",
    "In Solution 1, `reduction(S, candidate_list_S)` implements technique 1 and `elimination(S, candidate_list_S)` implements technique 2.\n",
    "\n",
    "\n",
    "The strategy we used for this question is to independently write and implement two different functions that use the above techniques, and then evaluate which of our methods is more efficient by timing the functions. The most efficient functions will then be used for the backtracking process."
   ]
  },
  {
   "cell_type": "markdown",
   "id": "0a48c696-bdb5-477a-aae9-904ccc6fc2a2",
   "metadata": {},
   "source": [
    "Before considering any computation, we must have examples of partially filled sudoku grids that are accessible for any testing. This has been achieved, not only by considering the examples provided, but also by considering simple $2 \\times 2$ cases which we shall to check the functions defined subsequently are operating as intended.\n",
    "\n"
   ]
  },
  {
   "cell_type": "code",
   "execution_count": 39,
   "id": "06a505cd-7364-4c19-8c7e-ecf3adb9e34a",
   "metadata": {
    "execution": {
     "iopub.execute_input": "2024-03-08T13:50:33.006336Z",
     "iopub.status.busy": "2024-03-08T13:50:33.006119Z",
     "iopub.status.idle": "2024-03-08T13:50:33.017095Z",
     "shell.execute_reply": "2024-03-08T13:50:33.016308Z",
     "shell.execute_reply.started": "2024-03-08T13:50:33.006314Z"
    },
    "tags": []
   },
   "outputs": [],
   "source": [
    "## EXAMPLE SUDOKU GRIDS\n",
    "import gzip\n",
    "import pickle\n",
    "with gzip.open(\"4x4-puzzle.tar.gz\", \"rb\") as f:\n",
    "    large_puzzle = pickle.load(f)\n",
    "with gzip.open(\"unique-3x3.tar.gz\", \"rb\") as g:\n",
    "    unique_3x3 = pickle.load(g)"
   ]
  },
  {
   "cell_type": "code",
   "execution_count": 40,
   "id": "e9e0bab9-8ec2-4974-8d15-1298fb997197",
   "metadata": {
    "execution": {
     "iopub.execute_input": "2024-03-08T13:50:33.017984Z",
     "iopub.status.busy": "2024-03-08T13:50:33.017776Z",
     "iopub.status.idle": "2024-03-08T13:50:33.031000Z",
     "shell.execute_reply": "2024-03-08T13:50:33.030147Z",
     "shell.execute_reply.started": "2024-03-08T13:50:33.017963Z"
    },
    "tags": []
   },
   "outputs": [],
   "source": [
    "## SIMPLE 2X2 EXAMPLES FOR TESTING\n",
    "Correct = [1,2,3,4,3,4,1,2,2,1,4,3,4,3,2,1]    \n",
    "N = [0,2,3,4,3,0,1,2,2,1,4,0,4,3,0,1]\n",
    "M = [0,2,3,0,3,0,1,2,0,1,4,0,0,3,0,1]"
   ]
  },
  {
   "cell_type": "markdown",
   "id": "8138da54-41af-4ed3-a201-125ec5c5a7dc",
   "metadata": {
    "tags": []
   },
   "source": [
    "## Solution 1\n",
    "\n",
    "In this solution, my objective is to provide a general optimised function that employs both manual techniques 1 and 2, which can then undergo backtracking if need be to solve the puzzle.\n",
    "\n",
    "My initial aim is to produce two functions `reduction(S, candidate_list_S)` and `elimination(S, candidate_list_S)` corresponding to techniques 1 and 2 respectively, which inputs the partially completed Sudoku list `S` and either outputs a completed solution for `S`, or a list containing the set of possible candidate values for each of the cells in `S`.\n",
    "\n",
    "(If we have already computed a list of reduced candidate values for each cell, then to improve efficiency I have added a second input `candidate_list(S)` to both functions.)\n",
    "\n",
    "Furthermore, by combining `reduction` and `elimination` into one neater function that I have called `combined`, I intend to iterate our `candidate_list_S` through `combined`, until either `S` has been solved, or `candidate_list_S` can no longer be reduced. Once I have achieved this, `candidate_list_S` will be in the most optimised form and can be backtracked to solve `S`."
   ]
  },
  {
   "cell_type": "markdown",
   "id": "4ba2e80e-6657-4a3b-850b-69159d6d44b1",
   "metadata": {},
   "source": [
    "### Cell Locator Functions\n",
    "\n",
    "For the reduction and elimination methods, I will need to retrieve information regarding the location of each of the unsolved cells $x$, in order to determine which other cells are in the same row, column or box as $x$ (for future reference, I will refer to any cells $y$ that are in the same row, column or box as $x$ as being in the same neighbourhood as $x$. If any of these cells $y$ are filled in, then we can eliminate the values `S[y]` from the set of possible candidate values that x can take.\n",
    "\n",
    "For the elimination method, I will need to know whether $x$ and $y$ are specifically in the same row, same column or same box as each other in order to satsify the condition for technique 2. This is obtained by applying either `row_set(S,x)`, `col_set(S,x)` or `box_set(S,x)` respectively.\n",
    "\n",
    "However, for the reduction method, I only need to know whether or not $y$ is in the same neighbourhood as $x$ (since if `S[y] != 0`, $x$ cannot have the value `S[y]`). The `search(S,x)` outputs the set of all $y$ in the same neighbourhood as $x$."
   ]
  },
  {
   "cell_type": "code",
   "execution_count": 41,
   "id": "77bae25a-926b-4c05-b57f-855e61f873e7",
   "metadata": {
    "execution": {
     "iopub.execute_input": "2024-03-08T13:50:33.031926Z",
     "iopub.status.busy": "2024-03-08T13:50:33.031709Z",
     "iopub.status.idle": "2024-03-08T13:50:33.049609Z",
     "shell.execute_reply": "2024-03-08T13:50:33.048844Z",
     "shell.execute_reply.started": "2024-03-08T13:50:33.031906Z"
    },
    "tags": []
   },
   "outputs": [],
   "source": [
    "## All the functions are used for the elimination method\n",
    "## All functions except row_set, col_set and box_set are used for the reduction method\n",
    "\n",
    "## Since I will be using the value of n squared a lot in the subsequent functions, I have defined a new function that will return n squared, to avoid having to redefine this value every time\n",
    "def n_sq(S):\n",
    "    return int(len(S)**(0.5))\n",
    "\n",
    "## For a given cell index, this returns the ...\n",
    "\n",
    "# ... row number\n",
    "def row(S,x): \n",
    "    return x // n_sq(S)\n",
    "\n",
    "# ... column number\n",
    "def column(S,x):\n",
    "    return x % n_sq(S)\n",
    "\n",
    "# ... box number\n",
    "def box(S,x):\n",
    "    r = row(S,x)\n",
    "    c = column(S,x)\n",
    "    n = int(n_sq(S)**0.5)\n",
    "    return r - r%n + c // n\n",
    "\n",
    "#-----------------------------------------------------------------------------------------------------------------------------------------\n",
    "## For a given cell index x, if we want to obtain the other indices which are in the same row, column or box as x, WITHOUT containing x\n",
    "def row_set(S,x):\n",
    "    r_set = set()\n",
    "    for y in range(len(S)):\n",
    "        if row(S,y) == row(S,x) and y != x:\n",
    "            r_set.add(y)\n",
    "    return r_set\n",
    "\n",
    "def col_set(S,x):\n",
    "    c_set = set()\n",
    "    for y in range(len(S)):\n",
    "        if column(S,y) == column(S,x) and y != x:\n",
    "            c_set.add(y)\n",
    "    return c_set\n",
    "\n",
    "def box_set(S,x):\n",
    "    b_set = set()\n",
    "    for y in range(len(S)):\n",
    "        if box(S,y) == box(S,x) and y != x:\n",
    "            b_set.add(y)\n",
    "    return b_set\n",
    "\n",
    "#----------------------------------------------------------------------------------------------------------------------------------------\n",
    "## This function returns the set containing all indices y that are either in the same row or column as x WITHOUT including x itself\n",
    "def search(S,x):\n",
    "    return row_set(S,x) | col_set(S,x)| box_set(S,x)"
   ]
  },
  {
   "cell_type": "code",
   "execution_count": 42,
   "id": "aac26abd-b862-49df-8e2b-c21738ac5395",
   "metadata": {
    "execution": {
     "iopub.execute_input": "2024-03-08T13:50:33.050481Z",
     "iopub.status.busy": "2024-03-08T13:50:33.050273Z",
     "iopub.status.idle": "2024-03-08T13:50:33.066599Z",
     "shell.execute_reply": "2024-03-08T13:50:33.065810Z",
     "shell.execute_reply.started": "2024-03-08T13:50:33.050460Z"
    },
    "tags": []
   },
   "outputs": [],
   "source": [
    "## This function is purely reformat the Sudoku list into a square format to make this more readable, but is not necessary\n",
    "def sudoku_format(S):\n",
    "    size =  len(S)\n",
    "    result = []\n",
    "    for i in range(0, size, n_sq(S)):\n",
    "        result.append(S[i:i+n_sq(S)])\n",
    "    return result"
   ]
  },
  {
   "cell_type": "code",
   "execution_count": 43,
   "id": "07dc94a7-98ff-485d-89cd-9d11ebf6b7e6",
   "metadata": {
    "execution": {
     "iopub.execute_input": "2024-03-08T13:50:33.067545Z",
     "iopub.status.busy": "2024-03-08T13:50:33.067339Z",
     "iopub.status.idle": "2024-03-08T13:50:33.083851Z",
     "shell.execute_reply": "2024-03-08T13:50:33.082601Z",
     "shell.execute_reply.started": "2024-03-08T13:50:33.067525Z"
    },
    "tags": []
   },
   "outputs": [],
   "source": [
    "## This function obtains the list of unsolved cells for a partially completed Sudoku\n",
    "## Create and initialise a list one containing all the cell indices that are unsolved in the partially completed Sudoku\n",
    "    \n",
    "def unsolved_cells(S):\n",
    "    unsolved = {i for i in range(len(S)) if S[i] == 0}\n",
    "    return unsolved"
   ]
  },
  {
   "cell_type": "code",
   "execution_count": 44,
   "id": "72d22cac-e894-47d7-bd81-c72b1f3eebe2",
   "metadata": {
    "execution": {
     "iopub.execute_input": "2024-03-08T13:50:33.085442Z",
     "iopub.status.busy": "2024-03-08T13:50:33.085088Z",
     "iopub.status.idle": "2024-03-08T13:50:33.102532Z",
     "shell.execute_reply": "2024-03-08T13:50:33.101305Z",
     "shell.execute_reply.started": "2024-03-08T13:50:33.085408Z"
    },
    "tags": []
   },
   "outputs": [
    {
     "data": {
      "text/plain": [
       "{0, 5, 11, 14}"
      ]
     },
     "execution_count": 44,
     "metadata": {},
     "output_type": "execute_result"
    }
   ],
   "source": [
    "## TEST CELL\n",
    "unsolved_cells(N)"
   ]
  },
  {
   "cell_type": "markdown",
   "id": "120fa7ca-a9a1-4c46-9cdc-88643d855d54",
   "metadata": {},
   "source": [
    "### Introducing the Candidate Store\n",
    "\n",
    "In the functions below, for each unsolved cell with index $x$, I have defined the set `candidates` to contain the possible candidate values for the cell $x$.\n",
    "\n",
    "When employing the reduction and elimination techniques, I wanted to have a list that 'retained memory' of the remaining candidate values for each $x$ after reducing the number of values in `candidates`.\n",
    "\n",
    "To do this, I have introduced the concept of the `candidate_store`, which is a list with the same length as the partially filled Sudoku `S` and `candidate_store[x] = candidates`.\n",
    "\n",
    "For any cell with index $a$ that has already been solved, there can only be candidate value for $a$, which is `S[a]`. And so `candidate_store = {S[a]}`.\n",
    "\n",
    "By doing this, I can retrieve the set of possible candidate values for any unsolved cell and pass this list for subsequent reduction or elimination."
   ]
  },
  {
   "cell_type": "markdown",
   "id": "6fddff9e-74fd-4bfb-bff1-dd40552a348c",
   "metadata": {},
   "source": [
    "### Initialising the Candidate Store\n",
    "\n",
    "Let $n$ be the quartic root of the length of the length of the Sudoku grid (as defined in the `box(S,x)` function). I will refer to this $n$ as the \"dimension\" of the Sudoku grid.\n",
    "\n",
    "Without doing any elimination or reduction, we know that any unsolved cell with index $x$ must take a value between 1 and $n^2$ inclusive, by the rules of Sudoku. On the other hand, any solved cell with index $a$ must have one candidate value, `S[a]` as specified earlier.\n",
    "\n",
    "Using this information, we can set up an initial `candidate_store` list."
   ]
  },
  {
   "cell_type": "code",
   "execution_count": 45,
   "id": "ebd5165c-34b9-41b9-8105-a9dcf9467a8c",
   "metadata": {
    "execution": {
     "iopub.execute_input": "2024-03-08T13:50:33.105024Z",
     "iopub.status.busy": "2024-03-08T13:50:33.104057Z",
     "iopub.status.idle": "2024-03-08T13:50:33.120701Z",
     "shell.execute_reply": "2024-03-08T13:50:33.119378Z",
     "shell.execute_reply.started": "2024-03-08T13:50:33.104980Z"
    },
    "tags": []
   },
   "outputs": [],
   "source": [
    "## In the first iteration of reduction_technique(S) we want to initialise the candidate_store and unsolved_entries.\n",
    "def initialise(S):\n",
    "     \n",
    "    ## Assign variables \"size\" and \"n\" for simplification\n",
    "    size = len(S)\n",
    "    n = int(size**0.25)\n",
    "    \n",
    "    unsolved = unsolved_cells(S)\n",
    "    \n",
    "    candidate_store = [0]*size\n",
    "    \n",
    "    ## If we know that a cell has already been filled in with the value m, there should only be one candidate value for the cell - {m}\n",
    "    ## Otherwise, before doing any processing the cell could have any value between 1 to n^2\n",
    "    for i in range(size):\n",
    "        if i in unsolved:\n",
    "            candidate_store[i] = {*range(1, n**2+1)}\n",
    "        else:\n",
    "            candidate_store[i] = {S[i]}\n",
    "            \n",
    "    return candidate_store"
   ]
  },
  {
   "cell_type": "code",
   "execution_count": 46,
   "id": "a094284b-8a9b-41ca-a0ca-1da9074b42d8",
   "metadata": {
    "execution": {
     "iopub.execute_input": "2024-03-08T13:50:33.122678Z",
     "iopub.status.busy": "2024-03-08T13:50:33.122217Z",
     "iopub.status.idle": "2024-03-08T13:50:33.137098Z",
     "shell.execute_reply": "2024-03-08T13:50:33.135876Z",
     "shell.execute_reply.started": "2024-03-08T13:50:33.122633Z"
    },
    "tags": []
   },
   "outputs": [
    {
     "name": "stdout",
     "output_type": "stream",
     "text": [
      "[{1, 2, 3, 4}, {2}, {3}, {4}, {3}, {1, 2, 3, 4}, {1}, {2}, {2}, {1}, {4}, {1, 2, 3, 4}, {4}, {3}, {1, 2, 3, 4}, {1}]\n"
     ]
    }
   ],
   "source": [
    "print(initialise(N))"
   ]
  },
  {
   "cell_type": "markdown",
   "id": "a6762425-073d-4333-888b-72b85bd6c5aa",
   "metadata": {
    "tags": []
   },
   "source": [
    "### Reduction Technique\n",
    "\n",
    "This function will solve the Sudoku using this technique - \"If there is only one candidate value for a cell, then assign the cell that value.\"\n",
    "\n",
    "With the partially filled Sudoku grid `S` and the `candidate_list_S` of S, the function retrieves the unsolved indices in `S` by using the `unsolved_cells(S)` function.\n",
    "\n",
    "(Note, the variable I have called `candidate_list_S` is the `candidate_store` output after returning either `initialise`, `reduction` or `elimination`. But, I wanted to keep the variable `candidate_store` as something that is only defined within a given function.)\n",
    "\n",
    "Then I have reduced the possible candidate values for the cell `S[x]` by looking at any indices $j$ in the same row, column or box as $x$ and creating a set containing all of these `S[j]` values. Next, I have discarded all of these possible `S[j]` from the existing set of candidates, `candidate_store[x]`.\n",
    "\n",
    "If at this point `S[x]` has been reduced down to one candidate value $k$ then `S[x] = k` and we have solved for the index $x$.\n",
    "\n",
    "I have also created a new set called `now_solved` that will contain all of the indices have been solved through this iteration of the `reduction` function. All of these newly solved indices are removed from `unsolved` after iterating through all $x$. I opted for this method rather than removing the index from `unsolved` whilst iterating through $x$ because this would output errors due to set alteration when iterating.\n",
    "\n",
    "Finally, if there are no more unsolved cells then the function returns a completed Sudoku grid. Otherwise, the output is an updated list of candidates"
   ]
  },
  {
   "cell_type": "code",
   "execution_count": 47,
   "id": "6d67d585-e1e6-4426-9327-c52a017310ce",
   "metadata": {
    "execution": {
     "iopub.execute_input": "2024-03-08T13:50:33.139715Z",
     "iopub.status.busy": "2024-03-08T13:50:33.138727Z",
     "iopub.status.idle": "2024-03-08T13:50:33.157208Z",
     "shell.execute_reply": "2024-03-08T13:50:33.155873Z",
     "shell.execute_reply.started": "2024-03-08T13:50:33.139666Z"
    },
    "tags": []
   },
   "outputs": [],
   "source": [
    "def reduction(S, candidate_list_S):\n",
    "    \n",
    "    ## We will retrieve this list of potential candidate values, which will either come from previous iterations of the reduction function, or the base case when we we use the initialise function\n",
    "    ## The idea is that the ith zero in the candidate_store will contain the potential (candidate) values for the ith cell in the Sudoku (which should be unfilled)\n",
    "    \n",
    "    candidate_store = candidate_list_S\n",
    "    \n",
    "    ## Assign variables \"size\"\n",
    "    size = len(S)\n",
    "   \n",
    "    unsolved = unsolved_cells(S)\n",
    "    \n",
    "    ## Create an empty set that will contain the indices of all the cells that have been solved by applying the reduction function\n",
    "    now_solved = set()\n",
    "    ## For each unsolved index, create a set containing all of the S[j] that have been filled in - it doesn't matter here that 0 will also be in this set\n",
    "    for x in unsolved:\n",
    "\n",
    "        #candidates = candidate_store[x]\n",
    "        to_remove = {S[j] for j in search(S,x)} \n",
    "        \n",
    "        ## Remove all of the filled in values (contained in to_remove) from the set of potential candidates\n",
    "        candidates = candidate_store[x] - to_remove\n",
    "        \n",
    "        ## If there is only one candidate value j left in the cell then we must have that the xth cell must have this candidate value. Hence we have solved S[k] \n",
    "        if len(candidates) == 1:\n",
    "            for k in candidates:\n",
    "                S[x] = k\n",
    "            now_solved.add(x)\n",
    "        \n",
    "        candidate_store[x] = candidates\n",
    "    \n",
    "        ## Remove any newly solved indices from the unsolved set\n",
    "        unsolved = unsolved - now_solved\n",
    "        \n",
    "    ## Break statement - if after iterating through we have no unsolved cells left then the Sudoku is solved\n",
    "    if not unsolved:\n",
    "        return S\n",
    "    \n",
    "    ## If there are still some unsolved cells, this will output a list containing the updated candidate sets for each cell (including those filled in, as described in line 13) ready for further iterations\n",
    "    else:\n",
    "        return candidate_store\n",
    "    \n",
    "## Note, whilst S may still be unsolved, if any cells have been solved in one iteration of the function then S has still been altered"
   ]
  },
  {
   "cell_type": "markdown",
   "id": "843e8927-ec2d-4f70-814d-6cb57f7712a9",
   "metadata": {},
   "source": [
    "#### The subsequent cells are for checking the `reduction` function on various examples"
   ]
  },
  {
   "cell_type": "code",
   "execution_count": 48,
   "id": "5641837e-8e97-4e82-a8eb-78f0043c5d58",
   "metadata": {
    "execution": {
     "iopub.execute_input": "2024-03-08T13:50:33.159674Z",
     "iopub.status.busy": "2024-03-08T13:50:33.158751Z",
     "iopub.status.idle": "2024-03-08T13:50:33.177448Z",
     "shell.execute_reply": "2024-03-08T13:50:33.176232Z",
     "shell.execute_reply.started": "2024-03-08T13:50:33.159626Z"
    },
    "tags": []
   },
   "outputs": [
    {
     "data": {
      "text/plain": [
       "[1, 2, 3, 4, 3, 4, 1, 2, 2, 1, 4, 3, 4, 3, 2, 1]"
      ]
     },
     "execution_count": 48,
     "metadata": {},
     "output_type": "execute_result"
    }
   ],
   "source": [
    "N1 = N.copy()\n",
    "reduction(N1, initialise(N))\n",
    "## Note I am making copies of the example sudoku grids because after one iteration of reduction, elimination or combined, the entries inside N may change if any new cells are solved\n",
    "## But when I am testing these functions individually, I want to ensure that they all work on the grids defined at the start"
   ]
  },
  {
   "cell_type": "code",
   "execution_count": 49,
   "id": "8332e6ec-99a5-4d79-970a-d4b453f152b3",
   "metadata": {
    "execution": {
     "iopub.execute_input": "2024-03-08T13:50:33.179995Z",
     "iopub.status.busy": "2024-03-08T13:50:33.179007Z",
     "iopub.status.idle": "2024-03-08T13:50:33.195616Z",
     "shell.execute_reply": "2024-03-08T13:50:33.194283Z",
     "shell.execute_reply.started": "2024-03-08T13:50:33.179946Z"
    },
    "tags": []
   },
   "outputs": [
    {
     "name": "stdout",
     "output_type": "stream",
     "text": [
      "[{1, 4}, {2}, {3}, {4}, {3}, {4}, {1}, {2}, {2}, {1}, {4}, {3}, {4}, {3}, {2}, {1}]\n"
     ]
    }
   ],
   "source": [
    "M1 = M.copy()\n",
    "print(reduction(M1, initialise(M)))\n",
    "## Note: I am using a print statement here so that the list of sets returned by reduction is formatted nicely into a horizontal line"
   ]
  },
  {
   "cell_type": "code",
   "execution_count": 50,
   "id": "6e6d548f-a469-4234-a1b9-8a633e007218",
   "metadata": {
    "execution": {
     "iopub.execute_input": "2024-03-08T13:50:33.197641Z",
     "iopub.status.busy": "2024-03-08T13:50:33.197163Z",
     "iopub.status.idle": "2024-03-08T13:50:33.243785Z",
     "shell.execute_reply": "2024-03-08T13:50:33.242724Z",
     "shell.execute_reply.started": "2024-03-08T13:50:33.197594Z"
    },
    "tags": []
   },
   "outputs": [
    {
     "name": "stdout",
     "output_type": "stream",
     "text": [
      "[[{1, 2, 4, 7, 9}, {6}, {1, 2, 4, 8, 9}, {5}, {8, 2, 7}, {9, 7}, {8, 4}, {3}, {8, 9, 4, 7}], [{9, 4, 5, 7}, {8, 9, 5}, {8, 9, 4, 5}, {8, 3, 6, 7}, {8, 3, 7}, {9, 3, 6, 7}, {2}, {1}, {4, 5, 7, 8, 9}], [{3}, {8, 9, 5}, {1, 2, 5, 8, 9}, {8, 1, 2, 7}, {8, 2, 7}, {4}, {8, 5}, {6}, {8, 9, 5, 7}], [{6}, {4}, {1, 5}, {3}, {9}, {8}, {7}, {2, 5}, {1, 2, 5}], [{1, 9}, {2}, {8, 1, 9}, {6, 7}, {5}, {6, 7}, {1}, {4}, {3}], [{5}, {3}, {7}, {4}, {1}, {2}, {9}, {8}, {6}], [{2}, {7}, {3, 5, 6}, {9}, {4}, {3, 5}, {8, 3, 5, 6}, {5}, {8, 1}], [{9, 4}, {9, 5}, {9, 3, 4, 5}, {8, 2, 7}, {6}, {1}, {8, 3, 4}, {2, 7}, {8, 2, 4, 7}], [{8}, {1}, {3, 4, 5, 6}, {2, 7}, {2, 3, 7}, {3, 5, 7}, {3, 4, 6}, {9}, {2, 4, 7}]]\n"
     ]
    }
   ],
   "source": [
    "S91 = unique_3x3[9].copy()\n",
    "A = reduction(S91, initialise(S91))\n",
    "print(sudoku_format(reduction(S91,A)))"
   ]
  },
  {
   "cell_type": "code",
   "execution_count": 51,
   "id": "34f494ee-a849-459d-a3b6-48594e70c269",
   "metadata": {
    "execution": {
     "iopub.execute_input": "2024-03-08T13:50:33.244744Z",
     "iopub.status.busy": "2024-03-08T13:50:33.244515Z",
     "iopub.status.idle": "2024-03-08T13:50:33.251818Z",
     "shell.execute_reply": "2024-03-08T13:50:33.250777Z",
     "shell.execute_reply.started": "2024-03-08T13:50:33.244722Z"
    }
   },
   "outputs": [],
   "source": [
    "L1 = large_puzzle.copy()"
   ]
  },
  {
   "cell_type": "markdown",
   "id": "cfd612e9-fbe7-47b3-8377-b0aa1de539c8",
   "metadata": {
    "tags": []
   },
   "source": [
    "### Elimination Technique\n",
    "\n",
    "This function will solve the Sudoku using this technique - \"If there is only one cell within a row, column, or box that has a value $k$ as a candidate, then assign the cell the value $k$.\"\n",
    "\n",
    "The `elimination` function takes the same inputs `S` and `candidate_list_S` as before and performs the same method as in `reduction` to obtain the set of candidates for each unsolved cell with index $x$.\n",
    "However, we now have to look at all the candidate sets for $y$ in the same neighbourhood as $x$ to narrow down and assign `S[x]`.\n",
    "\n",
    "Now, in order to perform technique 2, I have set up individual counters labelled `count_row`, `count_col` and `count_box` and individual `for` loops when considering `y` in the same row, column or box respectively.\n",
    "\n",
    "Within the `for` loop, either the `row_set`, `col_set` or `box_set` functions will locate the appropriate $y$ values (noting that this DOES NOT include $x$ in any of these sets).\n",
    "\n",
    "For each value $k$ in candidates set for $x$, the loops will check if this $k$ is also in the candidate set for $y$. \n",
    "\n",
    "If so, then there are multiple cells in the row/column/box that could take the value $k$ and we cannot draw any further conclusions. So we can break the loop and choose the next $k$ in `candidates`. \n",
    "\n",
    "However, if no other cell, that contains $k$ as a candidate value in the row/box/column then `S[x] = k`"
   ]
  },
  {
   "cell_type": "code",
   "execution_count": 52,
   "id": "ecc26d88-24fd-477d-bdf3-f89aeebfa86c",
   "metadata": {
    "execution": {
     "iopub.execute_input": "2024-03-08T13:50:33.253053Z",
     "iopub.status.busy": "2024-03-08T13:50:33.252827Z",
     "iopub.status.idle": "2024-03-08T13:50:33.269059Z",
     "shell.execute_reply": "2024-03-08T13:50:33.268210Z",
     "shell.execute_reply.started": "2024-03-08T13:50:33.253030Z"
    },
    "tags": []
   },
   "outputs": [],
   "source": [
    "def elimination(S, candidate_list_S):\n",
    "    \n",
    "    #-------------------------------------------------------------\n",
    "    ## Same reasoning as in reduction function\n",
    "    candidate_store = candidate_list_S\n",
    "    size = len(S)\n",
    "    \n",
    "    unsolved = unsolved_cells(S)\n",
    "    now_solved = set()\n",
    "\n",
    "    for x in unsolved:\n",
    "        \n",
    "        to_remove = {S[j] for j in search(S,x)} \n",
    "        candidates = candidate_store[x] - to_remove\n",
    "        \n",
    "        candidate_store[x] = candidates\n",
    "        \n",
    "    #--------------------------------------------------------------    \n",
    "           \n",
    "    ## Set up separate counters for each k\n",
    "        \n",
    "        for k in candidates:\n",
    "            \n",
    "            ## Initialise and count through number of times k appears in the...\n",
    "            ## ... row\n",
    "            count_row = 0\n",
    "            \n",
    "            ## ... column\n",
    "            count_col = 0\n",
    "            \n",
    "            ##... box\n",
    "            count_box = 0\n",
    "            \n",
    "            # Iterate through y in the....\n",
    "            \n",
    "            # ... row\n",
    "            for y in row_set(S,x):\n",
    "                if k in candidate_store[y]:\n",
    "                    count_row +=1\n",
    "                    break\n",
    "            \n",
    "            # ... column\n",
    "            for y in col_set(S,x):\n",
    "                if k in candidate_store[y]:\n",
    "                    count_col +=1\n",
    "                    break\n",
    "            \n",
    "            # ... box\n",
    "            for y in box_set(S,x):\n",
    "                if k in candidate_store[y]:\n",
    "                    count_box +=1\n",
    "                    break\n",
    "                    \n",
    "            ## If any of the counters are greater than 1 then we are not interested in this value of k\n",
    "            ## If any of the counters are equal to 0 then S[x] = k\n",
    "            if count_row == 0 or count_col == 0 or count_box == 0:\n",
    "                S[x] = k\n",
    "                candidate_store[x] = {k}\n",
    "                now_solved.add(k)\n",
    "                break\n",
    "                \n",
    "    unsolved = unsolved - now_solved\n",
    "    if not unsolved:\n",
    "        return S\n",
    "    else:\n",
    "        return candidate_store"
   ]
  },
  {
   "cell_type": "markdown",
   "id": "4893e2fe-39bc-4a14-921a-9627afd32d56",
   "metadata": {},
   "source": [
    "#### Further Testing"
   ]
  },
  {
   "cell_type": "code",
   "execution_count": 53,
   "id": "58eaf9fc-4d3b-4f64-8882-c65f4114b377",
   "metadata": {
    "execution": {
     "iopub.execute_input": "2024-03-08T13:50:33.270015Z",
     "iopub.status.busy": "2024-03-08T13:50:33.269778Z",
     "iopub.status.idle": "2024-03-08T13:50:33.285725Z",
     "shell.execute_reply": "2024-03-08T13:50:33.284946Z",
     "shell.execute_reply.started": "2024-03-08T13:50:33.269992Z"
    },
    "tags": []
   },
   "outputs": [
    {
     "name": "stdout",
     "output_type": "stream",
     "text": [
      "[{1}, {2}, {3}, {4}, {3}, {4}, {1}, {2}, {2}, {1}, {4}, {3}, {4}, {3}, {2}, {1}]\n"
     ]
    }
   ],
   "source": [
    "N2 = N.copy()\n",
    "print(elimination(N2, initialise(N2)))"
   ]
  },
  {
   "cell_type": "code",
   "execution_count": 54,
   "id": "f96298fd-2a9f-4a40-9aeb-9694dd55f033",
   "metadata": {
    "execution": {
     "iopub.execute_input": "2024-03-08T13:50:33.286763Z",
     "iopub.status.busy": "2024-03-08T13:50:33.286515Z",
     "iopub.status.idle": "2024-03-08T13:50:33.371214Z",
     "shell.execute_reply": "2024-03-08T13:50:33.370199Z",
     "shell.execute_reply.started": "2024-03-08T13:50:33.286740Z"
    },
    "tags": []
   },
   "outputs": [
    {
     "name": "stdout",
     "output_type": "stream",
     "text": [
      "[{3, 5, 7}, {6}, {3, 5, 7}, {1, 3, 9, 7}, {9, 2, 3, 7}, {1, 3, 9, 7}, {4}, {8}, {9, 3, 5}, {1}, {9}, {3, 5, 7}, {4}, {8}, {3, 7}, {2, 3}, {6}, {3, 5}, {4}, {2}, {8}, {5}, {9, 3}, {6}, {1}, {7}, {9, 3}, {8}, {3, 4, 5, 7}, {3, 5, 6, 7, 9}, {2}, {1}, {9, 3, 7}, {3, 6}, {3, 5}, {3, 5, 6, 7}, {2, 3, 5, 6, 7, 9}, {3, 5, 7}, {1}, {3, 6, 7, 8, 9}, {3, 5, 6, 7, 9}, {8, 9, 3, 7}, {8, 3, 6}, {4}, {3, 5, 6, 7, 8}, {3, 5, 6, 7}, {3, 5, 7}, {3, 5, 6, 7}, {8, 3, 6, 7}, {4}, {8, 3, 7}, {9}, {1}, {2}, {2, 3, 6, 7}, {1, 3, 7}, {2, 3, 6, 7}, {1, 3, 6, 7, 8}, {3, 6, 7}, {4}, {5}, {9}, {8, 3, 6}, {9, 2, 3, 6}, {1, 3}, {9, 2, 3, 6}, {1, 3, 6, 8, 9}, {9, 3, 6}, {5}, {7}, {2, 3}, {4}, {5}, {8}, {4}, {9, 3, 6, 7}, {9, 3, 6, 7}, {2}, {3, 6}, {3}, {1}]\n"
     ]
    }
   ],
   "source": [
    "U = unique_3x3[5]\n",
    "print(elimination(U, initialise(U)))"
   ]
  },
  {
   "cell_type": "code",
   "execution_count": 55,
   "id": "40637df5-f8b6-478b-b968-31fc91a258c8",
   "metadata": {
    "execution": {
     "iopub.execute_input": "2024-03-08T13:50:33.372377Z",
     "iopub.status.busy": "2024-03-08T13:50:33.372147Z",
     "iopub.status.idle": "2024-03-08T13:50:34.140555Z",
     "shell.execute_reply": "2024-03-08T13:50:34.139777Z",
     "shell.execute_reply.started": "2024-03-08T13:50:33.372354Z"
    },
    "tags": []
   },
   "outputs": [
    {
     "name": "stdout",
     "output_type": "stream",
     "text": [
      "[{2, 6, 9, 11, 14}, {8, 9, 11, 14}, {12}, {2, 6, 8, 9, 11}, {13}, {16, 2, 6, 14}, {5}, {15}, {7}, {16, 10, 3, 6}, {1}, {4}, {8, 9, 10, 16}, {8, 16, 10, 3}, {2, 8, 9, 10, 11, 16}, {3, 8, 9, 10, 16}, {2, 6, 7, 9, 11, 15}, {9, 11, 15}, {1}, {2, 6, 7, 9, 11}, {2, 11}, {12}, {16, 11, 6, 7}, {2, 6, 7, 11, 16}, {3, 6, 10, 15, 16}, {3, 6, 10, 13, 15, 16}, {5}, {8}, {16, 9, 10, 13}, {4}, {2, 9, 10, 11, 13, 16}, {14}, {2, 5, 7, 9, 14, 15}, {4, 5, 8, 9, 14, 15}, {16}, {13}, {8, 1, 2}, {1, 2, 14}, {3}, {10}, {12, 15}, {15}, {11}, {9, 15}, {8, 1, 5, 9}, {8, 5}, {8, 1, 2, 9}, {6}, {11, 5, 6}, {3}, {8, 10, 6}, {4, 5, 6, 8, 11}, {9}, {16, 1, 6}, {1, 4, 6, 8, 11, 16}, {1, 4, 6, 11, 16}, {16, 10, 6}, {2}, {16, 10, 13}, {14}, {12}, {15}, {1, 8, 10, 11, 13, 16}, {7}, {10}, {12, 5, 14, 15}, {2, 15, 14, 7}, {2, 3, 5, 7, 12}, {2, 3, 5, 12, 15}, {11}, {9}, {2, 3, 5, 7, 16}, {2, 3, 8, 12, 16}, {16, 3, 14}, {4}, {2, 3, 7}, {6}, {1}, {8, 12, 13, 14, 16}, {8, 16, 12, 15}, {1}, {16}, {2, 6, 7}, {2, 3, 4, 6, 7, 12}, {2, 3, 12}, {2, 3}, {14}, {8}, {2, 3, 6, 10, 11, 12}, {9}, {15}, {13}, {10, 7}, {10, 12, 7}, {5}, {10, 4, 12}, {8}, {4, 5, 9, 12, 14, 15}, {9, 15, 14, 7}, {4, 5, 7, 9, 12}, {6}, {16, 1, 13, 15}, {1, 4, 7, 12, 13, 15, 16}, {1, 4, 5, 7, 16}, {16, 10, 12}, {16, 10, 14}, {7, 10, 12, 14, 16}, {10, 7}, {11}, {7, 10, 12, 13, 14, 16}, {3}, {2}, {13}, {4, 9, 12, 14, 15}, {11}, {2, 3, 4, 6, 7, 9, 12}, {10}, {16, 2, 3, 15}, {4, 7, 12, 15, 16}, {2, 3, 4, 7, 16}, {2, 3, 6, 8, 12, 16}, {1}, {2, 7, 8, 12, 14, 16}, {5}, {7, 8, 9, 14, 16}, {7, 8, 12, 14, 16}, {4, 8, 9, 12, 14, 16}, {4, 8, 9, 12, 15, 16}, {3, 5, 6, 9, 14, 15}, {2}, {9, 15, 6, 14}, {10}, {4}, {3, 6, 9, 15, 16}, {16, 6, 15}, {12}, {13}, {8}, {9, 7}, {1}, {16, 9, 5, 14}, {3, 5, 6, 14, 16}, {16, 9, 6, 14}, {11}, {11, 9, 3, 5}, {7}, {9}, {1}, {14}, {8}, {16, 11}, {2, 3, 5, 9, 11, 16}, {4}, {12}, {6}, {10, 9, 2, 3}, {15}, {16, 10, 3, 5}, {16, 9, 10}, {13}, {4}, {5, 8, 9, 12, 13, 14, 15}, {6, 8, 9, 13, 14, 15}, {3, 5, 6, 8, 9, 12, 16}, {1, 3, 5, 15}, {1, 3, 6, 9, 13, 15, 16}, {1, 6, 13, 15, 16}, {1, 3, 5, 6, 9, 16}, {10, 3, 5, 15}, {11}, {9, 10}, {9, 10, 3, 15}, {2}, {3, 5, 6, 8, 10, 12, 14, 16}, {7}, {1, 3, 8, 9, 10, 12, 16}, {3, 5, 6, 9, 11, 15}, {5, 8, 9, 11, 12, 13, 15}, {6, 8, 9, 13, 15}, {3, 5, 6, 8, 9, 11, 12}, {7}, {1, 2, 3, 6, 9, 13, 15}, {10}, {1, 2, 3, 5, 6, 9, 11}, {14}, {3, 5, 15}, {9, 2}, {16}, {8, 1, 5, 9}, {3, 5, 6, 8, 12}, {1, 4, 6, 8, 9, 12}, {1, 3, 4, 8, 9, 12}, {9, 2, 11, 7}, {6}, {5}, {14}, {1, 8, 11, 12, 15}, {10}, {1, 8, 11, 12, 15}, {1, 11, 9}, {2, 8, 11, 15, 16}, {16, 4, 13, 15}, {3}, {2, 11, 15}, {1, 7, 8, 13, 16}, {7, 8, 12, 13, 16}, {1, 8, 12, 13, 16}, {8, 1, 12, 16}, {9, 11}, {10}, {3}, {15}, {8, 1, 11, 12}, {4}, {1, 6, 8, 11, 12}, {13}, {8, 16, 11, 5}, {7}, {8, 16, 14}, {11}, {8, 1, 14, 16}, {2}, {1, 6, 8, 12, 14, 16}, {8, 1, 12, 16}, {16}, {8, 11, 13}, {8, 2, 13, 7}, {8, 2, 11, 7}, {8, 11, 3, 15}, {5}, {8, 11, 6, 15}, {11, 3, 6, 14}, {1}, {10, 13, 14, 15}, {2, 8, 10, 13, 14}, {12}, {4}, {9}, {6, 8, 10, 13, 14}, {8, 10}, {12}, {1}, {4}, {8}, {16}, {7}, {2}, {14}, {9}, {10, 13, 14}, {8, 10, 13, 14}, {6}, {3}, {11}, {15}, {5}]\n"
     ]
    }
   ],
   "source": [
    "L2 = large_puzzle.copy()\n",
    "print(elimination(L2, initialise(L2)))"
   ]
  },
  {
   "cell_type": "markdown",
   "id": "78eaa6e3-18a3-4a36-8585-fd1c0b0619ac",
   "metadata": {
    "tags": []
   },
   "source": [
    "### Combining the Reduction and Elimination Techniques Before Backtracking\n",
    "For efficiency and a better comparison to the function implemented in **Solution 2**, I have combined `reduction` and `elimination` algorithms (and their conditions to assign a non-zero value to an unsolved cell) into one `combined` function"
   ]
  },
  {
   "cell_type": "code",
   "execution_count": 56,
   "id": "e134d080-9603-4b33-b360-9e1617e7ba1f",
   "metadata": {
    "execution": {
     "iopub.execute_input": "2024-03-08T13:50:34.142001Z",
     "iopub.status.busy": "2024-03-08T13:50:34.141769Z",
     "iopub.status.idle": "2024-03-08T13:50:34.149156Z",
     "shell.execute_reply": "2024-03-08T13:50:34.148354Z",
     "shell.execute_reply.started": "2024-03-08T13:50:34.141979Z"
    },
    "tags": []
   },
   "outputs": [],
   "source": [
    "def combined(S, candidate_list_S):\n",
    "    \n",
    "    candidate_store = candidate_list_S\n",
    "    size = len(S)\n",
    "    unsolved = unsolved_cells(S)\n",
    "    now_solved = set()\n",
    "\n",
    "    for x in unsolved:\n",
    "        to_remove = {S[j] for j in search(S,x)} \n",
    "        candidates = candidate_store[x] - to_remove\n",
    "        candidate_store[x] = candidates\n",
    "        \n",
    "    #--------------------------------------------------------------  \n",
    "        if len(candidates) == 1:\n",
    "                for m in candidates:\n",
    "                    S[x] = m\n",
    "                now_solved.add(x)\n",
    "    #--------------------------------------------------------------\n",
    "        \n",
    "        for k in candidates:\n",
    "            \n",
    "            candidate_store[x] = candidates\n",
    "            count_row = 0\n",
    "            count_col = 0\n",
    "            count_box = 0\n",
    "            \n",
    " \n",
    "            for y in row_set(S,x):\n",
    "                if k in candidate_store[y]:\n",
    "                    count_row +=1\n",
    "                    break\n",
    "            \n",
    "            for y in col_set(S,x):\n",
    "                if k in candidate_store[y]:\n",
    "                    count_col +=1\n",
    "                    break\n",
    "            \n",
    "            for y in box_set(S,x):\n",
    "                if k in candidate_store[y]:\n",
    "                    count_box +=1\n",
    "                    break\n",
    "                \n",
    "            if count_row == 0 or count_col == 0 or count_box == 0:\n",
    "                S[x] = k\n",
    "                candidate_store[x] = {k}\n",
    "                now_solved.add(k)\n",
    "                break\n",
    "                \n",
    "    unsolved = unsolved - now_solved\n",
    "    if not unsolved:\n",
    "        return S\n",
    "    else:\n",
    "        return candidate_store"
   ]
  },
  {
   "cell_type": "markdown",
   "id": "2c445970-ab49-4d22-9632-9c2e5b0b1929",
   "metadata": {
    "execution": {
     "iopub.execute_input": "2024-03-08T03:38:05.953011Z",
     "iopub.status.busy": "2024-03-08T03:38:05.952650Z",
     "iopub.status.idle": "2024-03-08T03:38:05.958375Z",
     "shell.execute_reply": "2024-03-08T03:38:05.957304Z",
     "shell.execute_reply.started": "2024-03-08T03:38:05.952981Z"
    },
    "tags": []
   },
   "source": [
    "#### Further testing with examples"
   ]
  },
  {
   "cell_type": "code",
   "execution_count": 57,
   "id": "d1708558-f7c6-4ad2-b582-f7bb46599a06",
   "metadata": {
    "execution": {
     "iopub.execute_input": "2024-03-08T13:50:34.150401Z",
     "iopub.status.busy": "2024-03-08T13:50:34.150170Z",
     "iopub.status.idle": "2024-03-08T13:50:34.219017Z",
     "shell.execute_reply": "2024-03-08T13:50:34.218240Z",
     "shell.execute_reply.started": "2024-03-08T13:50:34.150379Z"
    },
    "tags": []
   },
   "outputs": [
    {
     "name": "stdout",
     "output_type": "stream",
     "text": [
      "[{1, 7}, {1, 2, 7}, {4}, {1, 2, 9}, {6}, {5}, {8}, {3}, {9}, {8, 1, 5, 7}, {1, 3, 5, 6, 7, 8}, {5, 6, 7, 8, 9}, {1, 4, 9}, {1, 4, 9}, {8, 9, 4}, {1, 5, 7}, {1, 7}, {2}, {8, 1, 5}, {8, 1, 2, 5}, {8, 9, 2, 5}, {1, 2, 9}, {3}, {7}, {6}, {4}, {5}, {8, 1, 4}, {8, 1}, {8}, {9, 3, 4, 6}, {2}, {9, 4, 6}, {1, 3, 9}, {5}, {7}, {9}, {2, 5, 7}, {3}, {8}, {5}, {1}, {2}, {6}, {4}, {6}, {1, 2, 5}, {2, 5}, {9, 3, 4}, {7}, {9, 4}, {1, 3, 9}, {8, 1, 9}, {8, 3}, {3}, {5, 6}, {5, 6}, {7}, {8}, {9, 2, 4, 6}, {9, 4, 5}, {9, 2}, {1}, {2}, {4}, {5, 7}, {1, 9}, {1, 9}, {3}, {9, 5, 7}, {8}, {6}, {8}, {9}, {1}, {5}, {4}, {2, 6}, {3, 7}, {2, 7}, {3}]\n"
     ]
    }
   ],
   "source": [
    "V = unique_3x3[6]\n",
    "print(combined(V, initialise(V)))"
   ]
  },
  {
   "cell_type": "code",
   "execution_count": 58,
   "id": "237087c4-2398-4b33-9269-a3b5586c123a",
   "metadata": {
    "execution": {
     "iopub.execute_input": "2024-03-08T13:50:34.220627Z",
     "iopub.status.busy": "2024-03-08T13:50:34.220383Z",
     "iopub.status.idle": "2024-03-08T13:50:35.512681Z",
     "shell.execute_reply": "2024-03-08T13:50:35.511487Z",
     "shell.execute_reply.started": "2024-03-08T13:50:34.220603Z"
    },
    "tags": []
   },
   "outputs": [
    {
     "name": "stdout",
     "output_type": "stream",
     "text": [
      "[{2, 6, 9, 11, 14}, {8, 9, 11, 14}, {12}, {2, 6, 8, 9, 11}, {13}, {16, 2, 6, 14}, {5}, {15}, {7}, {16, 10, 3, 6}, {1}, {4}, {8, 9, 10, 16}, {8, 16, 10, 3}, {2, 8, 9, 10, 11, 16}, {3, 8, 9, 10, 16}, {2, 6, 7, 9, 11, 15}, {9, 11, 15}, {1}, {2, 6, 7, 9, 11}, {2, 11}, {12}, {16, 11, 6, 7}, {2, 6, 7, 11, 16}, {3, 6, 10, 15, 16}, {3, 6, 10, 13, 15, 16}, {5}, {8}, {16, 9, 10, 13}, {4}, {2, 9, 10, 11, 13, 16}, {14}, {2, 5, 7, 9, 14, 15}, {4, 5, 8, 9, 14, 15}, {16}, {13}, {8, 1, 2}, {1, 2, 14}, {3}, {10}, {12, 15}, {15}, {11}, {9}, {8, 1, 5}, {8, 5}, {8, 1, 2}, {6}, {11, 5, 6}, {3}, {8, 10, 6}, {4, 5, 6, 8, 11}, {9}, {16, 1, 6}, {1, 4, 6, 8, 11, 16}, {1, 4, 6, 11, 16}, {16, 10, 6}, {2}, {16, 10, 13}, {14}, {12}, {15}, {1, 8, 10, 11, 13, 16}, {7}, {10}, {12, 5, 14, 15}, {2, 15, 14, 7}, {2, 3, 5, 7, 12}, {2, 3, 5, 12, 15}, {11}, {9}, {2, 3, 5, 7, 16}, {2, 3, 8, 12, 16}, {16, 3, 14}, {4}, {2, 3, 7}, {6}, {1}, {8, 12, 13, 14, 16}, {8, 16, 12, 15}, {1}, {16}, {2, 6, 7}, {2, 3, 4, 6, 7, 12}, {2, 3, 12}, {2, 3}, {14}, {8}, {2, 3, 6, 10, 11, 12}, {9}, {15}, {13}, {10, 7}, {10, 12, 7}, {5}, {10, 4, 12}, {8}, {4, 5, 9, 12, 14, 15}, {9, 15, 14, 7}, {4, 5, 7, 9, 12}, {6}, {16, 1, 13, 15}, {1, 4, 7, 12, 13, 15, 16}, {1, 4, 5, 7, 16}, {16, 10, 12}, {16, 10, 14}, {7, 10, 12, 14, 16}, {10, 7}, {11}, {7, 10, 12, 13, 14, 16}, {3}, {2}, {13}, {4, 9, 12, 14, 15}, {11}, {2, 3, 4, 6, 7, 9, 12}, {10}, {16, 2, 3, 15}, {4, 7, 12, 15, 16}, {2, 3, 4, 7, 16}, {2, 3, 6, 8, 12, 16}, {1}, {2, 7, 8, 12, 14, 16}, {5}, {7, 8, 9, 14, 16}, {7, 8, 12, 14, 16}, {4, 8, 9, 12, 14, 16}, {4, 8, 9, 12, 15, 16}, {3, 5, 6, 9, 14, 15}, {2}, {9, 15, 6, 14}, {10}, {4}, {3, 6, 9, 15, 16}, {16, 6, 15}, {12}, {13}, {8}, {9, 7}, {1}, {16, 9, 5, 14}, {3, 5, 6, 14, 16}, {16, 9, 6, 14}, {11}, {11, 9, 3, 5}, {7}, {9}, {1}, {14}, {8}, {16, 11}, {2, 3, 5, 11, 16}, {4}, {12}, {6}, {10, 2, 3}, {15}, {16, 10, 3, 5}, {16, 10}, {13}, {4}, {5, 8, 12, 13, 14, 15}, {6, 8, 13, 14, 15}, {3, 5, 6, 8, 12, 16}, {1, 3, 5, 15}, {1, 3, 6, 9, 13, 15, 16}, {1, 6, 13, 15, 16}, {1, 3, 5, 6, 9, 16}, {10, 3, 5, 15}, {11}, {9, 10}, {10, 3, 15}, {2}, {3, 5, 6, 8, 10, 12, 14, 16}, {7}, {1, 3, 8, 9, 10, 12, 16}, {3, 5, 6, 11, 15}, {5, 8, 11, 12, 13, 15}, {8, 13, 6, 15}, {3, 5, 6, 8, 11, 12}, {7}, {1, 2, 3, 6, 9, 13, 15}, {10}, {1, 2, 3, 5, 6, 9, 11}, {14}, {3, 5}, {9, 2}, {16}, {8, 1, 5, 9}, {3, 5, 6, 8, 12}, {1, 4, 6, 8, 9, 12}, {1, 3, 4, 8, 9, 12}, {9, 2, 11, 7}, {6}, {5}, {14}, {1, 8, 11, 12, 15}, {10}, {1, 8, 11, 12, 15}, {1, 11, 9}, {2, 8, 11, 15, 16}, {16, 4, 13}, {3}, {2, 11, 15}, {1, 7, 8, 13, 16}, {7, 8, 12, 13, 16}, {1, 8, 12, 13, 16}, {8, 1, 12, 16}, {9, 11}, {10}, {3}, {15}, {8, 1, 11, 12}, {4}, {1, 6, 8, 11, 12}, {13}, {8, 16, 11, 5}, {7}, {8, 16, 14}, {11}, {8, 1, 14, 16}, {2}, {1, 6, 8, 12, 14, 16}, {8, 1, 12, 16}, {16}, {8, 11, 13}, {8, 2, 13, 7}, {8, 2, 11, 7}, {8, 11, 3, 15}, {5}, {8, 11, 6, 15}, {11, 3, 6, 14}, {1}, {10, 13, 14}, {2, 8, 10, 13, 14}, {12}, {4}, {9}, {6, 8, 10, 13, 14}, {8, 10}, {12}, {1}, {4}, {8}, {16}, {7}, {2}, {14}, {9}, {10, 13}, {10, 13}, {6}, {3}, {11}, {15}, {5}]\n"
     ]
    }
   ],
   "source": [
    "L3 = large_puzzle.copy()\n",
    "print(combined(L3, initialise(L3)))"
   ]
  },
  {
   "cell_type": "markdown",
   "id": "84b8231b-a77e-410d-9398-056afe7d6f01",
   "metadata": {},
   "source": [
    "### Simplifying the List of Candidates Before Backtracking\n",
    "\n",
    "For some partially completed Sudoku grids, repetitively applying the `combined` function can completely solve the puzzle (`unique_3x3[5]` is a good example of this).\n",
    "Even though we cannot solve all Sudoku puzzles in this manner, iterating through `combined` multiple times can greatly simplify the puzzle before backtracking and optimise our algorithm.\n",
    "\n",
    "Below, I have defined `simplify_sudoku` for a partial grid `S` to repeatedly apply `combined` until either `S` is solved, or `S` cannot be further simplified."
   ]
  },
  {
   "cell_type": "code",
   "execution_count": 59,
   "id": "c331b423-7ba7-403d-a925-2c6c41a240b1",
   "metadata": {
    "execution": {
     "iopub.execute_input": "2024-03-08T13:50:35.514091Z",
     "iopub.status.busy": "2024-03-08T13:50:35.513816Z",
     "iopub.status.idle": "2024-03-08T13:50:35.519806Z",
     "shell.execute_reply": "2024-03-08T13:50:35.518802Z",
     "shell.execute_reply.started": "2024-03-08T13:50:35.514062Z"
    },
    "tags": []
   },
   "outputs": [],
   "source": [
    "def simplify_sudoku(S):\n",
    "    \n",
    "    ## First initialise the list of candidates for S - for readibility I am calling this list, A\n",
    "    A = initialise(S)\n",
    "    \n",
    "    ## Whilst S in not completely solved...\n",
    "    while 0 in S:\n",
    "        ## Assign B to be the copy of A from the previous iteration of the while loop (or the base case)\n",
    "        B = A.copy()\n",
    "        ## Apply combined(S,A) again\n",
    "        A = combined(S,A)\n",
    "        \n",
    "        ## If applying combined again has not simplified the list of candidates further then output A...\n",
    "        if A == B:\n",
    "            return A\n",
    "        ## ... Otherwise the while loop continues\n",
    "    return S\n",
    "                    "
   ]
  },
  {
   "cell_type": "code",
   "execution_count": 60,
   "id": "890170c5-db3d-4a1c-bfb9-161d740d6da8",
   "metadata": {
    "execution": {
     "iopub.execute_input": "2024-03-08T13:50:35.521138Z",
     "iopub.status.busy": "2024-03-08T13:50:35.520863Z",
     "iopub.status.idle": "2024-03-08T13:50:35.540947Z",
     "shell.execute_reply": "2024-03-08T13:50:35.539837Z",
     "shell.execute_reply.started": "2024-03-08T13:50:35.521110Z"
    },
    "tags": []
   },
   "outputs": [
    {
     "data": {
      "text/plain": [
       "[1, 2, 3, 4, 3, 4, 1, 2, 2, 1, 4, 3, 4, 3, 2, 1]"
      ]
     },
     "execution_count": 60,
     "metadata": {},
     "output_type": "execute_result"
    }
   ],
   "source": [
    "M = [0,2,3,0,3,0,1,2,0,1,4,0,0,3,0,1]\n",
    "simplify_sudoku(M)"
   ]
  },
  {
   "cell_type": "code",
   "execution_count": 61,
   "id": "2d5b3273-510f-464c-b6ab-1e86c7a36a1a",
   "metadata": {
    "execution": {
     "iopub.execute_input": "2024-03-08T13:50:35.542262Z",
     "iopub.status.busy": "2024-03-08T13:50:35.541999Z",
     "iopub.status.idle": "2024-03-08T13:50:35.765965Z",
     "shell.execute_reply": "2024-03-08T13:50:35.764869Z",
     "shell.execute_reply.started": "2024-03-08T13:50:35.542235Z"
    },
    "tags": []
   },
   "outputs": [
    {
     "name": "stdout",
     "output_type": "stream",
     "text": [
      "[3, 6, 5, 7, 2, 1, 4, 8, 9, 1, 9, 7, 4, 8, 3, 2, 6, 5, 4, 2, 8, 5, 9, 6, 1, 7, 3, 8, 4, 9, 2, 1, 7, 3, 5, 6, 2, 3, 1, 6, 5, 9, 8, 4, 7, 7, 5, 6, 3, 4, 8, 9, 1, 2, 6, 7, 2, 1, 3, 4, 5, 9, 8, 9, 1, 3, 8, 6, 5, 7, 2, 4, 5, 8, 4, 9, 7, 2, 6, 3, 1]\n"
     ]
    }
   ],
   "source": [
    "U5 = unique_3x3[5].copy()\n",
    "print(simplify_sudoku(U5))"
   ]
  },
  {
   "cell_type": "markdown",
   "id": "0b0064e8-292a-4543-9e34-138d8777f01a",
   "metadata": {},
   "source": [
    "Since, I will be comparing the efficiency of Solution 1 to Solution 2, I will calculate the runtime for `simplify_sudoku` using `large_puzzle` as the test sample.\n",
    "\n",
    "For comparison, this is the output when `combined` is applied once to `large_puzzle`:"
   ]
  },
  {
   "cell_type": "code",
   "execution_count": 62,
   "id": "d73aef5f-6b16-4467-97a6-90b4f5c444e4",
   "metadata": {
    "execution": {
     "iopub.execute_input": "2024-03-08T13:50:35.767295Z",
     "iopub.status.busy": "2024-03-08T13:50:35.767025Z",
     "iopub.status.idle": "2024-03-08T13:50:36.707284Z",
     "shell.execute_reply": "2024-03-08T13:50:36.706143Z",
     "shell.execute_reply.started": "2024-03-08T13:50:35.767269Z"
    },
    "tags": []
   },
   "outputs": [
    {
     "name": "stdout",
     "output_type": "stream",
     "text": [
      "[{2, 6, 9, 11, 14}, {8, 9, 11, 14}, {12}, {2, 6, 8, 9, 11}, {13}, {16, 2, 6, 14}, {5}, {15}, {7}, {16, 10, 3, 6}, {1}, {4}, {8, 9, 10, 16}, {8, 16, 10, 3}, {2, 8, 9, 10, 11, 16}, {3, 8, 9, 10, 16}, {2, 6, 7, 9, 11, 15}, {9, 11, 15}, {1}, {2, 6, 7, 9, 11}, {2, 11}, {12}, {16, 11, 6, 7}, {2, 6, 7, 11, 16}, {3, 6, 10, 15, 16}, {3, 6, 10, 13, 15, 16}, {5}, {8}, {16, 9, 10, 13}, {4}, {2, 9, 10, 11, 13, 16}, {14}, {2, 5, 7, 9, 14, 15}, {4, 5, 8, 9, 14, 15}, {16}, {13}, {8, 1, 2}, {1, 2, 14}, {3}, {10}, {12, 15}, {15}, {11}, {9}, {8, 1, 5}, {8, 5}, {8, 1, 2}, {6}, {11, 5, 6}, {3}, {8, 10, 6}, {4, 5, 6, 8, 11}, {9}, {16, 1, 6}, {1, 4, 6, 8, 11, 16}, {1, 4, 6, 11, 16}, {16, 10, 6}, {2}, {16, 10, 13}, {14}, {12}, {15}, {1, 8, 10, 11, 13, 16}, {7}, {10}, {12, 5, 14, 15}, {2, 15, 14, 7}, {2, 3, 5, 7, 12}, {2, 3, 5, 12, 15}, {11}, {9}, {2, 3, 5, 7, 16}, {2, 3, 8, 12, 16}, {16, 3, 14}, {4}, {2, 3, 7}, {6}, {1}, {8, 12, 13, 14, 16}, {8, 16, 12, 15}, {1}, {16}, {2, 6, 7}, {2, 3, 4, 6, 7, 12}, {2, 3, 12}, {2, 3}, {14}, {8}, {2, 3, 6, 10, 11, 12}, {9}, {15}, {13}, {10, 7}, {10, 12, 7}, {5}, {10, 4, 12}, {8}, {4, 5, 9, 12, 14, 15}, {9, 15, 14, 7}, {4, 5, 7, 9, 12}, {6}, {16, 1, 13, 15}, {1, 4, 7, 12, 13, 15, 16}, {1, 4, 5, 7, 16}, {16, 10, 12}, {16, 10, 14}, {7, 10, 12, 14, 16}, {10, 7}, {11}, {7, 10, 12, 13, 14, 16}, {3}, {2}, {13}, {4, 9, 12, 14, 15}, {11}, {2, 3, 4, 6, 7, 9, 12}, {10}, {16, 2, 3, 15}, {4, 7, 12, 15, 16}, {2, 3, 4, 7, 16}, {2, 3, 6, 8, 12, 16}, {1}, {2, 7, 8, 12, 14, 16}, {5}, {7, 8, 9, 14, 16}, {7, 8, 12, 14, 16}, {4, 8, 9, 12, 14, 16}, {4, 8, 9, 12, 15, 16}, {3, 5, 6, 9, 14, 15}, {2}, {9, 15, 6, 14}, {10}, {4}, {3, 6, 9, 15, 16}, {16, 6, 15}, {12}, {13}, {8}, {9, 7}, {1}, {16, 9, 5, 14}, {3, 5, 6, 14, 16}, {16, 9, 6, 14}, {11}, {11, 9, 3, 5}, {7}, {9}, {1}, {14}, {8}, {16, 11}, {2, 3, 5, 11, 16}, {4}, {12}, {6}, {10, 2, 3}, {15}, {16, 10, 3, 5}, {16, 10}, {13}, {4}, {5, 8, 12, 13, 14, 15}, {6, 8, 13, 14, 15}, {3, 5, 6, 8, 12, 16}, {1, 3, 5, 15}, {1, 3, 6, 9, 13, 15, 16}, {1, 6, 13, 15, 16}, {1, 3, 5, 6, 9, 16}, {10, 3, 5, 15}, {11}, {9, 10}, {10, 3, 15}, {2}, {3, 5, 6, 8, 10, 12, 14, 16}, {7}, {1, 3, 8, 9, 10, 12, 16}, {3, 5, 6, 11, 15}, {5, 8, 11, 12, 13, 15}, {8, 13, 6, 15}, {3, 5, 6, 8, 11, 12}, {7}, {1, 2, 3, 6, 9, 13, 15}, {10}, {1, 2, 3, 5, 6, 9, 11}, {14}, {3, 5}, {9, 2}, {16}, {8, 1, 5, 9}, {3, 5, 6, 8, 12}, {1, 4, 6, 8, 9, 12}, {1, 3, 4, 8, 9, 12}, {9, 2, 11, 7}, {6}, {5}, {14}, {1, 8, 11, 12, 15}, {10}, {1, 8, 11, 12, 15}, {1, 11, 9}, {2, 8, 11, 15, 16}, {16, 4, 13}, {3}, {2, 11, 15}, {1, 7, 8, 13, 16}, {7, 8, 12, 13, 16}, {1, 8, 12, 13, 16}, {8, 1, 12, 16}, {9, 11}, {10}, {3}, {15}, {8, 1, 11, 12}, {4}, {1, 6, 8, 11, 12}, {13}, {8, 16, 11, 5}, {7}, {8, 16, 14}, {11}, {8, 1, 14, 16}, {2}, {1, 6, 8, 12, 14, 16}, {8, 1, 12, 16}, {16}, {8, 11, 13}, {8, 2, 13, 7}, {8, 2, 11, 7}, {8, 11, 3, 15}, {5}, {8, 11, 6, 15}, {11, 3, 6, 14}, {1}, {10, 13, 14}, {2, 8, 10, 13, 14}, {12}, {4}, {9}, {6, 8, 10, 13, 14}, {8, 10}, {12}, {1}, {4}, {8}, {16}, {7}, {2}, {14}, {9}, {10, 13}, {10, 13}, {6}, {3}, {11}, {15}, {5}]\n"
     ]
    }
   ],
   "source": [
    "L = large_puzzle.copy()\n",
    "print(combined(L, initialise(L)))"
   ]
  },
  {
   "cell_type": "markdown",
   "id": "73435800-d3f6-4aea-adb8-f999aa846dd0",
   "metadata": {},
   "source": [
    "And this is the runtime and output for the `simplify_sudoku(large_puzzle)` function:"
   ]
  },
  {
   "cell_type": "code",
   "execution_count": 63,
   "id": "a7f2a04a-ff36-4b44-96f0-093456467290",
   "metadata": {
    "execution": {
     "iopub.execute_input": "2024-03-08T13:50:36.708602Z",
     "iopub.status.busy": "2024-03-08T13:50:36.708348Z",
     "iopub.status.idle": "2024-03-08T13:50:42.182546Z",
     "shell.execute_reply": "2024-03-08T13:50:42.181517Z",
     "shell.execute_reply.started": "2024-03-08T13:50:36.708576Z"
    },
    "tags": []
   },
   "outputs": [
    {
     "name": "stdout",
     "output_type": "stream",
     "text": [
      "Total execution time: 5.468583106994629 seconds\n",
      "[{14}, {8}, {12}, {9, 11, 6}, {13}, {16, 2, 6}, {5}, {15}, {7}, {10, 6}, {1}, {4}, {16, 9}, {16, 10, 3}, {2, 9, 10, 11, 16}, {16, 9, 3}, {2}, {15}, {1}, {9, 6}, {11}, {12}, {7}, {16, 6}, {3}, {10, 6}, {5}, {8}, {13}, {4}, {16, 9, 10}, {14}, {7}, {4}, {16}, {13}, {8, 1, 2}, {14}, {3}, {10}, {12}, {15}, {11}, {9}, {8, 1, 5}, {8, 5}, {8, 1, 2}, {6}, {5, 6}, {3}, {10}, {11, 5, 6}, {9}, {1, 6}, {8, 1, 4}, {1, 4, 6}, {16}, {2}, {13}, {14}, {12}, {15}, {8, 1, 11}, {7}, {10}, {12, 5, 14}, {14, 7}, {12, 5, 7}, {15}, {11}, {9}, {16, 5, 7}, {8}, {3}, {4}, {2}, {6}, {1}, {13}, {16, 12}, {1}, {16}, {2, 6, 7}, {2, 3, 4, 6, 7, 12}, {2, 12}, {2, 3}, {14}, {8}, {11}, {9}, {15}, {13}, {10}, {12, 7}, {5}, {4, 12}, {8}, {9, 12, 5, 14}, {15}, {9, 5, 4, 12}, {6}, {1, 13}, {1, 4, 12, 13}, {1, 4, 5}, {10}, {16}, {12, 14}, {7}, {11}, {12, 14}, {3}, {2}, {13}, {9, 12, 14}, {11}, {2, 3, 4, 7, 9, 12}, {10}, {16, 2, 3}, {4, 12}, {16, 3, 4, 7}, {6}, {1}, {12, 14}, {5}, {8, 9, 14, 16}, {7, 8, 12, 14, 16}, {4, 8, 9, 12, 14, 16}, {15}, {3, 5, 6, 15}, {2}, {6, 14}, {10}, {4}, {9, 3, 6, 15}, {16}, {12}, {13}, {8}, {7}, {1}, {9, 5, 14}, {3, 5, 6, 14}, {9, 14}, {11}, {3, 5}, {7}, {9}, {1}, {14}, {8}, {11}, {2}, {4}, {12}, {6}, {10, 3}, {15}, {16, 10, 3, 5}, {16, 10}, {13}, {4}, {12, 14}, {8, 13, 6, 14}, {16}, {5}, {1, 3, 13, 6}, {1, 13}, {1, 3, 6}, {15}, {11}, {9}, {10, 3}, {2}, {3, 6, 8, 10, 12, 14}, {7}, {8, 1, 3, 12}, {3, 6, 15}, {11}, {8, 13, 6}, {3, 12, 6}, {7}, {1, 3, 6, 9, 13, 15}, {10}, {1, 3, 6}, {14}, {5}, {2}, {16}, {8, 1, 9}, {8, 3, 12, 6}, {1, 4, 8, 9, 12}, {1, 3, 4, 8, 9, 12}, {11}, {6}, {5}, {14}, {8, 1, 12}, {10}, {8, 1, 12}, {9}, {2}, {4}, {3}, {15}, {7}, {13}, {8, 1, 12, 16}, {8, 1, 12, 16}, {9}, {10}, {3}, {15}, {8, 1, 12}, {4}, {6}, {13}, {5}, {7}, {16}, {11}, {8, 1, 14}, {2}, {8, 1, 12, 14}, {8, 1, 12}, {16}, {13}, {2, 7}, {2, 7}, {3}, {5}, {15}, {11}, {1}, {14}, {8}, {12}, {4}, {9}, {6}, {10}, {12}, {1}, {4}, {8}, {16}, {7}, {2}, {14}, {9}, {13}, {10}, {6}, {3}, {11}, {15}, {5}]\n"
     ]
    }
   ],
   "source": [
    "import time\n",
    "\n",
    "L = large_puzzle.copy()\n",
    "\n",
    "start_time = time.time()\n",
    "large = simplify_sudoku(L)\n",
    "end_time = time.time()\n",
    "\n",
    "print(\"Total execution time:\", end_time - start_time, \"seconds\")\n",
    "print(large)"
   ]
  },
  {
   "cell_type": "markdown",
   "id": "86ada859-b38e-456d-b6aa-17e44d87afb9",
   "metadata": {
    "execution": {
     "iopub.execute_input": "2024-03-08T01:43:39.266015Z",
     "iopub.status.busy": "2024-03-08T01:43:39.265785Z",
     "iopub.status.idle": "2024-03-08T01:43:39.270771Z",
     "shell.execute_reply": "2024-03-08T01:43:39.269790Z",
     "shell.execute_reply.started": "2024-03-08T01:43:39.265992Z"
    },
    "tags": []
   },
   "source": [
    "We can see that that the number candidate values for each cell is significantly reduced"
   ]
  },
  {
   "cell_type": "markdown",
   "id": "6f9ba9e8-b311-47c2-9e4e-b3dcd44327c4",
   "metadata": {
    "tags": []
   },
   "source": [
    "### Backtracking\n",
    "\n",
    "If`S` still cannot be solved  completely after implementing `simplify_sudoku`, we shall resort to backtracking methods."
   ]
  },
  {
   "cell_type": "code",
   "execution_count": 64,
   "id": "ef5ea00f-329e-49e8-b280-0af2abe33e65",
   "metadata": {
    "execution": {
     "iopub.execute_input": "2024-03-08T13:50:42.184079Z",
     "iopub.status.busy": "2024-03-08T13:50:42.183843Z",
     "iopub.status.idle": "2024-03-08T13:50:42.191274Z",
     "shell.execute_reply": "2024-03-08T13:50:42.190291Z",
     "shell.execute_reply.started": "2024-03-08T13:50:42.184056Z"
    },
    "tags": []
   },
   "outputs": [],
   "source": [
    "## Define the backtrack function that takes the inputs S and the list of candidates after applying simplify_sudoku(S)\n",
    "\n",
    "def backtrack(S, simplified_candidates):\n",
    "    \n",
    "    ## Since I now want to keep track of the order I choose each unsolved cell, I have converted unsolved into a list\n",
    "    unsolved = list(unsolved_cells(S))\n",
    "    \n",
    "    \n",
    "    ## I have defined this new function that will take a random value within simplified_candidates(x) and check whether this same value appears again in another cell within the same neighbourhood as x after further solving\n",
    "    def correct_assignment(potential_value, x):\n",
    "        for j in search(S,x):\n",
    "            if S[j] == potential_value:\n",
    "                return False\n",
    "        return True\n",
    "    \n",
    "    ## This is the traversal function\n",
    "    def dive():\n",
    "        \n",
    "        ## Break condition - if there are no more unsolved cells left in S, then we have filled in all of the unsolved cells and can return S (see line 38)\n",
    "        if unsolved == []:\n",
    "            return True\n",
    "        \n",
    "        ## If there are some unsolved cells left, we will consider the cell with the smallest index\n",
    "        x = unsolved.pop(0)\n",
    "        \n",
    "        ## Retrieve the simplified set of candidate values for cell x\n",
    "        candidates = simplified_candidates[x]\n",
    "        \n",
    "        ## Randomly choose a potential value for S[x]\n",
    "        for random_choice in candidates:\n",
    "            \n",
    "            ## If our random choice does not conflict with the other random choices we have made for the unsolved cells with indices less than x...\n",
    "            if correct_assignment(random_choice, x):\n",
    "                ## Assign S[x] this new random choice\n",
    "                S[x] = random_choice\n",
    "                \n",
    "                ## Keep diving further\n",
    "                if dive():\n",
    "                    return True\n",
    "                \n",
    "                ## If we do find that random_choice has already been assigned elsewhere in the x neighbourhood then we must reset S[x] to 0...\n",
    "                S[x] = 0\n",
    "        \n",
    "        ## ... And we need to reinsert x back into unsolved as we have not yet successfully solved cell x\n",
    "        unsolved.insert(0,x)\n",
    "        \n",
    "        ## This temporarily stops the dive function until we are back to an index y < x and the random choice for S[y] is correct. Then we can continue the dive\n",
    "        return False\n",
    "    \n",
    "    ## If we have successfully dived and solved all the unsolved cells then this will return S\n",
    "    if dive() == True:\n",
    "        return S\n",
    "    \n",
    "    ## Otherwise if we have dived and there is no way we can solve the sudoku without repeating a potential value in the same row, column or box as x then this will return None\n",
    "    else:\n",
    "        return None\n",
    "                "
   ]
  },
  {
   "cell_type": "code",
   "execution_count": 65,
   "id": "de3addb8-7356-450b-8f5e-799033c8f84f",
   "metadata": {
    "execution": {
     "iopub.execute_input": "2024-03-08T13:50:42.192367Z",
     "iopub.status.busy": "2024-03-08T13:50:42.192151Z",
     "iopub.status.idle": "2024-03-08T13:50:53.426473Z",
     "shell.execute_reply": "2024-03-08T13:50:53.425215Z",
     "shell.execute_reply.started": "2024-03-08T13:50:42.192346Z"
    },
    "tags": []
   },
   "outputs": [
    {
     "name": "stdout",
     "output_type": "stream",
     "text": [
      "Total execution time: 11.210868835449219 seconds\n"
     ]
    },
    {
     "data": {
      "text/plain": [
       "[[14, 8, 12, 11, 13, 16, 5, 15, 7, 6, 1, 4, 9, 10, 2, 3],\n",
       " [2, 15, 1, 9, 11, 12, 7, 6, 3, 10, 5, 8, 13, 4, 16, 14],\n",
       " [7, 4, 16, 13, 2, 14, 3, 10, 12, 15, 11, 9, 1, 5, 8, 6],\n",
       " [6, 3, 10, 5, 9, 1, 8, 4, 16, 2, 13, 14, 12, 15, 11, 7],\n",
       " [10, 5, 14, 7, 15, 11, 9, 16, 8, 3, 4, 2, 6, 1, 13, 12],\n",
       " [1, 16, 2, 6, 12, 3, 14, 8, 11, 9, 15, 13, 10, 7, 5, 4],\n",
       " [8, 9, 15, 4, 6, 13, 1, 5, 10, 16, 12, 7, 11, 14, 3, 2],\n",
       " [13, 12, 11, 3, 10, 2, 4, 7, 6, 1, 14, 5, 16, 8, 9, 15],\n",
       " [15, 2, 6, 10, 4, 9, 16, 12, 13, 8, 7, 1, 5, 3, 14, 11],\n",
       " [5, 7, 9, 1, 14, 8, 11, 2, 4, 12, 6, 3, 15, 16, 10, 13],\n",
       " [4, 14, 8, 16, 5, 6, 13, 3, 15, 11, 9, 10, 2, 12, 7, 1],\n",
       " [3, 11, 13, 12, 7, 15, 10, 1, 14, 5, 2, 16, 8, 6, 4, 9],\n",
       " [11, 6, 5, 14, 8, 10, 12, 9, 2, 4, 3, 15, 7, 13, 1, 16],\n",
       " [9, 10, 3, 15, 1, 4, 6, 13, 5, 7, 16, 11, 14, 2, 12, 8],\n",
       " [16, 13, 7, 2, 3, 5, 15, 11, 1, 14, 8, 12, 4, 9, 6, 10],\n",
       " [12, 1, 4, 8, 16, 7, 2, 14, 9, 13, 10, 6, 3, 11, 15, 5]]"
      ]
     },
     "execution_count": 65,
     "metadata": {},
     "output_type": "execute_result"
    }
   ],
   "source": [
    "L = large_puzzle.copy()\n",
    "start_time = time.time()\n",
    "B = backtrack(L, large)\n",
    "end_time = time.time()\n",
    "\n",
    "print(\"Total execution time:\", end_time - start_time, \"seconds\")\n",
    "sudoku_format(B)"
   ]
  },
  {
   "cell_type": "markdown",
   "id": "6ed901ef-673a-4d16-bfb9-a75f84f86cf7",
   "metadata": {},
   "source": [
    "Above, we have the completed solution for the partially completed $4 \\times 4$ Sudoku grid, `large_puzzle`."
   ]
  },
  {
   "cell_type": "markdown",
   "id": "7a83f962-fc27-427a-af0e-afa5ad9404e1",
   "metadata": {},
   "source": [
    "### Closing Remarks for Solution 1\n",
    "\n",
    "In conclusion, by implementing a method that keeps track of all the candidate values for each cell and employs both the reduction and elimination techniques before backtracking, we can significantly reduce the complexity of this problem. \n",
    "\n",
    "Overall, my code demonstrates that using tricks from manual  Sudoku solving reduces the computation time to around 15 seconds (summing the two runtimes that I have calculated) whereas with brute force backtracking, this can take much longer."
   ]
  },
  {
   "cell_type": "markdown",
   "id": "580e65ed",
   "metadata": {},
   "source": [
    "## Solution 2"
   ]
  },
  {
   "cell_type": "code",
   "execution_count": 66,
   "id": "8edc24c7",
   "metadata": {
    "execution": {
     "iopub.execute_input": "2024-03-08T13:50:53.428041Z",
     "iopub.status.busy": "2024-03-08T13:50:53.427775Z",
     "iopub.status.idle": "2024-03-08T13:50:53.436848Z",
     "shell.execute_reply": "2024-03-08T13:50:53.436098Z",
     "shell.execute_reply.started": "2024-03-08T13:50:53.428017Z"
    }
   },
   "outputs": [],
   "source": [
    "import gzip\n",
    "import pickle\n",
    "import numpy as np\n",
    "import time\n",
    "\n",
    "\n",
    "\n",
    "with gzip.open(\"unique-3x3.tar.gz\", \"rb\") as f:\n",
    "    unique_3x3 = pickle.load(f)"
   ]
  },
  {
   "cell_type": "code",
   "execution_count": 67,
   "id": "fe9c97d8",
   "metadata": {
    "execution": {
     "iopub.execute_input": "2024-03-08T13:50:53.437674Z",
     "iopub.status.busy": "2024-03-08T13:50:53.437466Z",
     "iopub.status.idle": "2024-03-08T13:50:53.453380Z",
     "shell.execute_reply": "2024-03-08T13:50:53.452540Z",
     "shell.execute_reply.started": "2024-03-08T13:50:53.437653Z"
    }
   },
   "outputs": [],
   "source": [
    "def neighbours_funct(node, n):\n",
    "    k = n**2\n",
    "    row_index = node // k\n",
    "    column_index = node % k\n",
    "    box_row = row_index // n\n",
    "    box_column = column_index // n\n",
    "\n",
    "    row_nodes = set(np.arange(k * row_index, k * (row_index + 1)))  \n",
    "    column_nodes = set(np.arange(column_index, k**2, k))  \n",
    "    box_nodes = set()  \n",
    "    for i in range(n):\n",
    "        for j in range(n):\n",
    "            box_node = (box_row * n + i) * k + box_column * n + j\n",
    "            box_nodes.add(box_node)\n",
    "\n",
    "    neighbours = row_nodes.union(column_nodes, box_nodes)  \n",
    "    neighbours.remove(node)\n",
    "\n",
    "    return list(neighbours)\n",
    "\n"
   ]
  },
  {
   "cell_type": "markdown",
   "id": "66746722",
   "metadata": {},
   "source": [
    "The neighbours_funct, integral from Part 2, plays a key role in my Sudoku solver without modification. It identifies the neighbors of a cell — those in the same row, column, and n×n box, but not the cell itself. This functionality is crucial for pruning candidates effectively:\n",
    "\n",
    "Identifies Constraints: By finding neighbors in the cell's row, column, and box, it helps ensure no Sudoku rules are broken.\n",
    "Supports Candidate Pruning: It directly impacts candidate selection, narrowing down possibilities by excluding numbers found in the neighbors.\n",
    "This function is a testament to the power of leveraging neighborhood relations in Sudoku, streamlining the solving process through smart candidate management."
   ]
  },
  {
   "cell_type": "code",
   "execution_count": 68,
   "id": "5e4cf91f",
   "metadata": {
    "execution": {
     "iopub.execute_input": "2024-03-08T13:50:53.454364Z",
     "iopub.status.busy": "2024-03-08T13:50:53.454151Z",
     "iopub.status.idle": "2024-03-08T13:50:53.474147Z",
     "shell.execute_reply": "2024-03-08T13:50:53.473418Z",
     "shell.execute_reply.started": "2024-03-08T13:50:53.454343Z"
    }
   },
   "outputs": [],
   "source": [
    "def get_unit_cells(unit, unit_type, k):\n",
    "    # Initialize an empty list to hold the cell indices of a unit (row, column, or box).\n",
    "    cells = []\n",
    "    # Calculate the size of the smaller box (n) by taking the square root of k (total cells in a row or column).\n",
    "    n = int(k**0.5)\n",
    "    if unit_type == 'row':\n",
    "        # For row units, calculate the indices of all cells within the specified row.\n",
    "        cells = [unit*k + i for i in range(k)]\n",
    "    elif unit_type == 'column':\n",
    "        # For column units, calculate the indices of all cells within the specified column.\n",
    "        cells = [unit + i*k for i in range(k)]\n",
    "    elif unit_type == 'box':\n",
    "        # For box units, determine the starting row and column, then calculate the indices of all cells within the box.\n",
    "        row_start = (unit // n) * n\n",
    "        col_start = (unit % n) * n\n",
    "        for i in range(n):\n",
    "            for j in range(n):\n",
    "                cells.append((row_start + i)*k + (col_start + j))\n",
    "    return cells\n",
    "\n",
    "def check_unique_in_unit(board, candidates, num, unit, unit_type, k, n, progress):\n",
    "    # Retrieve the cell indices for the specified unit.\n",
    "    unit_cells = get_unit_cells(unit, unit_type, k)\n",
    "    # Identify cells within the unit that could possibly contain the number `num`.\n",
    "    possible_positions = [cell for cell in unit_cells if num in candidates[cell]]\n",
    "    # If there's exactly one possible position and it's currently empty, place `num` there.\n",
    "    if len(possible_positions) == 1 and board[possible_positions[0]//k][possible_positions[0]%k] == 0:\n",
    "        board[possible_positions[0]//k][possible_positions[0]%k] = num\n",
    "        progress = True\n",
    "        # Update the candidates for all neighbors of the newly filled cell.\n",
    "        for neighbour in neighbours_funct(possible_positions[0],n):\n",
    "            candidates[neighbour].discard(num)\n",
    "\n",
    "def apply_single_and_unique_candidate_rules(board,n):\n",
    "    k = n ** 2\n",
    "    progress = True\n",
    "    # Initialize candidate sets for each cell, based on the current state of the board.\n",
    "    candidates = [{num for num in range(1, k+1)} if board[cell//k][cell%k] == 0 else set() for cell in range(k**2)]\n",
    "    # Calculate the neighbors for each cell to support candidate pruning.\n",
    "    neighbours = [neighbours_funct(i,n) for i in range(k**2)]\n",
    "\n",
    "    # Initial pass to prune candidates based on existing board numbers.\n",
    "    for cell in range(k**2):\n",
    "        if board[cell//k][cell%k] != 0:\n",
    "            for neighbour in neighbours[cell]:\n",
    "                candidates[neighbour].discard(board[cell//k][cell%k])\n",
    "\n",
    "    # Repeat applying rules until no further progress is made.\n",
    "    while progress:\n",
    "        progress = False\n",
    "        # Apply the \"single candidate\" rule.\n",
    "        for cell in range(k**2):\n",
    "            if board[cell//k][cell%k] == 0 and len(candidates[cell]) == 1:\n",
    "                val = candidates[cell].pop()\n",
    "                board[cell//k][cell%k] = val\n",
    "                progress = True\n",
    "                for neighbour in neighbours[cell]:\n",
    "                    candidates[neighbour].discard(val)\n",
    "        # Apply the \"unique candidate\" rule to each unit.\n",
    "        for unit in range(k):\n",
    "            for num in range(1, k+1):\n",
    "                check_unique_in_unit(board, candidates, num, unit, 'row', k, n, progress)\n",
    "                check_unique_in_unit(board, candidates, num, unit, 'column', k, n, progress)\n",
    "                check_unique_in_unit(board, candidates, num, unit, 'box', k, n, progress)\n",
    "\n",
    "    return board\n",
    "\n",
    "\n"
   ]
  },
  {
   "cell_type": "markdown",
   "id": "9a06943a",
   "metadata": {},
   "source": [
    "### Sudoku Solving Strategies: \n",
    "\n",
    "Single and Unique Candidate Rules with Candidate Pruning\n",
    "The provided code snippets form an integral part of a Sudoku solver, showcasing sophisticated strategies for solving puzzles. At the core, these functions implement two pivotal solving rules: the single candidate rule and the unique candidate rule, enhanced by a technique known as candidate pruning.\n",
    "\n",
    "get_unit_cells Function: This utility function is designed to retrieve all cell indices within a specified unit (row, column, or box) of the Sudoku grid. It lays the foundation for applying the Sudoku solving rules by identifying relevant cells to examine based on the current focus area.\n",
    "\n",
    "check_unique_in_unit Function: Directly applies the unique candidate rule by identifying if a specific number can only fit in one cell within a given unit. If such a unique position is found—and the cell is currently unassigned—the number is placed, demonstrating a critical step towards solving the puzzle.\n",
    "\n",
    "apply_single_and_unique_candidate_rules Function: Seamlessly integrates both the single candidate rule and the unique candidate rule. It iteratively refines candidates for each cell and employs candidate pruning to eliminate impossible numbers based on the current state of the board.\n"
   ]
  },
  {
   "cell_type": "code",
   "execution_count": 69,
   "id": "6cfbf3d8",
   "metadata": {
    "execution": {
     "iopub.execute_input": "2024-03-08T13:50:53.475067Z",
     "iopub.status.busy": "2024-03-08T13:50:53.474848Z",
     "iopub.status.idle": "2024-03-08T13:50:53.519410Z",
     "shell.execute_reply": "2024-03-08T13:50:53.518466Z",
     "shell.execute_reply.started": "2024-03-08T13:50:53.475033Z"
    }
   },
   "outputs": [
    {
     "data": {
      "text/plain": [
       "array([[5, 3, 4, 2, 8, 7, 1, 6, 9],\n",
       "       [8, 1, 7, 5, 6, 9, 2, 3, 4],\n",
       "       [2, 6, 9, 1, 4, 3, 5, 8, 7],\n",
       "       [4, 2, 1, 7, 9, 6, 8, 5, 3],\n",
       "       [3, 8, 6, 4, 1, 5, 7, 9, 2],\n",
       "       [7, 9, 5, 3, 2, 8, 6, 4, 1],\n",
       "       [9, 5, 2, 8, 3, 1, 4, 7, 6],\n",
       "       [1, 7, 3, 6, 5, 4, 9, 2, 8],\n",
       "       [6, 4, 8, 9, 7, 2, 3, 1, 5]])"
      ]
     },
     "execution_count": 69,
     "metadata": {},
     "output_type": "execute_result"
    }
   ],
   "source": [
    "formatted_board = np.array(unique_3x3[0]).reshape(9, 9)\n",
    "\n",
    "partial_solved_board = apply_single_and_unique_candidate_rules(formatted_board,3)\n",
    "\n",
    "solved_puzzle = partial_solved_board.copy()  \n",
    "\n",
    "for i in range(10):\n",
    "    previous_board = solved_puzzle\n",
    "    solved_puzzle = apply_single_and_unique_candidate_rules(solved_puzzle,3) \n",
    "    \n",
    "solved_puzzle"
   ]
  },
  {
   "cell_type": "markdown",
   "id": "6ae9a694",
   "metadata": {},
   "source": [
    "The provided code demonstrates the effectiveness of our solving strategies on a 3x3 Sudoku puzzle. Initially, the puzzle from unique_3x3 is formatted into a 9x9 NumPy array, preparing it for the solving process. The apply_single_and_unique_candidate_rules function, integral to our approach, is then employed to iteratively refine the puzzle's solution.\n",
    "\n",
    "By repeatedly applying these rules within a loop, we incrementally progress towards the solved state."
   ]
  },
  {
   "cell_type": "code",
   "execution_count": 70,
   "id": "77f2afb3",
   "metadata": {
    "execution": {
     "iopub.execute_input": "2024-03-08T13:50:53.520686Z",
     "iopub.status.busy": "2024-03-08T13:50:53.520460Z",
     "iopub.status.idle": "2024-03-08T13:50:53.534874Z",
     "shell.execute_reply": "2024-03-08T13:50:53.533890Z",
     "shell.execute_reply.started": "2024-03-08T13:50:53.520663Z"
    }
   },
   "outputs": [],
   "source": [
    "with gzip.open(\"4x4-puzzle.tar.gz\", \"rb\") as f:\n",
    "    large_puzzle = pickle.load(f)\n",
    "    \n",
    "large_puzzle_board = np.array(large_puzzle).reshape(16, 16)"
   ]
  },
  {
   "cell_type": "code",
   "execution_count": 71,
   "id": "35617d94",
   "metadata": {
    "execution": {
     "iopub.execute_input": "2024-03-08T13:50:53.535891Z",
     "iopub.status.busy": "2024-03-08T13:50:53.535681Z",
     "iopub.status.idle": "2024-03-08T13:50:53.637872Z",
     "shell.execute_reply": "2024-03-08T13:50:53.637147Z",
     "shell.execute_reply.started": "2024-03-08T13:50:53.535870Z"
    }
   },
   "outputs": [
    {
     "name": "stdout",
     "output_type": "stream",
     "text": [
      "No further progress can be made using single and unique candidate rules.\n"
     ]
    },
    {
     "data": {
      "text/plain": [
       "array([[14,  8, 12,  0, 13,  0,  5, 15,  7,  0,  1,  4,  0,  0,  0,  0],\n",
       "       [ 2, 15,  1,  0, 11, 12,  7,  0,  3,  0,  5,  8, 13,  4,  0, 14],\n",
       "       [ 7,  4, 16, 13,  0, 14,  3, 10, 12, 15, 11,  9,  0,  0,  0,  6],\n",
       "       [ 0,  3, 10,  0,  9,  0,  0,  0, 16,  2, 13, 14, 12, 15,  0,  7],\n",
       "       [10,  0,  0,  0, 15, 11,  9,  0,  8,  3,  4,  2,  6,  1, 13,  0],\n",
       "       [ 1, 16,  0,  0,  0,  0, 14,  8, 11,  9, 15, 13, 10,  0,  5,  0],\n",
       "       [ 8,  0, 15,  0,  6,  0,  0,  0, 10, 16,  0,  7, 11,  0,  3,  2],\n",
       "       [13,  0, 11,  0, 10,  0,  0,  0,  6,  1,  0,  5,  0,  0,  0, 15],\n",
       "       [ 0,  2,  0, 10,  4,  0, 16, 12, 13,  8,  7,  1,  0,  0,  0, 11],\n",
       "       [ 0,  7,  9,  1, 14,  8, 11,  2,  4, 12,  6,  0, 15,  0,  0, 13],\n",
       "       [ 4,  0,  0, 16,  5,  0,  0,  0, 15, 11,  9,  0,  2,  0,  7,  0],\n",
       "       [ 0, 11,  0,  0,  7,  0, 10,  0, 14,  5,  2, 16,  0,  0,  0,  0],\n",
       "       [11,  6,  5, 14,  0, 10,  0,  9,  2,  4,  3, 15,  7, 13,  0,  0],\n",
       "       [ 9, 10,  3, 15,  0,  4,  6, 13,  5,  7, 16, 11,  0,  2,  0,  0],\n",
       "       [16, 13,  0,  0,  3,  5, 15, 11,  1, 14,  8, 12,  4,  9,  6, 10],\n",
       "       [12,  1,  4,  8, 16,  7,  2, 14,  9, 13, 10,  6,  3, 11, 15,  5]])"
      ]
     },
     "execution_count": 71,
     "metadata": {},
     "output_type": "execute_result"
    }
   ],
   "source": [
    "\n",
    "\n",
    "solved_large_puzzle_iterative = large_puzzle_board.copy()  \n",
    "\n",
    "for i in range(10):\n",
    "    previous_board = solved_large_puzzle_iterative.copy()\n",
    "    solved_large_puzzle_iterative = apply_single_and_unique_candidate_rules(solved_large_puzzle_iterative,4)  \n",
    "    \n",
    "    \n",
    "    if np.array_equal(previous_board, solved_large_puzzle_iterative):\n",
    "        print(\"No further progress can be made using single and unique candidate rules.\")\n",
    "        break\n",
    "\n",
    "\n",
    "solved_large_puzzle_iterative"
   ]
  },
  {
   "cell_type": "markdown",
   "id": "e52bc0e3",
   "metadata": {},
   "source": [
    "I have now loaded a 4x4 Sudoku puzzle and shaped it into a 16x16 board for solving. Applied apply_single_and_unique_candidate_rules repeatedly within a loop, adding a break condition to stop if no changes occur between iterations, indicating the limit of this method's effectiveness."
   ]
  },
  {
   "cell_type": "code",
   "execution_count": 72,
   "id": "180a508e",
   "metadata": {
    "execution": {
     "iopub.execute_input": "2024-03-08T13:50:53.638909Z",
     "iopub.status.busy": "2024-03-08T13:50:53.638691Z",
     "iopub.status.idle": "2024-03-08T13:50:53.652411Z",
     "shell.execute_reply": "2024-03-08T13:50:53.651450Z",
     "shell.execute_reply.started": "2024-03-08T13:50:53.638888Z"
    }
   },
   "outputs": [],
   "source": [
    "def valid_assignment(board, row, col, num, n):\n",
    "    k = n ** 2\n",
    "    # Calculate the starting row and column for the box containing the (row, col) cell.\n",
    "    box_row_start = (row // n) * n\n",
    "    box_col_start = (col // n) * n\n",
    "    \n",
    "    # Check if `num` is already in the given row.\n",
    "    if num in board[row]:  \n",
    "        return False\n",
    "    # Check if `num` is already in the given column.\n",
    "    if num in [board[i][col] for i in range(k)]:  \n",
    "        return False\n",
    "    # Check if `num` is already in the 4x4 box that contains (row, col).\n",
    "    if num in [board[i][j] for i in range(box_row_start, box_row_start+4) for j in range(box_col_start, box_col_start+4)]:  \n",
    "        return False\n",
    "    # If `num` passes all checks, it's a valid assignment for this cell.\n",
    "    return True\n",
    "\n",
    "\n",
    "def unassigned_location(board, k):\n",
    "    \"\"\"Find a cell that is still unassigned.\"\"\"\n",
    "    for row in range(k):\n",
    "        for col in range(k):\n",
    "            if board[row][col] == 0:  # 0 indicates an unassigned cell.\n",
    "                return row, col\n",
    "    return -1, -1\n",
    "\n",
    "\n",
    "def restrict_neighbours(board, neighbours, k, n):\n",
    "    # Initialize candidates for each cell based on the board's state.\n",
    "    candidates = [{num for num in range(1, k+1)} if board[cell//k][cell%k] == 0 else set() for cell in range(k**2)]\n",
    "\n",
    "    # Update candidates based on the numbers already placed on the board.\n",
    "    for cell in range(k**2):\n",
    "        row, col = divmod(cell, k)\n",
    "        if board[row][col] != 0:\n",
    "            for neighbour in neighbours[cell]:\n",
    "                candidates[neighbour].discard(board[row][col])\n",
    "\n",
    "    # Iterate to refine candidates and apply the single candidate rule.\n",
    "    for i in range(10):  # Arbitrary number of iterations to attempt progress.\n",
    "        progress = False\n",
    "        for cell in range(k**2):\n",
    "            row, col = divmod(cell, k)\n",
    "            if len(candidates[cell]) == 1 and board[row][col] == 0:\n",
    "                # Place the number and update candidates.\n",
    "                num = candidates[cell].pop()\n",
    "                board[row][col] = num\n",
    "                for neighbour in neighbours[cell]:\n",
    "                    candidates[neighbour].discard(num)\n",
    "                progress = True\n",
    "\n",
    "        # Apply the unique candidate rule.\n",
    "        for num in range(1, k+1):\n",
    "            for unit in range(k):\n",
    "                check_unique_in_unit(board, candidates, num, unit, 'row', k, n, progress)\n",
    "                check_unique_in_unit(board, candidates, num, unit, 'column', k, n, progress)\n",
    "                check_unique_in_unit(board, candidates, num, unit, 'box', k, n, progress)\n",
    "\n",
    "        if not progress:\n",
    "            break  # Exit if no progress is made in the iteration.\n",
    "\n",
    "    return candidates\n",
    "\n",
    "def optimized_backtracking(board, candidates, n):\n",
    "    # Find the next unassigned location on the Sudoku board. \n",
    "    # If there is no unassigned location, the puzzle is solved.\n",
    "    k = n ** 2\n",
    "    row, col = unassigned_location(board, k)\n",
    "    if row == -1 and col == -1:\n",
    "        return True  # The board is successfully solved.\n",
    "    \n",
    "    # Iterate through the possible numbers for the unassigned cell.\n",
    "    # Numbers are prioritized based on the length of their candidate list to potentially reduce the search space.\n",
    "    for num in sorted(candidates[row*k+col], key=lambda x: len(candidates[x])):\n",
    "        # Check if placing the current number at the current unassigned location is valid.\n",
    "        if valid_assignment(board, row, col, num, n):\n",
    "            board[row][col] = num  # Temporarily assign the number to the cell.\n",
    "            \n",
    "            # Recursively attempt to solve the rest of the board with the current assignment.\n",
    "            # If successful, return True to indicate the puzzle has been solved.\n",
    "            if optimized_backtracking(board, candidates, n):\n",
    "                return True\n",
    "            \n",
    "            # If not successful, backtrack by resetting the cell to unassigned (0) and trying the next number.\n",
    "            board[row][col] = 0\n",
    "            \n",
    "    # Return False if no valid assignment can be found for the current cell, indicating the need to backtrack further.\n",
    "    return False"
   ]
  },
  {
   "cell_type": "markdown",
   "id": "f7c44b4b",
   "metadata": {},
   "source": [
    "\n",
    "This code represents a comprehensive approach to solving Sudoku puzzles, incorporating candidate pruning, and backtracking to ensure an efficient and correct solution. At each step, the code meticulously verifies the validity of the puzzle, updates candidate numbers for each cell based on constraints, and employs a backtracking algorithm to explore possible solutions.\n",
    "\n",
    "The function valid_assignment verifies that a number assignment does not violate Sudoku rules by ensuring the number is not already present in the same row, column, or 4x4 box. This check is fundamental to maintaining the integrity of the puzzle at this stage before backtracking.\n",
    "\n",
    "The restrict_neighbours function updates the set of possible numbers (candidates) for each unassigned cell by removing numbers that are no longer viable based on current board assignments. This pruning process is vital for reducing the search space, making the puzzle easier to solve by focusing only on potential solutions.\n",
    "\n",
    "Backtracking Algorithm: After applying the initial restrictions and ensuring no steps have produced an invalid board state, the code employs a backtracking algorithm. This method systematically explores possible number placements, advancing when successful assignments are made and backtracking when it encounters a dead end. This process continues until the puzzle is solved or determined to be unsolvable.\n",
    "\n",
    "By combining these strategies, the code not only ensures that each step towards solving the puzzle maintains the game's rules but also significantly optimizes the solving process."
   ]
  },
  {
   "cell_type": "code",
   "execution_count": 73,
   "id": "a13d76d4",
   "metadata": {
    "execution": {
     "iopub.execute_input": "2024-03-08T13:50:53.653423Z",
     "iopub.status.busy": "2024-03-08T13:50:53.653220Z",
     "iopub.status.idle": "2024-03-08T13:50:54.071218Z",
     "shell.execute_reply": "2024-03-08T13:50:54.070103Z",
     "shell.execute_reply.started": "2024-03-08T13:50:53.653402Z"
    }
   },
   "outputs": [
    {
     "name": "stdout",
     "output_type": "stream",
     "text": [
      "Sudoku Puzzle Solved Successfully!\n"
     ]
    },
    {
     "data": {
      "text/plain": [
       "array([[14,  8, 12, 11, 13, 16,  5, 15,  7,  6,  1,  4,  9, 10,  2,  3],\n",
       "       [ 2, 15,  1,  9, 11, 12,  7,  6,  3, 10,  5,  8, 13,  4, 16, 14],\n",
       "       [ 7,  4, 16, 13,  2, 14,  3, 10, 12, 15, 11,  9,  1,  5,  8,  6],\n",
       "       [ 6,  3, 10,  5,  9,  1,  8,  4, 16,  2, 13, 14, 12, 15, 11,  7],\n",
       "       [10,  5, 14,  7, 15, 11,  9, 16,  8,  3,  4,  2,  6,  1, 13, 12],\n",
       "       [ 1, 16,  2,  6, 12,  3, 14,  8, 11,  9, 15, 13, 10,  7,  5,  4],\n",
       "       [ 8,  9, 15,  4,  6, 13,  1,  5, 10, 16, 12,  7, 11, 14,  3,  2],\n",
       "       [13, 12, 11,  3, 10,  2,  4,  7,  6,  1, 14,  5, 16,  8,  9, 15],\n",
       "       [15,  2,  6, 10,  4,  9, 16, 12, 13,  8,  7,  1,  5,  3, 14, 11],\n",
       "       [ 5,  7,  9,  1, 14,  8, 11,  2,  4, 12,  6,  3, 15, 16, 10, 13],\n",
       "       [ 4, 14,  8, 16,  5,  6, 13,  3, 15, 11,  9, 10,  2, 12,  7,  1],\n",
       "       [ 3, 11, 13, 12,  7, 15, 10,  1, 14,  5,  2, 16,  8,  6,  4,  9],\n",
       "       [11,  6,  5, 14,  8, 10, 12,  9,  2,  4,  3, 15,  7, 13,  1, 16],\n",
       "       [ 9, 10,  3, 15,  1,  4,  6, 13,  5,  7, 16, 11, 14,  2, 12,  8],\n",
       "       [16, 13,  7,  2,  3,  5, 15, 11,  1, 14,  8, 12,  4,  9,  6, 10],\n",
       "       [12,  1,  4,  8, 16,  7,  2, 14,  9, 13, 10,  6,  3, 11, 15,  5]])"
      ]
     },
     "execution_count": 73,
     "metadata": {},
     "output_type": "execute_result"
    }
   ],
   "source": [
    "neighbours_16x16 = [neighbours_funct(i,4) for i in range(16**2)]\n",
    "\n",
    "restricted_candidates = restrict_neighbours(solved_large_puzzle_iterative.copy(), neighbours_16x16,16,4)\n",
    "\n",
    "if optimized_backtracking(solved_large_puzzle_iterative, restricted_candidates, 4):\n",
    "    print(\"Sudoku Puzzle Solved Successfully!\")\n",
    "else:\n",
    "    print(\"Failed to solve the Sudoku puzzle.\")\n",
    "\n",
    "solved_large_puzzle_iterative"
   ]
  },
  {
   "cell_type": "markdown",
   "id": "981b44dc",
   "metadata": {},
   "source": [
    "After applying our optimization functions to a partially solved 4x4 Sudoku, we then leverage a backtracking technique refined by restricted searches. This approach accelerates the solution process beyond basic brute force, efficiently solving the puzzle."
   ]
  },
  {
   "cell_type": "code",
   "execution_count": 74,
   "id": "6fdb3583",
   "metadata": {
    "execution": {
     "iopub.execute_input": "2024-03-08T13:50:54.072384Z",
     "iopub.status.busy": "2024-03-08T13:50:54.072146Z",
     "iopub.status.idle": "2024-03-08T13:50:54.619367Z",
     "shell.execute_reply": "2024-03-08T13:50:54.618068Z",
     "shell.execute_reply.started": "2024-03-08T13:50:54.072360Z"
    }
   },
   "outputs": [
    {
     "name": "stdout",
     "output_type": "stream",
     "text": [
      "Total execution time: 0.5379350185394287 seconds\n"
     ]
    },
    {
     "data": {
      "text/plain": [
       "array([[14,  8, 12, 11, 13, 16,  5, 15,  7,  6,  1,  4,  9, 10,  2,  3],\n",
       "       [ 2, 15,  1,  9, 11, 12,  7,  6,  3, 10,  5,  8, 13,  4, 16, 14],\n",
       "       [ 7,  4, 16, 13,  2, 14,  3, 10, 12, 15, 11,  9,  1,  5,  8,  6],\n",
       "       [ 6,  3, 10,  5,  9,  1,  8,  4, 16,  2, 13, 14, 12, 15, 11,  7],\n",
       "       [10,  5, 14,  7, 15, 11,  9, 16,  8,  3,  4,  2,  6,  1, 13, 12],\n",
       "       [ 1, 16,  2,  6, 12,  3, 14,  8, 11,  9, 15, 13, 10,  7,  5,  4],\n",
       "       [ 8,  9, 15,  4,  6, 13,  1,  5, 10, 16, 12,  7, 11, 14,  3,  2],\n",
       "       [13, 12, 11,  3, 10,  2,  4,  7,  6,  1, 14,  5, 16,  8,  9, 15],\n",
       "       [15,  2,  6, 10,  4,  9, 16, 12, 13,  8,  7,  1,  5,  3, 14, 11],\n",
       "       [ 5,  7,  9,  1, 14,  8, 11,  2,  4, 12,  6,  3, 15, 16, 10, 13],\n",
       "       [ 4, 14,  8, 16,  5,  6, 13,  3, 15, 11,  9, 10,  2, 12,  7,  1],\n",
       "       [ 3, 11, 13, 12,  7, 15, 10,  1, 14,  5,  2, 16,  8,  6,  4,  9],\n",
       "       [11,  6,  5, 14,  8, 10, 12,  9,  2,  4,  3, 15,  7, 13,  1, 16],\n",
       "       [ 9, 10,  3, 15,  1,  4,  6, 13,  5,  7, 16, 11, 14,  2, 12,  8],\n",
       "       [16, 13,  7,  2,  3,  5, 15, 11,  1, 14,  8, 12,  4,  9,  6, 10],\n",
       "       [12,  1,  4,  8, 16,  7,  2, 14,  9, 13, 10,  6,  3, 11, 15,  5]])"
      ]
     },
     "execution_count": 74,
     "metadata": {},
     "output_type": "execute_result"
    }
   ],
   "source": [
    "start_time = time.time()\n",
    "\n",
    "solved_large_puzzle_timing = large_puzzle_board.copy()  \n",
    "\n",
    "for i in range(10):\n",
    "    previous_board = solved_large_puzzle_timing.copy()\n",
    "    solved_large_puzzle_iterative = apply_single_and_unique_candidate_rules(solved_large_puzzle_timing,4)  \n",
    "    \n",
    "    \n",
    "    if np.array_equal(previous_board, solved_large_puzzle_timing):\n",
    "        break\n",
    "\n",
    "restricted_candidates = restrict_neighbours(solved_large_puzzle_timing.copy(), neighbours_16x16,16,4)\n",
    "\n",
    "optimized_backtracking(solved_large_puzzle_iterative, restricted_candidates, 4)\n",
    "\n",
    "\n",
    "\n",
    "end_time = time.time()\n",
    "\n",
    "print(\"Total execution time:\", end_time - start_time, \"seconds\")\n",
    "\n",
    "solved_large_puzzle_iterative"
   ]
  },
  {
   "cell_type": "markdown",
   "id": "15c1e50b",
   "metadata": {},
   "source": [
    "Due to challenges in integrating all functions into a single definition, the execution time is calculated by segmenting the process, leveraging global functions to enhance clarity and manageability."
   ]
  },
  {
   "cell_type": "markdown",
   "id": "15f5ec9b-7903-43bd-b3df-cd4911e1f3c7",
   "metadata": {},
   "source": [
    "# Who did what?\n",
    "\n",
    "- Anastasiia: Part 1\n",
    "- Ifan: Part 3 - group theoretic approach and why a $n$-Sudoku puzzle can't have a unique solutions if it contains fewer then $n^2-1$ entries, project coordinator\n",
    "- Jan: Part 2\n",
    "- Joe: Part 3 - canonisation\n",
    "- Niharika: Part 4, Solution 1\n",
    "- Mohammed: Shared ideas for part 1 and part 2, discussed Part 4 alongside Niharika and wrote Part 4 solution 2\n"
   ]
  }
 ],
 "metadata": {
  "kernelspec": {
   "display_name": "Python 3 (ipykernel)",
   "language": "python",
   "name": "python3"
  },
  "language_info": {
   "codemirror_mode": {
    "name": "ipython",
    "version": 3
   },
   "file_extension": ".py",
   "mimetype": "text/x-python",
   "name": "python",
   "nbconvert_exporter": "python",
   "pygments_lexer": "ipython3",
   "version": "3.10.5"
  }
 },
 "nbformat": 4,
 "nbformat_minor": 5
}
